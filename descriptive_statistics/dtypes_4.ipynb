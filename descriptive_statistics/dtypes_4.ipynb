{
 "cells": [
  {
   "cell_type": "markdown",
   "source": "## Statistics Dtypes",
   "metadata": {
    "tags": [],
    "cell_id": "b51fd805-e97d-400f-a85f-84ea5804963d",
    "deepnote_cell_type": "markdown"
   }
  },
  {
   "cell_type": "markdown",
   "source": "- Categorical data: Ordinals and nominals. Btw, express categories\n- Numerical data: int, float, etc.",
   "metadata": {
    "cell_id": "adf3ad6d-5bfc-4933-b369-c6e9650e2980",
    "tags": [],
    "deepnote_cell_type": "markdown"
   }
  },
  {
   "cell_type": "markdown",
   "source": "**Example: Working with the Cars dataset**",
   "metadata": {
    "cell_id": "07bb26d0-021c-4537-8888-588aa9c545e8",
    "tags": [],
    "deepnote_cell_type": "markdown"
   }
  },
  {
   "cell_type": "code",
   "metadata": {
    "cell_id": "312c22ac-dbe3-4cc9-951e-f03f33a141ac",
    "tags": [],
    "deepnote_to_be_reexecuted": false,
    "source_hash": "9b82ee11",
    "execution_start": 1644378380937,
    "execution_millis": 9,
    "deepnote_cell_type": "code"
   },
   "source": "import pandas as pd",
   "outputs": [],
   "execution_count": null
  },
  {
   "cell_type": "code",
   "metadata": {
    "cell_id": "68dfba5d-acb7-46b9-81d5-00f942c71e68",
    "tags": [],
    "deepnote_to_be_reexecuted": false,
    "source_hash": "d3442ba7",
    "execution_start": 1644378480560,
    "execution_millis": 774,
    "deepnote_cell_type": "code"
   },
   "source": "df = pd.read_csv('cars.csv')\ndf.head(15)",
   "outputs": [
    {
     "output_type": "execute_result",
     "execution_count": 3,
     "data": {
      "application/vnd.deepnote.dataframe.v3+json": {
       "column_count": 30,
       "row_count": 15,
       "columns": [
        {
         "name": "manufacturer_name",
         "dtype": "object",
         "stats": {
          "unique_count": 1,
          "nan_count": 0,
          "categories": [
           {
            "name": "Subaru",
            "count": 15
           }
          ]
         }
        },
        {
         "name": "model_name",
         "dtype": "object",
         "stats": {
          "unique_count": 6,
          "nan_count": 0,
          "categories": [
           {
            "name": "Outback",
            "count": 5
           },
           {
            "name": "Forester",
            "count": 5
           },
           {
            "name": "4 others",
            "count": 5
           }
          ]
         }
        },
        {
         "name": "transmission",
         "dtype": "object",
         "stats": {
          "unique_count": 2,
          "nan_count": 0,
          "categories": [
           {
            "name": "automatic",
            "count": 11
           },
           {
            "name": "mechanical",
            "count": 4
           }
          ]
         }
        },
        {
         "name": "color",
         "dtype": "object",
         "stats": {
          "unique_count": 7,
          "nan_count": 0,
          "categories": [
           {
            "name": "silver",
            "count": 4
           },
           {
            "name": "blue",
            "count": 2
           },
           {
            "name": "5 others",
            "count": 9
           }
          ]
         }
        },
        {
         "name": "odometer_value",
         "dtype": "int64",
         "stats": {
          "unique_count": 14,
          "nan_count": 0,
          "min": "10000",
          "max": "571317",
          "histogram": [
           {
            "bin_start": 10000,
            "bin_end": 66131.7,
            "count": 2
           },
           {
            "bin_start": 66131.7,
            "bin_end": 122263.4,
            "count": 0
           },
           {
            "bin_start": 122263.4,
            "bin_end": 178395.09999999998,
            "count": 2
           },
           {
            "bin_start": 178395.09999999998,
            "bin_end": 234526.8,
            "count": 2
           },
           {
            "bin_start": 234526.8,
            "bin_end": 290658.5,
            "count": 4
           },
           {
            "bin_start": 290658.5,
            "bin_end": 346790.19999999995,
            "count": 2
           },
           {
            "bin_start": 346790.19999999995,
            "bin_end": 402921.89999999997,
            "count": 2
           },
           {
            "bin_start": 402921.89999999997,
            "bin_end": 459053.6,
            "count": 0
           },
           {
            "bin_start": 459053.6,
            "bin_end": 515185.3,
            "count": 0
           },
           {
            "bin_start": 515185.3,
            "bin_end": 571317,
            "count": 1
           }
          ]
         }
        },
        {
         "name": "year_produced",
         "dtype": "int64",
         "stats": {
          "unique_count": 9,
          "nan_count": 0,
          "min": "1998",
          "max": "2011",
          "histogram": [
           {
            "bin_start": 1998,
            "bin_end": 1999.3,
            "count": 3
           },
           {
            "bin_start": 1999.3,
            "bin_end": 2000.6,
            "count": 0
           },
           {
            "bin_start": 2000.6,
            "bin_end": 2001.9,
            "count": 3
           },
           {
            "bin_start": 2001.9,
            "bin_end": 2003.2,
            "count": 3
           },
           {
            "bin_start": 2003.2,
            "bin_end": 2004.5,
            "count": 1
           },
           {
            "bin_start": 2004.5,
            "bin_end": 2005.8,
            "count": 0
           },
           {
            "bin_start": 2005.8,
            "bin_end": 2007.1,
            "count": 0
           },
           {
            "bin_start": 2007.1,
            "bin_end": 2008.4,
            "count": 1
           },
           {
            "bin_start": 2008.4,
            "bin_end": 2009.7,
            "count": 0
           },
           {
            "bin_start": 2009.7,
            "bin_end": 2011,
            "count": 4
           }
          ]
         }
        },
        {
         "name": "engine_fuel",
         "dtype": "object",
         "stats": {
          "unique_count": 1,
          "nan_count": 0,
          "categories": [
           {
            "name": "gasoline",
            "count": 15
           }
          ]
         }
        },
        {
         "name": "engine_has_gas",
         "dtype": "bool",
         "stats": {
          "unique_count": 1,
          "nan_count": 0,
          "categories": [
           {
            "name": "False",
            "count": 15
           }
          ]
         }
        },
        {
         "name": "engine_type",
         "dtype": "object",
         "stats": {
          "unique_count": 1,
          "nan_count": 0,
          "categories": [
           {
            "name": "gasoline",
            "count": 15
           }
          ]
         }
        },
        {
         "name": "engine_capacity",
         "dtype": "float64",
         "stats": {
          "unique_count": 5,
          "nan_count": 0,
          "min": "1.3",
          "max": "3.6",
          "histogram": [
           {
            "bin_start": 1.3,
            "bin_end": 1.53,
            "count": 1
           },
           {
            "bin_start": 1.53,
            "bin_end": 1.76,
            "count": 0
           },
           {
            "bin_start": 1.76,
            "bin_end": 1.99,
            "count": 0
           },
           {
            "bin_start": 1.99,
            "bin_end": 2.2199999999999998,
            "count": 2
           },
           {
            "bin_start": 2.2199999999999998,
            "bin_end": 2.45,
            "count": 0
           },
           {
            "bin_start": 2.45,
            "bin_end": 2.6799999999999997,
            "count": 9
           },
           {
            "bin_start": 2.6799999999999997,
            "bin_end": 2.91,
            "count": 0
           },
           {
            "bin_start": 2.91,
            "bin_end": 3.1399999999999997,
            "count": 2
           },
           {
            "bin_start": 3.1399999999999997,
            "bin_end": 3.37,
            "count": 0
           },
           {
            "bin_start": 3.37,
            "bin_end": 3.6,
            "count": 1
           }
          ]
         }
        },
        {
         "name": "body_type",
         "dtype": "object",
         "stats": {
          "unique_count": 4,
          "nan_count": 0,
          "categories": [
           {
            "name": "universal",
            "count": 8
           },
           {
            "name": "suv",
            "count": 4
           },
           {
            "name": "2 others",
            "count": 3
           }
          ]
         }
        },
        {
         "name": "has_warranty",
         "dtype": "bool",
         "stats": {
          "unique_count": 1,
          "nan_count": 0,
          "categories": [
           {
            "name": "False",
            "count": 15
           }
          ]
         }
        },
        {
         "name": "state",
         "dtype": "object",
         "stats": {
          "unique_count": 1,
          "nan_count": 0,
          "categories": [
           {
            "name": "owned",
            "count": 15
           }
          ]
         }
        },
        {
         "name": "drivetrain",
         "dtype": "object",
         "stats": {
          "unique_count": 1,
          "nan_count": 0,
          "categories": [
           {
            "name": "all",
            "count": 15
           }
          ]
         }
        },
        {
         "name": "price_usd",
         "dtype": "float64",
         "stats": {
          "unique_count": 15,
          "nan_count": 0,
          "min": "1666.0",
          "max": "14700.0",
          "histogram": [
           {
            "bin_start": 1666,
            "bin_end": 2969.4,
            "count": 3
           },
           {
            "bin_start": 2969.4,
            "bin_end": 4272.8,
            "count": 2
           },
           {
            "bin_start": 4272.8,
            "bin_end": 5576.200000000001,
            "count": 3
           },
           {
            "bin_start": 5576.200000000001,
            "bin_end": 6879.6,
            "count": 0
           },
           {
            "bin_start": 6879.6,
            "bin_end": 8183,
            "count": 1
           },
           {
            "bin_start": 8183,
            "bin_end": 9486.400000000001,
            "count": 2
           },
           {
            "bin_start": 9486.400000000001,
            "bin_end": 10789.800000000001,
            "count": 1
           },
           {
            "bin_start": 10789.800000000001,
            "bin_end": 12093.2,
            "count": 1
           },
           {
            "bin_start": 12093.2,
            "bin_end": 13396.6,
            "count": 1
           },
           {
            "bin_start": 13396.6,
            "bin_end": 14700,
            "count": 1
           }
          ]
         }
        },
        {
         "name": "is_exchangeable",
         "dtype": "bool",
         "stats": {
          "unique_count": 2,
          "nan_count": 0,
          "categories": [
           {
            "name": "True",
            "count": 10
           },
           {
            "name": "False",
            "count": 5
           }
          ]
         }
        },
        {
         "name": "location_region",
         "dtype": "object",
         "stats": {
          "unique_count": 3,
          "nan_count": 0,
          "categories": [
           {
            "name": "Минская обл.",
            "count": 12
           },
           {
            "name": "Гомельская обл.",
            "count": 2
           },
           {
            "name": "Брестская обл.",
            "count": 1
           }
          ]
         }
        },
        {
         "name": "number_of_photos",
         "dtype": "int64",
         "stats": {
          "unique_count": 11,
          "nan_count": 0,
          "min": "4",
          "max": "24",
          "histogram": [
           {
            "bin_start": 4,
            "bin_end": 6,
            "count": 1
           },
           {
            "bin_start": 6,
            "bin_end": 8,
            "count": 1
           },
           {
            "bin_start": 8,
            "bin_end": 10,
            "count": 5
           },
           {
            "bin_start": 10,
            "bin_end": 12,
            "count": 0
           },
           {
            "bin_start": 12,
            "bin_end": 14,
            "count": 2
           },
           {
            "bin_start": 14,
            "bin_end": 16,
            "count": 2
           },
           {
            "bin_start": 16,
            "bin_end": 18,
            "count": 1
           },
           {
            "bin_start": 18,
            "bin_end": 20,
            "count": 1
           },
           {
            "bin_start": 20,
            "bin_end": 22,
            "count": 1
           },
           {
            "bin_start": 22,
            "bin_end": 24,
            "count": 1
           }
          ]
         }
        },
        {
         "name": "up_counter",
         "dtype": "int64",
         "stats": {
          "unique_count": 15,
          "nan_count": 0,
          "min": "2",
          "max": "147",
          "histogram": [
           {
            "bin_start": 2,
            "bin_end": 16.5,
            "count": 5
           },
           {
            "bin_start": 16.5,
            "bin_end": 31,
            "count": 1
           },
           {
            "bin_start": 31,
            "bin_end": 45.5,
            "count": 3
           },
           {
            "bin_start": 45.5,
            "bin_end": 60,
            "count": 2
           },
           {
            "bin_start": 60,
            "bin_end": 74.5,
            "count": 2
           },
           {
            "bin_start": 74.5,
            "bin_end": 89,
            "count": 0
           },
           {
            "bin_start": 89,
            "bin_end": 103.5,
            "count": 1
           },
           {
            "bin_start": 103.5,
            "bin_end": 118,
            "count": 0
           },
           {
            "bin_start": 118,
            "bin_end": 132.5,
            "count": 0
           },
           {
            "bin_start": 132.5,
            "bin_end": 147,
            "count": 1
           }
          ]
         }
        },
        {
         "name": "feature_0",
         "dtype": "bool",
         "stats": {
          "unique_count": 2,
          "nan_count": 0,
          "categories": [
           {
            "name": "False",
            "count": 13
           },
           {
            "name": "True",
            "count": 2
           }
          ]
         }
        },
        {
         "name": "feature_1",
         "dtype": "bool",
         "stats": {
          "unique_count": 2,
          "nan_count": 0,
          "categories": [
           {
            "name": "True",
            "count": 13
           },
           {
            "name": "False",
            "count": 2
           }
          ]
         }
        },
        {
         "name": "feature_2",
         "dtype": "bool",
         "stats": {
          "unique_count": 2,
          "nan_count": 0,
          "categories": [
           {
            "name": "False",
            "count": 10
           },
           {
            "name": "True",
            "count": 5
           }
          ]
         }
        },
        {
         "name": "feature_3",
         "dtype": "bool",
         "stats": {
          "unique_count": 2,
          "nan_count": 0,
          "categories": [
           {
            "name": "False",
            "count": 9
           },
           {
            "name": "True",
            "count": 6
           }
          ]
         }
        },
        {
         "name": "feature_4",
         "dtype": "bool",
         "stats": {
          "unique_count": 2,
          "nan_count": 0,
          "categories": [
           {
            "name": "False",
            "count": 10
           },
           {
            "name": "True",
            "count": 5
           }
          ]
         }
        },
        {
         "name": "feature_5",
         "dtype": "bool",
         "stats": {
          "unique_count": 2,
          "nan_count": 0,
          "categories": [
           {
            "name": "True",
            "count": 8
           },
           {
            "name": "False",
            "count": 7
           }
          ]
         }
        },
        {
         "name": "feature_6",
         "dtype": "bool",
         "stats": {
          "unique_count": 2,
          "nan_count": 0,
          "categories": [
           {
            "name": "False",
            "count": 14
           },
           {
            "name": "True",
            "count": 1
           }
          ]
         }
        },
        {
         "name": "feature_7",
         "dtype": "bool",
         "stats": {
          "unique_count": 2,
          "nan_count": 0,
          "categories": [
           {
            "name": "False",
            "count": 11
           },
           {
            "name": "True",
            "count": 4
           }
          ]
         }
        },
        {
         "name": "feature_8",
         "dtype": "bool",
         "stats": {
          "unique_count": 2,
          "nan_count": 0,
          "categories": [
           {
            "name": "True",
            "count": 8
           },
           {
            "name": "False",
            "count": 7
           }
          ]
         }
        },
        {
         "name": "feature_9",
         "dtype": "bool",
         "stats": {
          "unique_count": 2,
          "nan_count": 0,
          "categories": [
           {
            "name": "True",
            "count": 12
           },
           {
            "name": "False",
            "count": 3
           }
          ]
         }
        },
        {
         "name": "duration_listed",
         "dtype": "int64",
         "stats": {
          "unique_count": 15,
          "nan_count": 0,
          "min": "2",
          "max": "307",
          "histogram": [
           {
            "bin_start": 2,
            "bin_end": 32.5,
            "count": 4
           },
           {
            "bin_start": 32.5,
            "bin_end": 63,
            "count": 1
           },
           {
            "bin_start": 63,
            "bin_end": 93.5,
            "count": 7
           },
           {
            "bin_start": 93.5,
            "bin_end": 124,
            "count": 0
           },
           {
            "bin_start": 124,
            "bin_end": 154.5,
            "count": 1
           },
           {
            "bin_start": 154.5,
            "bin_end": 185,
            "count": 0
           },
           {
            "bin_start": 185,
            "bin_end": 215.5,
            "count": 0
           },
           {
            "bin_start": 215.5,
            "bin_end": 246,
            "count": 1
           },
           {
            "bin_start": 246,
            "bin_end": 276.5,
            "count": 0
           },
           {
            "bin_start": 276.5,
            "bin_end": 307,
            "count": 1
           }
          ]
         }
        },
        {
         "name": "_deepnote_index_column",
         "dtype": "int64"
        }
       ],
       "rows": [
        {
         "manufacturer_name": "Subaru",
         "model_name": "Outback",
         "transmission": "automatic",
         "color": "silver",
         "odometer_value": 190000,
         "year_produced": 2010,
         "engine_fuel": "gasoline",
         "engine_has_gas": false,
         "engine_type": "gasoline",
         "engine_capacity": 2.5,
         "body_type": "universal",
         "has_warranty": false,
         "state": "owned",
         "drivetrain": "all",
         "price_usd": 10900,
         "is_exchangeable": false,
         "location_region": "Минская обл.",
         "number_of_photos": 9,
         "up_counter": 13,
         "feature_0": false,
         "feature_1": true,
         "feature_2": true,
         "feature_3": true,
         "feature_4": false,
         "feature_5": true,
         "feature_6": false,
         "feature_7": true,
         "feature_8": true,
         "feature_9": true,
         "duration_listed": 16,
         "_deepnote_index_column": 0
        },
        {
         "manufacturer_name": "Subaru",
         "model_name": "Outback",
         "transmission": "automatic",
         "color": "blue",
         "odometer_value": 290000,
         "year_produced": 2002,
         "engine_fuel": "gasoline",
         "engine_has_gas": false,
         "engine_type": "gasoline",
         "engine_capacity": 3,
         "body_type": "universal",
         "has_warranty": false,
         "state": "owned",
         "drivetrain": "all",
         "price_usd": 5000,
         "is_exchangeable": true,
         "location_region": "Минская обл.",
         "number_of_photos": 12,
         "up_counter": 54,
         "feature_0": false,
         "feature_1": true,
         "feature_2": false,
         "feature_3": false,
         "feature_4": true,
         "feature_5": true,
         "feature_6": false,
         "feature_7": false,
         "feature_8": false,
         "feature_9": true,
         "duration_listed": 83,
         "_deepnote_index_column": 1
        },
        {
         "manufacturer_name": "Subaru",
         "model_name": "Forester",
         "transmission": "automatic",
         "color": "red",
         "odometer_value": 402000,
         "year_produced": 2001,
         "engine_fuel": "gasoline",
         "engine_has_gas": false,
         "engine_type": "gasoline",
         "engine_capacity": 2.5,
         "body_type": "suv",
         "has_warranty": false,
         "state": "owned",
         "drivetrain": "all",
         "price_usd": 2800,
         "is_exchangeable": true,
         "location_region": "Минская обл.",
         "number_of_photos": 4,
         "up_counter": 72,
         "feature_0": false,
         "feature_1": true,
         "feature_2": false,
         "feature_3": false,
         "feature_4": false,
         "feature_5": false,
         "feature_6": false,
         "feature_7": false,
         "feature_8": true,
         "feature_9": true,
         "duration_listed": 151,
         "_deepnote_index_column": 2
        },
        {
         "manufacturer_name": "Subaru",
         "model_name": "Impreza",
         "transmission": "mechanical",
         "color": "blue",
         "odometer_value": 10000,
         "year_produced": 1999,
         "engine_fuel": "gasoline",
         "engine_has_gas": false,
         "engine_type": "gasoline",
         "engine_capacity": 3,
         "body_type": "sedan",
         "has_warranty": false,
         "state": "owned",
         "drivetrain": "all",
         "price_usd": 9999,
         "is_exchangeable": true,
         "location_region": "Минская обл.",
         "number_of_photos": 9,
         "up_counter": 42,
         "feature_0": true,
         "feature_1": false,
         "feature_2": false,
         "feature_3": false,
         "feature_4": false,
         "feature_5": false,
         "feature_6": false,
         "feature_7": false,
         "feature_8": false,
         "feature_9": false,
         "duration_listed": 86,
         "_deepnote_index_column": 3
        },
        {
         "manufacturer_name": "Subaru",
         "model_name": "Legacy",
         "transmission": "automatic",
         "color": "black",
         "odometer_value": 280000,
         "year_produced": 2001,
         "engine_fuel": "gasoline",
         "engine_has_gas": false,
         "engine_type": "gasoline",
         "engine_capacity": 2.5,
         "body_type": "universal",
         "has_warranty": false,
         "state": "owned",
         "drivetrain": "all",
         "price_usd": 2134.11,
         "is_exchangeable": true,
         "location_region": "Гомельская обл.",
         "number_of_photos": 14,
         "up_counter": 7,
         "feature_0": false,
         "feature_1": true,
         "feature_2": false,
         "feature_3": true,
         "feature_4": true,
         "feature_5": false,
         "feature_6": false,
         "feature_7": false,
         "feature_8": false,
         "feature_9": true,
         "duration_listed": 7,
         "_deepnote_index_column": 4
        },
        {
         "manufacturer_name": "Subaru",
         "model_name": "Outback",
         "transmission": "automatic",
         "color": "silver",
         "odometer_value": 132449,
         "year_produced": 2011,
         "engine_fuel": "gasoline",
         "engine_has_gas": false,
         "engine_type": "gasoline",
         "engine_capacity": 2.5,
         "body_type": "universal",
         "has_warranty": false,
         "state": "owned",
         "drivetrain": "all",
         "price_usd": 14700,
         "is_exchangeable": true,
         "location_region": "Минская обл.",
         "number_of_photos": 20,
         "up_counter": 56,
         "feature_0": false,
         "feature_1": true,
         "feature_2": false,
         "feature_3": false,
         "feature_4": false,
         "feature_5": true,
         "feature_6": false,
         "feature_7": true,
         "feature_8": true,
         "feature_9": true,
         "duration_listed": 67,
         "_deepnote_index_column": 5
        },
        {
         "manufacturer_name": "Subaru",
         "model_name": "Forester",
         "transmission": "automatic",
         "color": "black",
         "odometer_value": 318280,
         "year_produced": 1998,
         "engine_fuel": "gasoline",
         "engine_has_gas": false,
         "engine_type": "gasoline",
         "engine_capacity": 2.5,
         "body_type": "universal",
         "has_warranty": false,
         "state": "owned",
         "drivetrain": "all",
         "price_usd": 3000,
         "is_exchangeable": true,
         "location_region": "Минская обл.",
         "number_of_photos": 8,
         "up_counter": 147,
         "feature_0": false,
         "feature_1": true,
         "feature_2": false,
         "feature_3": false,
         "feature_4": true,
         "feature_5": true,
         "feature_6": false,
         "feature_7": false,
         "feature_8": true,
         "feature_9": true,
         "duration_listed": 307,
         "_deepnote_index_column": 6
        },
        {
         "manufacturer_name": "Subaru",
         "model_name": "Legacy",
         "transmission": "automatic",
         "color": "silver",
         "odometer_value": 350000,
         "year_produced": 2004,
         "engine_fuel": "gasoline",
         "engine_has_gas": false,
         "engine_type": "gasoline",
         "engine_capacity": 2.5,
         "body_type": "sedan",
         "has_warranty": false,
         "state": "owned",
         "drivetrain": "all",
         "price_usd": 4500,
         "is_exchangeable": false,
         "location_region": "Брестская обл.",
         "number_of_photos": 7,
         "up_counter": 29,
         "feature_0": false,
         "feature_1": true,
         "feature_2": true,
         "feature_3": false,
         "feature_4": false,
         "feature_5": false,
         "feature_6": false,
         "feature_7": false,
         "feature_8": false,
         "feature_9": true,
         "duration_listed": 73,
         "_deepnote_index_column": 7
        },
        {
         "manufacturer_name": "Subaru",
         "model_name": "Outback",
         "transmission": "automatic",
         "color": "grey",
         "odometer_value": 179000,
         "year_produced": 2010,
         "engine_fuel": "gasoline",
         "engine_has_gas": false,
         "engine_type": "gasoline",
         "engine_capacity": 2.5,
         "body_type": "universal",
         "has_warranty": false,
         "state": "owned",
         "drivetrain": "all",
         "price_usd": 12900,
         "is_exchangeable": false,
         "location_region": "Минская обл.",
         "number_of_photos": 17,
         "up_counter": 33,
         "feature_0": false,
         "feature_1": true,
         "feature_2": true,
         "feature_3": true,
         "feature_4": true,
         "feature_5": true,
         "feature_6": true,
         "feature_7": true,
         "feature_8": true,
         "feature_9": true,
         "duration_listed": 87,
         "_deepnote_index_column": 8
        },
        {
         "manufacturer_name": "Subaru",
         "model_name": "Forester",
         "transmission": "automatic",
         "color": "silver",
         "odometer_value": 571317,
         "year_produced": 1999,
         "engine_fuel": "gasoline",
         "engine_has_gas": false,
         "engine_type": "gasoline",
         "engine_capacity": 2.5,
         "body_type": "universal",
         "has_warranty": false,
         "state": "owned",
         "drivetrain": "all",
         "price_usd": 4200,
         "is_exchangeable": true,
         "location_region": "Минская обл.",
         "number_of_photos": 8,
         "up_counter": 11,
         "feature_0": false,
         "feature_1": true,
         "feature_2": true,
         "feature_3": false,
         "feature_4": false,
         "feature_5": true,
         "feature_6": false,
         "feature_7": false,
         "feature_8": false,
         "feature_9": true,
         "duration_listed": 43,
         "_deepnote_index_column": 9
        }
       ]
      },
      "text/plain": "   manufacturer_name model_name transmission   color  odometer_value  \\\n0             Subaru    Outback    automatic  silver          190000   \n1             Subaru    Outback    automatic    blue          290000   \n2             Subaru   Forester    automatic     red          402000   \n3             Subaru    Impreza   mechanical    blue           10000   \n4             Subaru     Legacy    automatic   black          280000   \n5             Subaru    Outback    automatic  silver          132449   \n6             Subaru   Forester    automatic   black          318280   \n7             Subaru     Legacy    automatic  silver          350000   \n8             Subaru    Outback    automatic    grey          179000   \n9             Subaru   Forester    automatic  silver          571317   \n10            Subaru   Forester   mechanical   other          280000   \n11            Subaru    Tribeca    automatic    grey          256000   \n12            Subaru   Forester   mechanical   other          321000   \n13            Subaru      Justy   mechanical     red           49999   \n14            Subaru    Outback    automatic   brown          154685   \n\n    year_produced engine_fuel  engine_has_gas engine_type  engine_capacity  \\\n0            2010    gasoline           False    gasoline              2.5   \n1            2002    gasoline           False    gasoline              3.0   \n2            2001    gasoline           False    gasoline              2.5   \n3            1999    gasoline           False    gasoline              3.0   \n4            2001    gasoline           False    gasoline              2.5   \n5            2011    gasoline           False    gasoline              2.5   \n6            1998    gasoline           False    gasoline              2.5   \n7            2004    gasoline           False    gasoline              2.5   \n8            2010    gasoline           False    gasoline              2.5   \n9            1999    gasoline           False    gasoline              2.5   \n10           2003    gasoline           False    gasoline              2.0   \n11           2008    gasoline           False    gasoline              3.6   \n12           2002    gasoline           False    gasoline              2.0   \n13           2001    gasoline           False    gasoline              1.3   \n14           2011    gasoline           False    gasoline              2.5   \n\n    ... feature_1  feature_2 feature_3 feature_4  feature_5  feature_6  \\\n0   ...      True       True      True     False       True      False   \n1   ...      True      False     False      True       True      False   \n2   ...      True      False     False     False      False      False   \n3   ...     False      False     False     False      False      False   \n4   ...      True      False      True      True      False      False   \n5   ...      True      False     False     False       True      False   \n6   ...      True      False     False      True       True      False   \n7   ...      True       True     False     False      False      False   \n8   ...      True       True      True      True       True       True   \n9   ...      True       True     False     False       True      False   \n10  ...      True      False      True     False       True      False   \n11  ...      True       True      True      True       True      False   \n12  ...      True      False     False     False      False      False   \n13  ...     False      False     False     False      False      False   \n14  ...      True      False      True     False      False      False   \n\n   feature_7  feature_8  feature_9  duration_listed  \n0       True       True       True               16  \n1      False      False       True               83  \n2      False       True       True              151  \n3      False      False      False               86  \n4      False      False       True                7  \n5       True       True       True               67  \n6      False       True       True              307  \n7      False      False       True               73  \n8       True       True       True               87  \n9      False      False       True               43  \n10      True       True       True               11  \n11     False       True       True               80  \n12     False      False      False                2  \n13     False      False      False              230  \n14     False       True       True               63  \n\n[15 rows x 30 columns]",
      "text/html": "<div>\n<style scoped>\n    .dataframe tbody tr th:only-of-type {\n        vertical-align: middle;\n    }\n\n    .dataframe tbody tr th {\n        vertical-align: top;\n    }\n\n    .dataframe thead th {\n        text-align: right;\n    }\n</style>\n<table border=\"1\" class=\"dataframe\">\n  <thead>\n    <tr style=\"text-align: right;\">\n      <th></th>\n      <th>manufacturer_name</th>\n      <th>model_name</th>\n      <th>transmission</th>\n      <th>color</th>\n      <th>odometer_value</th>\n      <th>year_produced</th>\n      <th>engine_fuel</th>\n      <th>engine_has_gas</th>\n      <th>engine_type</th>\n      <th>engine_capacity</th>\n      <th>...</th>\n      <th>feature_1</th>\n      <th>feature_2</th>\n      <th>feature_3</th>\n      <th>feature_4</th>\n      <th>feature_5</th>\n      <th>feature_6</th>\n      <th>feature_7</th>\n      <th>feature_8</th>\n      <th>feature_9</th>\n      <th>duration_listed</th>\n    </tr>\n  </thead>\n  <tbody>\n    <tr>\n      <th>0</th>\n      <td>Subaru</td>\n      <td>Outback</td>\n      <td>automatic</td>\n      <td>silver</td>\n      <td>190000</td>\n      <td>2010</td>\n      <td>gasoline</td>\n      <td>False</td>\n      <td>gasoline</td>\n      <td>2.5</td>\n      <td>...</td>\n      <td>True</td>\n      <td>True</td>\n      <td>True</td>\n      <td>False</td>\n      <td>True</td>\n      <td>False</td>\n      <td>True</td>\n      <td>True</td>\n      <td>True</td>\n      <td>16</td>\n    </tr>\n    <tr>\n      <th>1</th>\n      <td>Subaru</td>\n      <td>Outback</td>\n      <td>automatic</td>\n      <td>blue</td>\n      <td>290000</td>\n      <td>2002</td>\n      <td>gasoline</td>\n      <td>False</td>\n      <td>gasoline</td>\n      <td>3.0</td>\n      <td>...</td>\n      <td>True</td>\n      <td>False</td>\n      <td>False</td>\n      <td>True</td>\n      <td>True</td>\n      <td>False</td>\n      <td>False</td>\n      <td>False</td>\n      <td>True</td>\n      <td>83</td>\n    </tr>\n    <tr>\n      <th>2</th>\n      <td>Subaru</td>\n      <td>Forester</td>\n      <td>automatic</td>\n      <td>red</td>\n      <td>402000</td>\n      <td>2001</td>\n      <td>gasoline</td>\n      <td>False</td>\n      <td>gasoline</td>\n      <td>2.5</td>\n      <td>...</td>\n      <td>True</td>\n      <td>False</td>\n      <td>False</td>\n      <td>False</td>\n      <td>False</td>\n      <td>False</td>\n      <td>False</td>\n      <td>True</td>\n      <td>True</td>\n      <td>151</td>\n    </tr>\n    <tr>\n      <th>3</th>\n      <td>Subaru</td>\n      <td>Impreza</td>\n      <td>mechanical</td>\n      <td>blue</td>\n      <td>10000</td>\n      <td>1999</td>\n      <td>gasoline</td>\n      <td>False</td>\n      <td>gasoline</td>\n      <td>3.0</td>\n      <td>...</td>\n      <td>False</td>\n      <td>False</td>\n      <td>False</td>\n      <td>False</td>\n      <td>False</td>\n      <td>False</td>\n      <td>False</td>\n      <td>False</td>\n      <td>False</td>\n      <td>86</td>\n    </tr>\n    <tr>\n      <th>4</th>\n      <td>Subaru</td>\n      <td>Legacy</td>\n      <td>automatic</td>\n      <td>black</td>\n      <td>280000</td>\n      <td>2001</td>\n      <td>gasoline</td>\n      <td>False</td>\n      <td>gasoline</td>\n      <td>2.5</td>\n      <td>...</td>\n      <td>True</td>\n      <td>False</td>\n      <td>True</td>\n      <td>True</td>\n      <td>False</td>\n      <td>False</td>\n      <td>False</td>\n      <td>False</td>\n      <td>True</td>\n      <td>7</td>\n    </tr>\n    <tr>\n      <th>5</th>\n      <td>Subaru</td>\n      <td>Outback</td>\n      <td>automatic</td>\n      <td>silver</td>\n      <td>132449</td>\n      <td>2011</td>\n      <td>gasoline</td>\n      <td>False</td>\n      <td>gasoline</td>\n      <td>2.5</td>\n      <td>...</td>\n      <td>True</td>\n      <td>False</td>\n      <td>False</td>\n      <td>False</td>\n      <td>True</td>\n      <td>False</td>\n      <td>True</td>\n      <td>True</td>\n      <td>True</td>\n      <td>67</td>\n    </tr>\n    <tr>\n      <th>6</th>\n      <td>Subaru</td>\n      <td>Forester</td>\n      <td>automatic</td>\n      <td>black</td>\n      <td>318280</td>\n      <td>1998</td>\n      <td>gasoline</td>\n      <td>False</td>\n      <td>gasoline</td>\n      <td>2.5</td>\n      <td>...</td>\n      <td>True</td>\n      <td>False</td>\n      <td>False</td>\n      <td>True</td>\n      <td>True</td>\n      <td>False</td>\n      <td>False</td>\n      <td>True</td>\n      <td>True</td>\n      <td>307</td>\n    </tr>\n    <tr>\n      <th>7</th>\n      <td>Subaru</td>\n      <td>Legacy</td>\n      <td>automatic</td>\n      <td>silver</td>\n      <td>350000</td>\n      <td>2004</td>\n      <td>gasoline</td>\n      <td>False</td>\n      <td>gasoline</td>\n      <td>2.5</td>\n      <td>...</td>\n      <td>True</td>\n      <td>True</td>\n      <td>False</td>\n      <td>False</td>\n      <td>False</td>\n      <td>False</td>\n      <td>False</td>\n      <td>False</td>\n      <td>True</td>\n      <td>73</td>\n    </tr>\n    <tr>\n      <th>8</th>\n      <td>Subaru</td>\n      <td>Outback</td>\n      <td>automatic</td>\n      <td>grey</td>\n      <td>179000</td>\n      <td>2010</td>\n      <td>gasoline</td>\n      <td>False</td>\n      <td>gasoline</td>\n      <td>2.5</td>\n      <td>...</td>\n      <td>True</td>\n      <td>True</td>\n      <td>True</td>\n      <td>True</td>\n      <td>True</td>\n      <td>True</td>\n      <td>True</td>\n      <td>True</td>\n      <td>True</td>\n      <td>87</td>\n    </tr>\n    <tr>\n      <th>9</th>\n      <td>Subaru</td>\n      <td>Forester</td>\n      <td>automatic</td>\n      <td>silver</td>\n      <td>571317</td>\n      <td>1999</td>\n      <td>gasoline</td>\n      <td>False</td>\n      <td>gasoline</td>\n      <td>2.5</td>\n      <td>...</td>\n      <td>True</td>\n      <td>True</td>\n      <td>False</td>\n      <td>False</td>\n      <td>True</td>\n      <td>False</td>\n      <td>False</td>\n      <td>False</td>\n      <td>True</td>\n      <td>43</td>\n    </tr>\n    <tr>\n      <th>10</th>\n      <td>Subaru</td>\n      <td>Forester</td>\n      <td>mechanical</td>\n      <td>other</td>\n      <td>280000</td>\n      <td>2003</td>\n      <td>gasoline</td>\n      <td>False</td>\n      <td>gasoline</td>\n      <td>2.0</td>\n      <td>...</td>\n      <td>True</td>\n      <td>False</td>\n      <td>True</td>\n      <td>False</td>\n      <td>True</td>\n      <td>False</td>\n      <td>True</td>\n      <td>True</td>\n      <td>True</td>\n      <td>11</td>\n    </tr>\n    <tr>\n      <th>11</th>\n      <td>Subaru</td>\n      <td>Tribeca</td>\n      <td>automatic</td>\n      <td>grey</td>\n      <td>256000</td>\n      <td>2008</td>\n      <td>gasoline</td>\n      <td>False</td>\n      <td>gasoline</td>\n      <td>3.6</td>\n      <td>...</td>\n      <td>True</td>\n      <td>True</td>\n      <td>True</td>\n      <td>True</td>\n      <td>True</td>\n      <td>False</td>\n      <td>False</td>\n      <td>True</td>\n      <td>True</td>\n      <td>80</td>\n    </tr>\n    <tr>\n      <th>12</th>\n      <td>Subaru</td>\n      <td>Forester</td>\n      <td>mechanical</td>\n      <td>other</td>\n      <td>321000</td>\n      <td>2002</td>\n      <td>gasoline</td>\n      <td>False</td>\n      <td>gasoline</td>\n      <td>2.0</td>\n      <td>...</td>\n      <td>True</td>\n      <td>False</td>\n      <td>False</td>\n      <td>False</td>\n      <td>False</td>\n      <td>False</td>\n      <td>False</td>\n      <td>False</td>\n      <td>False</td>\n      <td>2</td>\n    </tr>\n    <tr>\n      <th>13</th>\n      <td>Subaru</td>\n      <td>Justy</td>\n      <td>mechanical</td>\n      <td>red</td>\n      <td>49999</td>\n      <td>2001</td>\n      <td>gasoline</td>\n      <td>False</td>\n      <td>gasoline</td>\n      <td>1.3</td>\n      <td>...</td>\n      <td>False</td>\n      <td>False</td>\n      <td>False</td>\n      <td>False</td>\n      <td>False</td>\n      <td>False</td>\n      <td>False</td>\n      <td>False</td>\n      <td>False</td>\n      <td>230</td>\n    </tr>\n    <tr>\n      <th>14</th>\n      <td>Subaru</td>\n      <td>Outback</td>\n      <td>automatic</td>\n      <td>brown</td>\n      <td>154685</td>\n      <td>2011</td>\n      <td>gasoline</td>\n      <td>False</td>\n      <td>gasoline</td>\n      <td>2.5</td>\n      <td>...</td>\n      <td>True</td>\n      <td>False</td>\n      <td>True</td>\n      <td>False</td>\n      <td>False</td>\n      <td>False</td>\n      <td>False</td>\n      <td>True</td>\n      <td>True</td>\n      <td>63</td>\n    </tr>\n  </tbody>\n</table>\n<p>15 rows × 30 columns</p>\n</div>"
     },
     "metadata": {}
    }
   ],
   "execution_count": null
  },
  {
   "cell_type": "code",
   "metadata": {
    "cell_id": "9ca0ce08-008c-4a25-8942-21a07a6deeb2",
    "tags": [],
    "deepnote_to_be_reexecuted": false,
    "source_hash": "52430027",
    "execution_start": 1644378544841,
    "execution_millis": 264,
    "deepnote_output_heights": [
     597
    ],
    "deepnote_cell_type": "code"
   },
   "source": "df.dtypes",
   "outputs": [
    {
     "output_type": "execute_result",
     "execution_count": 4,
     "data": {
      "text/plain": "manufacturer_name     object\nmodel_name            object\ntransmission          object\ncolor                 object\nodometer_value         int64\nyear_produced          int64\nengine_fuel           object\nengine_has_gas          bool\nengine_type           object\nengine_capacity      float64\nbody_type             object\nhas_warranty            bool\nstate                 object\ndrivetrain            object\nprice_usd            float64\nis_exchangeable         bool\nlocation_region       object\nnumber_of_photos       int64\nup_counter             int64\nfeature_0               bool\nfeature_1               bool\nfeature_2               bool\nfeature_3               bool\nfeature_4               bool\nfeature_5               bool\nfeature_6               bool\nfeature_7               bool\nfeature_8               bool\nfeature_9               bool\nduration_listed        int64\ndtype: object"
     },
     "metadata": {}
    }
   ],
   "execution_count": null
  },
  {
   "cell_type": "markdown",
   "source": "- As you could see categorical vars are object and bool. As long as you have text you're gonna see an object var\n\n- Numerical vars are: int and float.",
   "metadata": {
    "cell_id": "3c97eb4f-921b-4e52-b60d-17378fb78fbe",
    "tags": [],
    "deepnote_cell_type": "markdown"
   }
  },
  {
   "cell_type": "markdown",
   "source": "**DESCRIPTIVE STATISTICS IN ONE LINE**",
   "metadata": {
    "cell_id": "2ca0ae65-08f6-4cde-ba41-19f7741f673f",
    "tags": [],
    "deepnote_to_be_reexecuted": false,
    "source_hash": "832ca441",
    "execution_start": 1644378725497,
    "execution_millis": 6,
    "deepnote_cell_type": "markdown"
   }
  },
  {
   "cell_type": "code",
   "metadata": {
    "cell_id": "0c1bff4a-46b3-4436-9d6d-2fa7e49f0391",
    "tags": [],
    "deepnote_to_be_reexecuted": false,
    "source_hash": "f88152d9",
    "execution_start": 1644378765366,
    "execution_millis": 216,
    "deepnote_output_heights": [
     611
    ],
    "deepnote_cell_type": "code"
   },
   "source": "df.describe()",
   "outputs": [
    {
     "output_type": "execute_result",
     "execution_count": 7,
     "data": {
      "application/vnd.deepnote.dataframe.v3+json": {
       "column_count": 7,
       "row_count": 8,
       "columns": [
        {
         "name": "odometer_value",
         "dtype": "float64",
         "stats": {
          "unique_count": 8,
          "nan_count": 0,
          "min": "0.0",
          "max": "1000000.0",
          "histogram": [
           {
            "bin_start": 0,
            "bin_end": 100000,
            "count": 2
           },
           {
            "bin_start": 100000,
            "bin_end": 200000,
            "count": 2
           },
           {
            "bin_start": 200000,
            "bin_end": 300000,
            "count": 2
           },
           {
            "bin_start": 300000,
            "bin_end": 400000,
            "count": 1
           },
           {
            "bin_start": 400000,
            "bin_end": 500000,
            "count": 0
           },
           {
            "bin_start": 500000,
            "bin_end": 600000,
            "count": 0
           },
           {
            "bin_start": 600000,
            "bin_end": 700000,
            "count": 0
           },
           {
            "bin_start": 700000,
            "bin_end": 800000,
            "count": 0
           },
           {
            "bin_start": 800000,
            "bin_end": 900000,
            "count": 0
           },
           {
            "bin_start": 900000,
            "bin_end": 1000000,
            "count": 1
           }
          ]
         }
        },
        {
         "name": "year_produced",
         "dtype": "float64",
         "stats": {
          "unique_count": 8,
          "nan_count": 0,
          "min": "8.065730511309914",
          "max": "38531.0",
          "histogram": [
           {
            "bin_start": 8.065730511309914,
            "bin_end": 3860.3591574601787,
            "count": 7
           },
           {
            "bin_start": 3860.3591574601787,
            "bin_end": 7712.652584409047,
            "count": 0
           },
           {
            "bin_start": 7712.652584409047,
            "bin_end": 11564.946011357915,
            "count": 0
           },
           {
            "bin_start": 11564.946011357915,
            "bin_end": 15417.239438306784,
            "count": 0
           },
           {
            "bin_start": 15417.239438306784,
            "bin_end": 19269.532865255653,
            "count": 0
           },
           {
            "bin_start": 19269.532865255653,
            "bin_end": 23121.82629220452,
            "count": 0
           },
           {
            "bin_start": 23121.82629220452,
            "bin_end": 26974.11971915339,
            "count": 0
           },
           {
            "bin_start": 26974.11971915339,
            "bin_end": 30826.41314610226,
            "count": 0
           },
           {
            "bin_start": 30826.41314610226,
            "bin_end": 34678.70657305113,
            "count": 0
           },
           {
            "bin_start": 34678.70657305113,
            "bin_end": 38531,
            "count": 1
           }
          ]
         }
        },
        {
         "name": "engine_capacity",
         "dtype": "float64",
         "stats": {
          "unique_count": 8,
          "nan_count": 0,
          "min": "0.2",
          "max": "38521.0",
          "histogram": [
           {
            "bin_start": 0.2,
            "bin_end": 3852.28,
            "count": 7
           },
           {
            "bin_start": 3852.28,
            "bin_end": 7704.360000000001,
            "count": 0
           },
           {
            "bin_start": 7704.360000000001,
            "bin_end": 11556.440000000002,
            "count": 0
           },
           {
            "bin_start": 11556.440000000002,
            "bin_end": 15408.520000000002,
            "count": 0
           },
           {
            "bin_start": 15408.520000000002,
            "bin_end": 19260.600000000002,
            "count": 0
           },
           {
            "bin_start": 19260.600000000002,
            "bin_end": 23112.680000000004,
            "count": 0
           },
           {
            "bin_start": 23112.680000000004,
            "bin_end": 26964.760000000002,
            "count": 0
           },
           {
            "bin_start": 26964.760000000002,
            "bin_end": 30816.840000000004,
            "count": 0
           },
           {
            "bin_start": 30816.840000000004,
            "bin_end": 34668.92,
            "count": 0
           },
           {
            "bin_start": 34668.92,
            "bin_end": 38521,
            "count": 1
           }
          ]
         }
        },
        {
         "name": "price_usd",
         "dtype": "float64",
         "stats": {
          "unique_count": 8,
          "nan_count": 0,
          "min": "1.0",
          "max": "50000.0",
          "histogram": [
           {
            "bin_start": 1,
            "bin_end": 5000.9,
            "count": 3
           },
           {
            "bin_start": 5000.9,
            "bin_end": 10000.8,
            "count": 3
           },
           {
            "bin_start": 10000.8,
            "bin_end": 15000.699999999999,
            "count": 0
           },
           {
            "bin_start": 15000.699999999999,
            "bin_end": 20000.6,
            "count": 0
           },
           {
            "bin_start": 20000.6,
            "bin_end": 25000.5,
            "count": 0
           },
           {
            "bin_start": 25000.5,
            "bin_end": 30000.399999999998,
            "count": 0
           },
           {
            "bin_start": 30000.399999999998,
            "bin_end": 35000.299999999996,
            "count": 0
           },
           {
            "bin_start": 35000.299999999996,
            "bin_end": 40000.2,
            "count": 1
           },
           {
            "bin_start": 40000.2,
            "bin_end": 45000.1,
            "count": 0
           },
           {
            "bin_start": 45000.1,
            "bin_end": 50000,
            "count": 1
           }
          ]
         }
        },
        {
         "name": "number_of_photos",
         "dtype": "float64",
         "stats": {
          "unique_count": 8,
          "nan_count": 0,
          "min": "1.0",
          "max": "38531.0",
          "histogram": [
           {
            "bin_start": 1,
            "bin_end": 3854,
            "count": 7
           },
           {
            "bin_start": 3854,
            "bin_end": 7707,
            "count": 0
           },
           {
            "bin_start": 7707,
            "bin_end": 11560,
            "count": 0
           },
           {
            "bin_start": 11560,
            "bin_end": 15413,
            "count": 0
           },
           {
            "bin_start": 15413,
            "bin_end": 19266,
            "count": 0
           },
           {
            "bin_start": 19266,
            "bin_end": 23119,
            "count": 0
           },
           {
            "bin_start": 23119,
            "bin_end": 26972,
            "count": 0
           },
           {
            "bin_start": 26972,
            "bin_end": 30825,
            "count": 0
           },
           {
            "bin_start": 30825,
            "bin_end": 34678,
            "count": 0
           },
           {
            "bin_start": 34678,
            "bin_end": 38531,
            "count": 1
           }
          ]
         }
        },
        {
         "name": "up_counter",
         "dtype": "float64",
         "stats": {
          "unique_count": 8,
          "nan_count": 0,
          "min": "1.0",
          "max": "38531.0",
          "histogram": [
           {
            "bin_start": 1,
            "bin_end": 3854,
            "count": 7
           },
           {
            "bin_start": 3854,
            "bin_end": 7707,
            "count": 0
           },
           {
            "bin_start": 7707,
            "bin_end": 11560,
            "count": 0
           },
           {
            "bin_start": 11560,
            "bin_end": 15413,
            "count": 0
           },
           {
            "bin_start": 15413,
            "bin_end": 19266,
            "count": 0
           },
           {
            "bin_start": 19266,
            "bin_end": 23119,
            "count": 0
           },
           {
            "bin_start": 23119,
            "bin_end": 26972,
            "count": 0
           },
           {
            "bin_start": 26972,
            "bin_end": 30825,
            "count": 0
           },
           {
            "bin_start": 30825,
            "bin_end": 34678,
            "count": 0
           },
           {
            "bin_start": 34678,
            "bin_end": 38531,
            "count": 1
           }
          ]
         }
        },
        {
         "name": "duration_listed",
         "dtype": "float64",
         "stats": {
          "unique_count": 8,
          "nan_count": 0,
          "min": "0.0",
          "max": "38531.0",
          "histogram": [
           {
            "bin_start": 0,
            "bin_end": 3853.1,
            "count": 7
           },
           {
            "bin_start": 3853.1,
            "bin_end": 7706.2,
            "count": 0
           },
           {
            "bin_start": 7706.2,
            "bin_end": 11559.3,
            "count": 0
           },
           {
            "bin_start": 11559.3,
            "bin_end": 15412.4,
            "count": 0
           },
           {
            "bin_start": 15412.4,
            "bin_end": 19265.5,
            "count": 0
           },
           {
            "bin_start": 19265.5,
            "bin_end": 23118.6,
            "count": 0
           },
           {
            "bin_start": 23118.6,
            "bin_end": 26971.7,
            "count": 0
           },
           {
            "bin_start": 26971.7,
            "bin_end": 30824.8,
            "count": 0
           },
           {
            "bin_start": 30824.8,
            "bin_end": 34677.9,
            "count": 0
           },
           {
            "bin_start": 34677.9,
            "bin_end": 38531,
            "count": 1
           }
          ]
         }
        },
        {
         "name": "_deepnote_index_column",
         "dtype": "object"
        }
       ],
       "rows": [
        {
         "odometer_value": 38531,
         "year_produced": 38531,
         "engine_capacity": 38521,
         "price_usd": 38531,
         "number_of_photos": 38531,
         "up_counter": 38531,
         "duration_listed": 38531,
         "_deepnote_index_column": "count"
        },
        {
         "odometer_value": 248864.6384469648,
         "year_produced": 2002.9437336170874,
         "engine_capacity": 2.055161106928688,
         "price_usd": 6639.971021255613,
         "number_of_photos": 9.649061794399314,
         "up_counter": 16.306091199294073,
         "duration_listed": 80.5772494874257,
         "_deepnote_index_column": "mean"
        },
        {
         "odometer_value": 136072.37652978083,
         "year_produced": 8.065730511309914,
         "engine_capacity": 0.671177667208744,
         "price_usd": 6428.1520182029035,
         "number_of_photos": 6.093216996872852,
         "up_counter": 43.286933094223144,
         "duration_listed": 112.82656864261294,
         "_deepnote_index_column": "std"
        },
        {
         "odometer_value": 0,
         "year_produced": 1942,
         "engine_capacity": 0.2,
         "price_usd": 1,
         "number_of_photos": 1,
         "up_counter": 1,
         "duration_listed": 0,
         "_deepnote_index_column": "min"
        },
        {
         "odometer_value": 158000,
         "year_produced": 1998,
         "engine_capacity": 1.6,
         "price_usd": 2100,
         "number_of_photos": 5,
         "up_counter": 2,
         "duration_listed": 23,
         "_deepnote_index_column": "25%"
        },
        {
         "odometer_value": 250000,
         "year_produced": 2003,
         "engine_capacity": 2,
         "price_usd": 4800,
         "number_of_photos": 8,
         "up_counter": 5,
         "duration_listed": 59,
         "_deepnote_index_column": "50%"
        },
        {
         "odometer_value": 325000,
         "year_produced": 2009,
         "engine_capacity": 2.3,
         "price_usd": 8990,
         "number_of_photos": 12,
         "up_counter": 16,
         "duration_listed": 91,
         "_deepnote_index_column": "75%"
        },
        {
         "odometer_value": 1000000,
         "year_produced": 2019,
         "engine_capacity": 8,
         "price_usd": 50000,
         "number_of_photos": 86,
         "up_counter": 1861,
         "duration_listed": 2232,
         "_deepnote_index_column": "max"
        }
       ]
      },
      "text/plain": "       odometer_value  year_produced  engine_capacity     price_usd  \\\ncount    38531.000000   38531.000000     38521.000000  38531.000000   \nmean    248864.638447    2002.943734         2.055161   6639.971021   \nstd     136072.376530       8.065731         0.671178   6428.152018   \nmin          0.000000    1942.000000         0.200000      1.000000   \n25%     158000.000000    1998.000000         1.600000   2100.000000   \n50%     250000.000000    2003.000000         2.000000   4800.000000   \n75%     325000.000000    2009.000000         2.300000   8990.000000   \nmax    1000000.000000    2019.000000         8.000000  50000.000000   \n\n       number_of_photos    up_counter  duration_listed  \ncount      38531.000000  38531.000000     38531.000000  \nmean           9.649062     16.306091        80.577249  \nstd            6.093217     43.286933       112.826569  \nmin            1.000000      1.000000         0.000000  \n25%            5.000000      2.000000        23.000000  \n50%            8.000000      5.000000        59.000000  \n75%           12.000000     16.000000        91.000000  \nmax           86.000000   1861.000000      2232.000000  ",
      "text/html": "<div>\n<style scoped>\n    .dataframe tbody tr th:only-of-type {\n        vertical-align: middle;\n    }\n\n    .dataframe tbody tr th {\n        vertical-align: top;\n    }\n\n    .dataframe thead th {\n        text-align: right;\n    }\n</style>\n<table border=\"1\" class=\"dataframe\">\n  <thead>\n    <tr style=\"text-align: right;\">\n      <th></th>\n      <th>odometer_value</th>\n      <th>year_produced</th>\n      <th>engine_capacity</th>\n      <th>price_usd</th>\n      <th>number_of_photos</th>\n      <th>up_counter</th>\n      <th>duration_listed</th>\n    </tr>\n  </thead>\n  <tbody>\n    <tr>\n      <th>count</th>\n      <td>38531.000000</td>\n      <td>38531.000000</td>\n      <td>38521.000000</td>\n      <td>38531.000000</td>\n      <td>38531.000000</td>\n      <td>38531.000000</td>\n      <td>38531.000000</td>\n    </tr>\n    <tr>\n      <th>mean</th>\n      <td>248864.638447</td>\n      <td>2002.943734</td>\n      <td>2.055161</td>\n      <td>6639.971021</td>\n      <td>9.649062</td>\n      <td>16.306091</td>\n      <td>80.577249</td>\n    </tr>\n    <tr>\n      <th>std</th>\n      <td>136072.376530</td>\n      <td>8.065731</td>\n      <td>0.671178</td>\n      <td>6428.152018</td>\n      <td>6.093217</td>\n      <td>43.286933</td>\n      <td>112.826569</td>\n    </tr>\n    <tr>\n      <th>min</th>\n      <td>0.000000</td>\n      <td>1942.000000</td>\n      <td>0.200000</td>\n      <td>1.000000</td>\n      <td>1.000000</td>\n      <td>1.000000</td>\n      <td>0.000000</td>\n    </tr>\n    <tr>\n      <th>25%</th>\n      <td>158000.000000</td>\n      <td>1998.000000</td>\n      <td>1.600000</td>\n      <td>2100.000000</td>\n      <td>5.000000</td>\n      <td>2.000000</td>\n      <td>23.000000</td>\n    </tr>\n    <tr>\n      <th>50%</th>\n      <td>250000.000000</td>\n      <td>2003.000000</td>\n      <td>2.000000</td>\n      <td>4800.000000</td>\n      <td>8.000000</td>\n      <td>5.000000</td>\n      <td>59.000000</td>\n    </tr>\n    <tr>\n      <th>75%</th>\n      <td>325000.000000</td>\n      <td>2009.000000</td>\n      <td>2.300000</td>\n      <td>8990.000000</td>\n      <td>12.000000</td>\n      <td>16.000000</td>\n      <td>91.000000</td>\n    </tr>\n    <tr>\n      <th>max</th>\n      <td>1000000.000000</td>\n      <td>2019.000000</td>\n      <td>8.000000</td>\n      <td>50000.000000</td>\n      <td>86.000000</td>\n      <td>1861.000000</td>\n      <td>2232.000000</td>\n    </tr>\n  </tbody>\n</table>\n</div>"
     },
     "metadata": {}
    }
   ],
   "execution_count": null
  },
  {
   "cell_type": "code",
   "metadata": {
    "cell_id": "1c54d563-0b8a-4d96-a3e6-2edfaaccacfb",
    "tags": [],
    "deepnote_cell_type": "code"
   },
   "source": "",
   "outputs": [],
   "execution_count": null
  },
  {
   "cell_type": "code",
   "metadata": {
    "cell_id": "0d3144a6-2d3b-44a4-9062-3b08f2aec383",
    "tags": [],
    "deepnote_cell_type": "code"
   },
   "source": "",
   "outputs": [],
   "execution_count": null
  },
  {
   "cell_type": "code",
   "metadata": {
    "cell_id": "f0770647-37e5-47c5-8b0b-4d45266a032c",
    "tags": [],
    "deepnote_cell_type": "code"
   },
   "source": "",
   "outputs": [],
   "execution_count": null
  },
  {
   "cell_type": "code",
   "metadata": {
    "cell_id": "af12b4c5-d4e4-492c-9113-d6c3c09e036c",
    "tags": [],
    "deepnote_cell_type": "code"
   },
   "source": "",
   "outputs": [],
   "execution_count": null
  },
  {
   "cell_type": "markdown",
   "source": "<a style='text-decoration:none;line-height:16px;display:flex;color:#5B5B62;padding:10px;justify-content:end;' href='https://deepnote.com?utm_source=created-in-deepnote-cell&projectId=9ad649ab-d4c1-4930-8346-1d4d9658532a' target=\"_blank\">\n<img alt='Created in deepnote.com' style='display:inline;max-height:16px;margin:0px;margin-right:7.5px;' src='data:image/svg+xml;base64,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' > </img>\nCreated in <span style='font-weight:600;margin-left:4px;'>Deepnote</span></a>",
   "metadata": {
    "tags": [],
    "created_in_deepnote_cell": true,
    "deepnote_cell_type": "markdown"
   }
  }
 ],
 "nbformat": 4,
 "nbformat_minor": 2,
 "metadata": {
  "orig_nbformat": 2,
  "deepnote": {
   "is_reactive": false
  },
  "deepnote_notebook_id": "d7b7afaf-6a85-4627-a8fb-068b30b0ee3d",
  "deepnote_execution_queue": []
 }
}