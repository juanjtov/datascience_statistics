{
 "cells": [
  {
   "cell_type": "markdown",
   "source": "## Measures of Central Tendency",
   "metadata": {
    "tags": [],
    "cell_id": "42e2c6a3-1a08-46e3-bf93-2aada2b4a388",
    "deepnote_to_be_reexecuted": false,
    "source_hash": "6d3fc8bb",
    "execution_start": 1644382223037,
    "execution_millis": 0,
    "deepnote_cell_type": "markdown"
   }
  },
  {
   "cell_type": "markdown",
   "source": "- Mean: average of the data. Is a dangerous metric if you have atypical data.\n- Median: middle value. Avoid atypical data. If it's a pair dataset you calculate the mean between the middle values. **Data should be sorted**\n- Mode: most repeated value. **Doesn't apply to continuous numerical data**\n\n**NOTE: All the descriptive statics may be encountered or represented by a frequency diagram.**",
   "metadata": {
    "cell_id": "a9e0fc5f-bc4c-454e-9683-ed7746bbb38b",
    "tags": [],
    "deepnote_cell_type": "markdown"
   }
  },
  {
   "cell_type": "markdown",
   "source": "### Mean = $$ \\frac{1}{N} \\sum_{i=1}^N x_i  $$ \n\n### Median(even) = $$ x_{(n+1)/2}^{\\text{ordered}} $$\n\n### Median(odd) = $$ \\frac{x_{n/2}^{\\text{ordered}} + x_{n/2+1}^{\\text{ordered}}}{2} $$\n\n### Mode = $$ x_k $$ where $$ \\text{Freq}(x_k) = \\max{(\\text{Freq}(x_i))} $$ ",
   "metadata": {
    "cell_id": "73766fc7-714a-455e-a7aa-568e3827005c",
    "tags": [],
    "deepnote_cell_type": "markdown"
   }
  },
  {
   "cell_type": "markdown",
   "source": "- Continuing with the cars dataset",
   "metadata": {
    "cell_id": "c4018d63-f031-426e-b486-8a07911371bb",
    "tags": [],
    "deepnote_cell_type": "markdown"
   }
  },
  {
   "cell_type": "code",
   "metadata": {
    "cell_id": "37642ad2-3fdc-4e8b-9c00-62082a1a6a7b",
    "tags": [],
    "deepnote_to_be_reexecuted": false,
    "source_hash": "9b82ee11",
    "execution_start": 1644389602299,
    "execution_millis": 0,
    "deepnote_cell_type": "code"
   },
   "source": "import pandas as pd",
   "execution_count": 1,
   "outputs": []
  },
  {
   "cell_type": "code",
   "metadata": {
    "cell_id": "b6daad69-fb35-4eb0-a0d7-6bdfacdaf0dc",
    "tags": [],
    "deepnote_to_be_reexecuted": false,
    "source_hash": "c40898d3",
    "execution_start": 1644389602300,
    "execution_millis": 171,
    "deepnote_output_heights": [
     611
    ],
    "deepnote_cell_type": "code"
   },
   "source": "df = pd.read_csv('cars.csv')\ndf.head",
   "execution_count": 2,
   "outputs": [
    {
     "output_type": "execute_result",
     "execution_count": 2,
     "data": {
      "text/plain": "<bound method NDFrame.head of       manufacturer_name  model_name transmission   color  odometer_value  \\\n0                Subaru     Outback    automatic  silver          190000   \n1                Subaru     Outback    automatic    blue          290000   \n2                Subaru    Forester    automatic     red          402000   \n3                Subaru     Impreza   mechanical    blue           10000   \n4                Subaru      Legacy    automatic   black          280000   \n...                 ...         ...          ...     ...             ...   \n38526          Chrysler         300    automatic  silver          290000   \n38527          Chrysler  PT Cruiser   mechanical    blue          321000   \n38528          Chrysler         300    automatic    blue          777957   \n38529          Chrysler  PT Cruiser   mechanical   black           20000   \n38530          Chrysler     Voyager    automatic  silver          297729   \n\n       year_produced engine_fuel  engine_has_gas engine_type  engine_capacity  \\\n0               2010    gasoline           False    gasoline              2.5   \n1               2002    gasoline           False    gasoline              3.0   \n2               2001    gasoline           False    gasoline              2.5   \n3               1999    gasoline           False    gasoline              3.0   \n4               2001    gasoline           False    gasoline              2.5   \n...              ...         ...             ...         ...              ...   \n38526           2000    gasoline           False    gasoline              3.5   \n38527           2004      diesel           False      diesel              2.2   \n38528           2000    gasoline           False    gasoline              3.5   \n38529           2001    gasoline           False    gasoline              2.0   \n38530           2000    gasoline           False    gasoline              2.4   \n\n       ... feature_1  feature_2 feature_3 feature_4  feature_5  feature_6  \\\n0      ...      True       True      True     False       True      False   \n1      ...      True      False     False      True       True      False   \n2      ...      True      False     False     False      False      False   \n3      ...     False      False     False     False      False      False   \n4      ...      True      False      True      True      False      False   \n...    ...       ...        ...       ...       ...        ...        ...   \n38526  ...      True      False     False      True       True      False   \n38527  ...      True      False     False      True       True      False   \n38528  ...      True      False     False      True       True      False   \n38529  ...      True      False     False     False      False      False   \n38530  ...     False      False     False     False      False      False   \n\n      feature_7  feature_8  feature_9  duration_listed  \n0          True       True       True               16  \n1         False      False       True               83  \n2         False       True       True              151  \n3         False      False      False               86  \n4         False      False       True                7  \n...         ...        ...        ...              ...  \n38526     False       True       True              301  \n38527     False       True       True              317  \n38528     False       True       True              369  \n38529     False      False       True              490  \n38530     False      False       True              632  \n\n[38531 rows x 30 columns]>"
     },
     "metadata": {}
    }
   ]
  },
  {
   "cell_type": "code",
   "metadata": {
    "cell_id": "d0012bdd-3c5d-4b70-a191-7e61c1d60a4e",
    "tags": [],
    "deepnote_to_be_reexecuted": false,
    "source_hash": "2905016d",
    "execution_start": 1644389602475,
    "execution_millis": 42,
    "deepnote_output_heights": [
     521
    ],
    "deepnote_cell_type": "code"
   },
   "source": "df.describe(), df.columns",
   "execution_count": 3,
   "outputs": [
    {
     "output_type": "execute_result",
     "execution_count": 3,
     "data": {
      "text/plain": "(       odometer_value  year_produced  engine_capacity     price_usd  \\\n count    38531.000000   38531.000000     38521.000000  38531.000000   \n mean    248864.638447    2002.943734         2.055161   6639.971021   \n std     136072.376530       8.065731         0.671178   6428.152018   \n min          0.000000    1942.000000         0.200000      1.000000   \n 25%     158000.000000    1998.000000         1.600000   2100.000000   \n 50%     250000.000000    2003.000000         2.000000   4800.000000   \n 75%     325000.000000    2009.000000         2.300000   8990.000000   \n max    1000000.000000    2019.000000         8.000000  50000.000000   \n \n        number_of_photos    up_counter  duration_listed  \n count      38531.000000  38531.000000     38531.000000  \n mean           9.649062     16.306091        80.577249  \n std            6.093217     43.286933       112.826569  \n min            1.000000      1.000000         0.000000  \n 25%            5.000000      2.000000        23.000000  \n 50%            8.000000      5.000000        59.000000  \n 75%           12.000000     16.000000        91.000000  \n max           86.000000   1861.000000      2232.000000  ,\n Index(['manufacturer_name', 'model_name', 'transmission', 'color',\n        'odometer_value', 'year_produced', 'engine_fuel', 'engine_has_gas',\n        'engine_type', 'engine_capacity', 'body_type', 'has_warranty', 'state',\n        'drivetrain', 'price_usd', 'is_exchangeable', 'location_region',\n        'number_of_photos', 'up_counter', 'feature_0', 'feature_1', 'feature_2',\n        'feature_3', 'feature_4', 'feature_5', 'feature_6', 'feature_7',\n        'feature_8', 'feature_9', 'duration_listed'],\n       dtype='object'))"
     },
     "metadata": {}
    }
   ]
  },
  {
   "cell_type": "markdown",
   "source": "- Lets list some statistics",
   "metadata": {
    "cell_id": "9640d8d7-c659-45ec-9a12-c034926eccd6",
    "tags": [],
    "deepnote_cell_type": "markdown"
   }
  },
  {
   "cell_type": "code",
   "metadata": {
    "cell_id": "5a6b5585-9acf-4d0b-8139-d4c5a8cb5ec4",
    "tags": [],
    "deepnote_to_be_reexecuted": false,
    "source_hash": "6343435e",
    "execution_start": 1644389602530,
    "execution_millis": 6,
    "deepnote_output_heights": [
     21.1875
    ],
    "deepnote_cell_type": "code"
   },
   "source": "df['price_usd'].mean(), df['price_usd'].median()",
   "execution_count": 4,
   "outputs": [
    {
     "output_type": "execute_result",
     "execution_count": 4,
     "data": {
      "text/plain": "(6639.971021255613, 4800.0)"
     },
     "metadata": {}
    }
   ]
  },
  {
   "cell_type": "markdown",
   "source": "\n## Plotting an histogram",
   "metadata": {
    "cell_id": "4d1cdeda-76c7-4eae-abf7-5b9a284c4ea9",
    "tags": [],
    "deepnote_cell_type": "markdown"
   }
  },
  {
   "cell_type": "code",
   "metadata": {
    "cell_id": "0a0c1e7f-ccd2-4bde-8efe-eb55abf74b1b",
    "tags": [],
    "deepnote_to_be_reexecuted": false,
    "source_hash": "b54c7861",
    "execution_start": 1644389602581,
    "execution_millis": 1587,
    "deepnote_output_heights": [
     21.1875,
     250
    ],
    "deepnote_cell_type": "code"
   },
   "source": "# bins determines the number of intervals in which I want to split the histogram\ndf['price_usd'].plot.hist(bins=20)",
   "execution_count": 5,
   "outputs": [
    {
     "output_type": "execute_result",
     "execution_count": 5,
     "data": {
      "text/plain": "<AxesSubplot:ylabel='Frequency'>"
     },
     "metadata": {}
    },
    {
     "data": {
      "text/plain": "<Figure size 432x288 with 1 Axes>",
      "image/png": "[encoded data removed]"
     },
     "metadata": {
      "needs_background": "light",
      "image/png": {
       "width": 402,
       "height": 248
      }
     },
     "output_type": "display_data"
    }
   ]
  },
  {
   "cell_type": "markdown",
   "source": "- It's more interesting if we do the analysis by brands.\n\n* **pro tip:** use seaborn: https://seaborn.pydata.org/tutorial/distributions.html",
   "metadata": {
    "cell_id": "9000222d-10fd-4d13-97f9-290aa22f7ab7",
    "tags": [],
    "deepnote_cell_type": "markdown"
   }
  },
  {
   "cell_type": "code",
   "metadata": {
    "cell_id": "74dde74c-334a-4098-b3d7-cc96318c4e6d",
    "tags": [],
    "deepnote_to_be_reexecuted": false,
    "source_hash": "c9d2f67b",
    "execution_start": 1644389604176,
    "execution_millis": 619,
    "deepnote_cell_type": "code"
   },
   "source": "import seaborn as sns",
   "execution_count": 6,
   "outputs": []
  },
  {
   "cell_type": "code",
   "metadata": {
    "cell_id": "173bb67f-4ed7-4518-bb40-7d134cea74c8",
    "tags": [],
    "deepnote_to_be_reexecuted": false,
    "source_hash": "3003339d",
    "execution_start": 1644389604805,
    "deepnote_output_heights": [
     1,
     611
    ],
    "execution_millis": 26581,
    "deepnote_cell_type": "code"
   },
   "source": "# hue separates the data into different categories,\n# taking in consideration the column that we pointed out,in this case manufacturer_name, \n# manufacturer_name is a categorical var\nsns.displot(df, x='price_usd', hue = 'manufacturer_name')",
   "execution_count": 7,
   "outputs": [
    {
     "output_type": "execute_result",
     "execution_count": 7,
     "data": {
      "text/plain": "<seaborn.axisgrid.FacetGrid at 0x7fd8e0c532d0>"
     },
     "metadata": {}
    },
    {
     "data": {
      "text/plain": "<Figure size 471.75x360 with 1 Axes>",
      "image/png": "[encoded data removed]"
     },
     "metadata": {
      "needs_background": "light",
      "image/png": {
       "width": 470,
       "height": 858
      }
     },
     "output_type": "display_data"
    }
   ]
  },
  {
   "cell_type": "markdown",
   "source": "- As we have a ton of categories, the visualization lost his purpose",
   "metadata": {
    "cell_id": "774a5339-946a-41c5-8009-ab2da34d8e1a",
    "tags": [],
    "deepnote_cell_type": "markdown"
   }
  },
  {
   "cell_type": "code",
   "metadata": {
    "cell_id": "2d4be708-eded-4764-9223-66fd4177ead7",
    "tags": [],
    "deepnote_to_be_reexecuted": false,
    "source_hash": "4459cc1",
    "execution_start": 1644389631430,
    "execution_millis": 2198,
    "deepnote_output_heights": [
     1,
     354
    ],
    "deepnote_cell_type": "code"
   },
   "source": "sns.displot(df, x='price_usd', hue='engine_type')",
   "execution_count": 8,
   "outputs": [
    {
     "output_type": "execute_result",
     "execution_count": 8,
     "data": {
      "text/plain": "<seaborn.axisgrid.FacetGrid at 0x7fd8dc7cef50>"
     },
     "metadata": {}
    },
    {
     "data": {
      "text/plain": "<Figure size 438x360 with 1 Axes>",
      "image/png": "[encoded data removed]"
     },
     "metadata": {
      "needs_background": "light",
      "image/png": {
       "width": 436,
       "height": 352
      }
     },
     "output_type": "display_data"
    }
   ]
  },
  {
   "cell_type": "markdown",
   "source": "- The plot is not good enough.",
   "metadata": {
    "cell_id": "62dbacef-f9cd-4db9-bba1-afb68775dc77",
    "tags": [],
    "deepnote_cell_type": "markdown"
   }
  },
  {
   "cell_type": "code",
   "metadata": {
    "cell_id": "e40847db-75af-48c6-8784-c97f3f7373a9",
    "tags": [],
    "deepnote_to_be_reexecuted": false,
    "source_hash": "40297dd2",
    "execution_start": 1644389633353,
    "execution_millis": 2007,
    "deepnote_output_heights": [
     1,
     354
    ],
    "deepnote_cell_type": "code"
   },
   "source": "sns.displot(df, x='price_usd', hue='engine_type', multiple='stack')",
   "execution_count": 9,
   "outputs": [
    {
     "output_type": "execute_result",
     "execution_count": 9,
     "data": {
      "text/plain": "<seaborn.axisgrid.FacetGrid at 0x7fd8dee2ce90>"
     },
     "metadata": {}
    },
    {
     "data": {
      "text/plain": "<Figure size 438x360 with 1 Axes>",
      "image/png": "[encoded data removed]"
     },
     "metadata": {
      "needs_background": "light",
      "image/png": {
       "width": 436,
       "height": 352
      }
     },
     "output_type": "display_data"
    }
   ]
  },
  {
   "cell_type": "markdown",
   "source": "- you can't see electric cars because their frequency is very small.",
   "metadata": {
    "cell_id": "2d07248a-0479-4cd9-9cf4-577e6858a72b",
    "tags": [],
    "deepnote_cell_type": "markdown"
   }
  },
  {
   "cell_type": "markdown",
   "source": "\n### Descriptive Statistics Inside Categorical Values",
   "metadata": {
    "cell_id": "c8afb180-2dc9-4d80-9583-68d43da7a826",
    "tags": [],
    "deepnote_cell_type": "markdown"
   }
  },
  {
   "cell_type": "markdown",
   "source": "- We want to count the frequency of each car inside the categorical var engine_type.",
   "metadata": {
    "cell_id": "eabbbc17-5be0-49fd-8864-55896f6048b6",
    "tags": [],
    "deepnote_cell_type": "markdown"
   }
  },
  {
   "cell_type": "code",
   "metadata": {
    "cell_id": "de4a7945-bc02-4786-832e-035d829bf41c",
    "tags": [],
    "deepnote_to_be_reexecuted": false,
    "source_hash": "4c516938",
    "execution_start": 1644389635375,
    "execution_millis": 182,
    "deepnote_cell_type": "code"
   },
   "source": "df.groupby('engine_type').count()",
   "execution_count": 10,
   "outputs": [
    {
     "output_type": "execute_result",
     "execution_count": 10,
     "data": {
      "application/vnd.deepnote.dataframe.v3+json": {
       "column_count": 29,
       "row_count": 3,
       "columns": [
        {
         "name": "manufacturer_name",
         "dtype": "int64",
         "stats": {
          "unique_count": 3,
          "nan_count": 0,
          "min": "10",
          "max": "25647",
          "histogram": [
           {
            "bin_start": 10,
            "bin_end": 2573.7,
            "count": 1
           },
           {
            "bin_start": 2573.7,
            "bin_end": 5137.4,
            "count": 0
           },
           {
            "bin_start": 5137.4,
            "bin_end": 7701.099999999999,
            "count": 0
           },
           {
            "bin_start": 7701.099999999999,
            "bin_end": 10264.8,
            "count": 0
           },
           {
            "bin_start": 10264.8,
            "bin_end": 12828.5,
            "count": 0
           },
           {
            "bin_start": 12828.5,
            "bin_end": 15392.199999999999,
            "count": 1
           },
           {
            "bin_start": 15392.199999999999,
            "bin_end": 17955.899999999998,
            "count": 0
           },
           {
            "bin_start": 17955.899999999998,
            "bin_end": 20519.6,
            "count": 0
           },
           {
            "bin_start": 20519.6,
            "bin_end": 23083.3,
            "count": 0
           },
           {
            "bin_start": 23083.3,
            "bin_end": 25647,
            "count": 1
           }
          ]
         }
        },
        {
         "name": "model_name",
         "dtype": "int64",
         "stats": {
          "unique_count": 3,
          "nan_count": 0,
          "min": "10",
          "max": "25647",
          "histogram": [
           {
            "bin_start": 10,
            "bin_end": 2573.7,
            "count": 1
           },
           {
            "bin_start": 2573.7,
            "bin_end": 5137.4,
            "count": 0
           },
           {
            "bin_start": 5137.4,
            "bin_end": 7701.099999999999,
            "count": 0
           },
           {
            "bin_start": 7701.099999999999,
            "bin_end": 10264.8,
            "count": 0
           },
           {
            "bin_start": 10264.8,
            "bin_end": 12828.5,
            "count": 0
           },
           {
            "bin_start": 12828.5,
            "bin_end": 15392.199999999999,
            "count": 1
           },
           {
            "bin_start": 15392.199999999999,
            "bin_end": 17955.899999999998,
            "count": 0
           },
           {
            "bin_start": 17955.899999999998,
            "bin_end": 20519.6,
            "count": 0
           },
           {
            "bin_start": 20519.6,
            "bin_end": 23083.3,
            "count": 0
           },
           {
            "bin_start": 23083.3,
            "bin_end": 25647,
            "count": 1
           }
          ]
         }
        },
        {
         "name": "transmission",
         "dtype": "int64",
         "stats": {
          "unique_count": 3,
          "nan_count": 0,
          "min": "10",
          "max": "25647",
          "histogram": [
           {
            "bin_start": 10,
            "bin_end": 2573.7,
            "count": 1
           },
           {
            "bin_start": 2573.7,
            "bin_end": 5137.4,
            "count": 0
           },
           {
            "bin_start": 5137.4,
            "bin_end": 7701.099999999999,
            "count": 0
           },
           {
            "bin_start": 7701.099999999999,
            "bin_end": 10264.8,
            "count": 0
           },
           {
            "bin_start": 10264.8,
            "bin_end": 12828.5,
            "count": 0
           },
           {
            "bin_start": 12828.5,
            "bin_end": 15392.199999999999,
            "count": 1
           },
           {
            "bin_start": 15392.199999999999,
            "bin_end": 17955.899999999998,
            "count": 0
           },
           {
            "bin_start": 17955.899999999998,
            "bin_end": 20519.6,
            "count": 0
           },
           {
            "bin_start": 20519.6,
            "bin_end": 23083.3,
            "count": 0
           },
           {
            "bin_start": 23083.3,
            "bin_end": 25647,
            "count": 1
           }
          ]
         }
        },
        {
         "name": "color",
         "dtype": "int64",
         "stats": {
          "unique_count": 3,
          "nan_count": 0,
          "min": "10",
          "max": "25647",
          "histogram": [
           {
            "bin_start": 10,
            "bin_end": 2573.7,
            "count": 1
           },
           {
            "bin_start": 2573.7,
            "bin_end": 5137.4,
            "count": 0
           },
           {
            "bin_start": 5137.4,
            "bin_end": 7701.099999999999,
            "count": 0
           },
           {
            "bin_start": 7701.099999999999,
            "bin_end": 10264.8,
            "count": 0
           },
           {
            "bin_start": 10264.8,
            "bin_end": 12828.5,
            "count": 0
           },
           {
            "bin_start": 12828.5,
            "bin_end": 15392.199999999999,
            "count": 1
           },
           {
            "bin_start": 15392.199999999999,
            "bin_end": 17955.899999999998,
            "count": 0
           },
           {
            "bin_start": 17955.899999999998,
            "bin_end": 20519.6,
            "count": 0
           },
           {
            "bin_start": 20519.6,
            "bin_end": 23083.3,
            "count": 0
           },
           {
            "bin_start": 23083.3,
            "bin_end": 25647,
            "count": 1
           }
          ]
         }
        },
        {
         "name": "odometer_value",
         "dtype": "int64",
         "stats": {
          "unique_count": 3,
          "nan_count": 0,
          "min": "10",
          "max": "25647",
          "histogram": [
           {
            "bin_start": 10,
            "bin_end": 2573.7,
            "count": 1
           },
           {
            "bin_start": 2573.7,
            "bin_end": 5137.4,
            "count": 0
           },
           {
            "bin_start": 5137.4,
            "bin_end": 7701.099999999999,
            "count": 0
           },
           {
            "bin_start": 7701.099999999999,
            "bin_end": 10264.8,
            "count": 0
           },
           {
            "bin_start": 10264.8,
            "bin_end": 12828.5,
            "count": 0
           },
           {
            "bin_start": 12828.5,
            "bin_end": 15392.199999999999,
            "count": 1
           },
           {
            "bin_start": 15392.199999999999,
            "bin_end": 17955.899999999998,
            "count": 0
           },
           {
            "bin_start": 17955.899999999998,
            "bin_end": 20519.6,
            "count": 0
           },
           {
            "bin_start": 20519.6,
            "bin_end": 23083.3,
            "count": 0
           },
           {
            "bin_start": 23083.3,
            "bin_end": 25647,
            "count": 1
           }
          ]
         }
        },
        {
         "name": "year_produced",
         "dtype": "int64",
         "stats": {
          "unique_count": 3,
          "nan_count": 0,
          "min": "10",
          "max": "25647",
          "histogram": [
           {
            "bin_start": 10,
            "bin_end": 2573.7,
            "count": 1
           },
           {
            "bin_start": 2573.7,
            "bin_end": 5137.4,
            "count": 0
           },
           {
            "bin_start": 5137.4,
            "bin_end": 7701.099999999999,
            "count": 0
           },
           {
            "bin_start": 7701.099999999999,
            "bin_end": 10264.8,
            "count": 0
           },
           {
            "bin_start": 10264.8,
            "bin_end": 12828.5,
            "count": 0
           },
           {
            "bin_start": 12828.5,
            "bin_end": 15392.199999999999,
            "count": 1
           },
           {
            "bin_start": 15392.199999999999,
            "bin_end": 17955.899999999998,
            "count": 0
           },
           {
            "bin_start": 17955.899999999998,
            "bin_end": 20519.6,
            "count": 0
           },
           {
            "bin_start": 20519.6,
            "bin_end": 23083.3,
            "count": 0
           },
           {
            "bin_start": 23083.3,
            "bin_end": 25647,
            "count": 1
           }
          ]
         }
        },
        {
         "name": "engine_fuel",
         "dtype": "int64",
         "stats": {
          "unique_count": 3,
          "nan_count": 0,
          "min": "10",
          "max": "25647",
          "histogram": [
           {
            "bin_start": 10,
            "bin_end": 2573.7,
            "count": 1
           },
           {
            "bin_start": 2573.7,
            "bin_end": 5137.4,
            "count": 0
           },
           {
            "bin_start": 5137.4,
            "bin_end": 7701.099999999999,
            "count": 0
           },
           {
            "bin_start": 7701.099999999999,
            "bin_end": 10264.8,
            "count": 0
           },
           {
            "bin_start": 10264.8,
            "bin_end": 12828.5,
            "count": 0
           },
           {
            "bin_start": 12828.5,
            "bin_end": 15392.199999999999,
            "count": 1
           },
           {
            "bin_start": 15392.199999999999,
            "bin_end": 17955.899999999998,
            "count": 0
           },
           {
            "bin_start": 17955.899999999998,
            "bin_end": 20519.6,
            "count": 0
           },
           {
            "bin_start": 20519.6,
            "bin_end": 23083.3,
            "count": 0
           },
           {
            "bin_start": 23083.3,
            "bin_end": 25647,
            "count": 1
           }
          ]
         }
        },
        {
         "name": "engine_has_gas",
         "dtype": "int64",
         "stats": {
          "unique_count": 3,
          "nan_count": 0,
          "min": "10",
          "max": "25647",
          "histogram": [
           {
            "bin_start": 10,
            "bin_end": 2573.7,
            "count": 1
           },
           {
            "bin_start": 2573.7,
            "bin_end": 5137.4,
            "count": 0
           },
           {
            "bin_start": 5137.4,
            "bin_end": 7701.099999999999,
            "count": 0
           },
           {
            "bin_start": 7701.099999999999,
            "bin_end": 10264.8,
            "count": 0
           },
           {
            "bin_start": 10264.8,
            "bin_end": 12828.5,
            "count": 0
           },
           {
            "bin_start": 12828.5,
            "bin_end": 15392.199999999999,
            "count": 1
           },
           {
            "bin_start": 15392.199999999999,
            "bin_end": 17955.899999999998,
            "count": 0
           },
           {
            "bin_start": 17955.899999999998,
            "bin_end": 20519.6,
            "count": 0
           },
           {
            "bin_start": 20519.6,
            "bin_end": 23083.3,
            "count": 0
           },
           {
            "bin_start": 23083.3,
            "bin_end": 25647,
            "count": 1
           }
          ]
         }
        },
        {
         "name": "engine_capacity",
         "dtype": "int64",
         "stats": {
          "unique_count": 3,
          "nan_count": 0,
          "min": "0",
          "max": "25647",
          "histogram": [
           {
            "bin_start": 0,
            "bin_end": 2564.7,
            "count": 1
           },
           {
            "bin_start": 2564.7,
            "bin_end": 5129.4,
            "count": 0
           },
           {
            "bin_start": 5129.4,
            "bin_end": 7694.099999999999,
            "count": 0
           },
           {
            "bin_start": 7694.099999999999,
            "bin_end": 10258.8,
            "count": 0
           },
           {
            "bin_start": 10258.8,
            "bin_end": 12823.5,
            "count": 0
           },
           {
            "bin_start": 12823.5,
            "bin_end": 15388.199999999999,
            "count": 1
           },
           {
            "bin_start": 15388.199999999999,
            "bin_end": 17952.899999999998,
            "count": 0
           },
           {
            "bin_start": 17952.899999999998,
            "bin_end": 20517.6,
            "count": 0
           },
           {
            "bin_start": 20517.6,
            "bin_end": 23082.3,
            "count": 0
           },
           {
            "bin_start": 23082.3,
            "bin_end": 25647,
            "count": 1
           }
          ]
         }
        },
        {
         "name": "body_type",
         "dtype": "int64",
         "stats": {
          "unique_count": 3,
          "nan_count": 0,
          "min": "10",
          "max": "25647",
          "histogram": [
           {
            "bin_start": 10,
            "bin_end": 2573.7,
            "count": 1
           },
           {
            "bin_start": 2573.7,
            "bin_end": 5137.4,
            "count": 0
           },
           {
            "bin_start": 5137.4,
            "bin_end": 7701.099999999999,
            "count": 0
           },
           {
            "bin_start": 7701.099999999999,
            "bin_end": 10264.8,
            "count": 0
           },
           {
            "bin_start": 10264.8,
            "bin_end": 12828.5,
            "count": 0
           },
           {
            "bin_start": 12828.5,
            "bin_end": 15392.199999999999,
            "count": 1
           },
           {
            "bin_start": 15392.199999999999,
            "bin_end": 17955.899999999998,
            "count": 0
           },
           {
            "bin_start": 17955.899999999998,
            "bin_end": 20519.6,
            "count": 0
           },
           {
            "bin_start": 20519.6,
            "bin_end": 23083.3,
            "count": 0
           },
           {
            "bin_start": 23083.3,
            "bin_end": 25647,
            "count": 1
           }
          ]
         }
        },
        {
         "name": "has_warranty",
         "dtype": "int64",
         "stats": {
          "unique_count": 3,
          "nan_count": 0,
          "min": "10",
          "max": "25647",
          "histogram": [
           {
            "bin_start": 10,
            "bin_end": 2573.7,
            "count": 1
           },
           {
            "bin_start": 2573.7,
            "bin_end": 5137.4,
            "count": 0
           },
           {
            "bin_start": 5137.4,
            "bin_end": 7701.099999999999,
            "count": 0
           },
           {
            "bin_start": 7701.099999999999,
            "bin_end": 10264.8,
            "count": 0
           },
           {
            "bin_start": 10264.8,
            "bin_end": 12828.5,
            "count": 0
           },
           {
            "bin_start": 12828.5,
            "bin_end": 15392.199999999999,
            "count": 1
           },
           {
            "bin_start": 15392.199999999999,
            "bin_end": 17955.899999999998,
            "count": 0
           },
           {
            "bin_start": 17955.899999999998,
            "bin_end": 20519.6,
            "count": 0
           },
           {
            "bin_start": 20519.6,
            "bin_end": 23083.3,
            "count": 0
           },
           {
            "bin_start": 23083.3,
            "bin_end": 25647,
            "count": 1
           }
          ]
         }
        },
        {
         "name": "state",
         "dtype": "int64",
         "stats": {
          "unique_count": 3,
          "nan_count": 0,
          "min": "10",
          "max": "25647",
          "histogram": [
           {
            "bin_start": 10,
            "bin_end": 2573.7,
            "count": 1
           },
           {
            "bin_start": 2573.7,
            "bin_end": 5137.4,
            "count": 0
           },
           {
            "bin_start": 5137.4,
            "bin_end": 7701.099999999999,
            "count": 0
           },
           {
            "bin_start": 7701.099999999999,
            "bin_end": 10264.8,
            "count": 0
           },
           {
            "bin_start": 10264.8,
            "bin_end": 12828.5,
            "count": 0
           },
           {
            "bin_start": 12828.5,
            "bin_end": 15392.199999999999,
            "count": 1
           },
           {
            "bin_start": 15392.199999999999,
            "bin_end": 17955.899999999998,
            "count": 0
           },
           {
            "bin_start": 17955.899999999998,
            "bin_end": 20519.6,
            "count": 0
           },
           {
            "bin_start": 20519.6,
            "bin_end": 23083.3,
            "count": 0
           },
           {
            "bin_start": 23083.3,
            "bin_end": 25647,
            "count": 1
           }
          ]
         }
        },
        {
         "name": "drivetrain",
         "dtype": "int64",
         "stats": {
          "unique_count": 3,
          "nan_count": 0,
          "min": "10",
          "max": "25647",
          "histogram": [
           {
            "bin_start": 10,
            "bin_end": 2573.7,
            "count": 1
           },
           {
            "bin_start": 2573.7,
            "bin_end": 5137.4,
            "count": 0
           },
           {
            "bin_start": 5137.4,
            "bin_end": 7701.099999999999,
            "count": 0
           },
           {
            "bin_start": 7701.099999999999,
            "bin_end": 10264.8,
            "count": 0
           },
           {
            "bin_start": 10264.8,
            "bin_end": 12828.5,
            "count": 0
           },
           {
            "bin_start": 12828.5,
            "bin_end": 15392.199999999999,
            "count": 1
           },
           {
            "bin_start": 15392.199999999999,
            "bin_end": 17955.899999999998,
            "count": 0
           },
           {
            "bin_start": 17955.899999999998,
            "bin_end": 20519.6,
            "count": 0
           },
           {
            "bin_start": 20519.6,
            "bin_end": 23083.3,
            "count": 0
           },
           {
            "bin_start": 23083.3,
            "bin_end": 25647,
            "count": 1
           }
          ]
         }
        },
        {
         "name": "price_usd",
         "dtype": "int64",
         "stats": {
          "unique_count": 3,
          "nan_count": 0,
          "min": "10",
          "max": "25647",
          "histogram": [
           {
            "bin_start": 10,
            "bin_end": 2573.7,
            "count": 1
           },
           {
            "bin_start": 2573.7,
            "bin_end": 5137.4,
            "count": 0
           },
           {
            "bin_start": 5137.4,
            "bin_end": 7701.099999999999,
            "count": 0
           },
           {
            "bin_start": 7701.099999999999,
            "bin_end": 10264.8,
            "count": 0
           },
           {
            "bin_start": 10264.8,
            "bin_end": 12828.5,
            "count": 0
           },
           {
            "bin_start": 12828.5,
            "bin_end": 15392.199999999999,
            "count": 1
           },
           {
            "bin_start": 15392.199999999999,
            "bin_end": 17955.899999999998,
            "count": 0
           },
           {
            "bin_start": 17955.899999999998,
            "bin_end": 20519.6,
            "count": 0
           },
           {
            "bin_start": 20519.6,
            "bin_end": 23083.3,
            "count": 0
           },
           {
            "bin_start": 23083.3,
            "bin_end": 25647,
            "count": 1
           }
          ]
         }
        },
        {
         "name": "is_exchangeable",
         "dtype": "int64",
         "stats": {
          "unique_count": 3,
          "nan_count": 0,
          "min": "10",
          "max": "25647",
          "histogram": [
           {
            "bin_start": 10,
            "bin_end": 2573.7,
            "count": 1
           },
           {
            "bin_start": 2573.7,
            "bin_end": 5137.4,
            "count": 0
           },
           {
            "bin_start": 5137.4,
            "bin_end": 7701.099999999999,
            "count": 0
           },
           {
            "bin_start": 7701.099999999999,
            "bin_end": 10264.8,
            "count": 0
           },
           {
            "bin_start": 10264.8,
            "bin_end": 12828.5,
            "count": 0
           },
           {
            "bin_start": 12828.5,
            "bin_end": 15392.199999999999,
            "count": 1
           },
           {
            "bin_start": 15392.199999999999,
            "bin_end": 17955.899999999998,
            "count": 0
           },
           {
            "bin_start": 17955.899999999998,
            "bin_end": 20519.6,
            "count": 0
           },
           {
            "bin_start": 20519.6,
            "bin_end": 23083.3,
            "count": 0
           },
           {
            "bin_start": 23083.3,
            "bin_end": 25647,
            "count": 1
           }
          ]
         }
        },
        {
         "name": "location_region",
         "dtype": "int64",
         "stats": {
          "unique_count": 3,
          "nan_count": 0,
          "min": "10",
          "max": "25647",
          "histogram": [
           {
            "bin_start": 10,
            "bin_end": 2573.7,
            "count": 1
           },
           {
            "bin_start": 2573.7,
            "bin_end": 5137.4,
            "count": 0
           },
           {
            "bin_start": 5137.4,
            "bin_end": 7701.099999999999,
            "count": 0
           },
           {
            "bin_start": 7701.099999999999,
            "bin_end": 10264.8,
            "count": 0
           },
           {
            "bin_start": 10264.8,
            "bin_end": 12828.5,
            "count": 0
           },
           {
            "bin_start": 12828.5,
            "bin_end": 15392.199999999999,
            "count": 1
           },
           {
            "bin_start": 15392.199999999999,
            "bin_end": 17955.899999999998,
            "count": 0
           },
           {
            "bin_start": 17955.899999999998,
            "bin_end": 20519.6,
            "count": 0
           },
           {
            "bin_start": 20519.6,
            "bin_end": 23083.3,
            "count": 0
           },
           {
            "bin_start": 23083.3,
            "bin_end": 25647,
            "count": 1
           }
          ]
         }
        },
        {
         "name": "number_of_photos",
         "dtype": "int64",
         "stats": {
          "unique_count": 3,
          "nan_count": 0,
          "min": "10",
          "max": "25647",
          "histogram": [
           {
            "bin_start": 10,
            "bin_end": 2573.7,
            "count": 1
           },
           {
            "bin_start": 2573.7,
            "bin_end": 5137.4,
            "count": 0
           },
           {
            "bin_start": 5137.4,
            "bin_end": 7701.099999999999,
            "count": 0
           },
           {
            "bin_start": 7701.099999999999,
            "bin_end": 10264.8,
            "count": 0
           },
           {
            "bin_start": 10264.8,
            "bin_end": 12828.5,
            "count": 0
           },
           {
            "bin_start": 12828.5,
            "bin_end": 15392.199999999999,
            "count": 1
           },
           {
            "bin_start": 15392.199999999999,
            "bin_end": 17955.899999999998,
            "count": 0
           },
           {
            "bin_start": 17955.899999999998,
            "bin_end": 20519.6,
            "count": 0
           },
           {
            "bin_start": 20519.6,
            "bin_end": 23083.3,
            "count": 0
           },
           {
            "bin_start": 23083.3,
            "bin_end": 25647,
            "count": 1
           }
          ]
         }
        },
        {
         "name": "up_counter",
         "dtype": "int64",
         "stats": {
          "unique_count": 3,
          "nan_count": 0,
          "min": "10",
          "max": "25647",
          "histogram": [
           {
            "bin_start": 10,
            "bin_end": 2573.7,
            "count": 1
           },
           {
            "bin_start": 2573.7,
            "bin_end": 5137.4,
            "count": 0
           },
           {
            "bin_start": 5137.4,
            "bin_end": 7701.099999999999,
            "count": 0
           },
           {
            "bin_start": 7701.099999999999,
            "bin_end": 10264.8,
            "count": 0
           },
           {
            "bin_start": 10264.8,
            "bin_end": 12828.5,
            "count": 0
           },
           {
            "bin_start": 12828.5,
            "bin_end": 15392.199999999999,
            "count": 1
           },
           {
            "bin_start": 15392.199999999999,
            "bin_end": 17955.899999999998,
            "count": 0
           },
           {
            "bin_start": 17955.899999999998,
            "bin_end": 20519.6,
            "count": 0
           },
           {
            "bin_start": 20519.6,
            "bin_end": 23083.3,
            "count": 0
           },
           {
            "bin_start": 23083.3,
            "bin_end": 25647,
            "count": 1
           }
          ]
         }
        },
        {
         "name": "feature_0",
         "dtype": "int64",
         "stats": {
          "unique_count": 3,
          "nan_count": 0,
          "min": "10",
          "max": "25647",
          "histogram": [
           {
            "bin_start": 10,
            "bin_end": 2573.7,
            "count": 1
           },
           {
            "bin_start": 2573.7,
            "bin_end": 5137.4,
            "count": 0
           },
           {
            "bin_start": 5137.4,
            "bin_end": 7701.099999999999,
            "count": 0
           },
           {
            "bin_start": 7701.099999999999,
            "bin_end": 10264.8,
            "count": 0
           },
           {
            "bin_start": 10264.8,
            "bin_end": 12828.5,
            "count": 0
           },
           {
            "bin_start": 12828.5,
            "bin_end": 15392.199999999999,
            "count": 1
           },
           {
            "bin_start": 15392.199999999999,
            "bin_end": 17955.899999999998,
            "count": 0
           },
           {
            "bin_start": 17955.899999999998,
            "bin_end": 20519.6,
            "count": 0
           },
           {
            "bin_start": 20519.6,
            "bin_end": 23083.3,
            "count": 0
           },
           {
            "bin_start": 23083.3,
            "bin_end": 25647,
            "count": 1
           }
          ]
         }
        },
        {
         "name": "feature_1",
         "dtype": "int64",
         "stats": {
          "unique_count": 3,
          "nan_count": 0,
          "min": "10",
          "max": "25647",
          "histogram": [
           {
            "bin_start": 10,
            "bin_end": 2573.7,
            "count": 1
           },
           {
            "bin_start": 2573.7,
            "bin_end": 5137.4,
            "count": 0
           },
           {
            "bin_start": 5137.4,
            "bin_end": 7701.099999999999,
            "count": 0
           },
           {
            "bin_start": 7701.099999999999,
            "bin_end": 10264.8,
            "count": 0
           },
           {
            "bin_start": 10264.8,
            "bin_end": 12828.5,
            "count": 0
           },
           {
            "bin_start": 12828.5,
            "bin_end": 15392.199999999999,
            "count": 1
           },
           {
            "bin_start": 15392.199999999999,
            "bin_end": 17955.899999999998,
            "count": 0
           },
           {
            "bin_start": 17955.899999999998,
            "bin_end": 20519.6,
            "count": 0
           },
           {
            "bin_start": 20519.6,
            "bin_end": 23083.3,
            "count": 0
           },
           {
            "bin_start": 23083.3,
            "bin_end": 25647,
            "count": 1
           }
          ]
         }
        },
        {
         "name": "feature_2",
         "dtype": "int64",
         "stats": {
          "unique_count": 3,
          "nan_count": 0,
          "min": "10",
          "max": "25647",
          "histogram": [
           {
            "bin_start": 10,
            "bin_end": 2573.7,
            "count": 1
           },
           {
            "bin_start": 2573.7,
            "bin_end": 5137.4,
            "count": 0
           },
           {
            "bin_start": 5137.4,
            "bin_end": 7701.099999999999,
            "count": 0
           },
           {
            "bin_start": 7701.099999999999,
            "bin_end": 10264.8,
            "count": 0
           },
           {
            "bin_start": 10264.8,
            "bin_end": 12828.5,
            "count": 0
           },
           {
            "bin_start": 12828.5,
            "bin_end": 15392.199999999999,
            "count": 1
           },
           {
            "bin_start": 15392.199999999999,
            "bin_end": 17955.899999999998,
            "count": 0
           },
           {
            "bin_start": 17955.899999999998,
            "bin_end": 20519.6,
            "count": 0
           },
           {
            "bin_start": 20519.6,
            "bin_end": 23083.3,
            "count": 0
           },
           {
            "bin_start": 23083.3,
            "bin_end": 25647,
            "count": 1
           }
          ]
         }
        },
        {
         "name": "feature_3",
         "dtype": "int64",
         "stats": {
          "unique_count": 3,
          "nan_count": 0,
          "min": "10",
          "max": "25647",
          "histogram": [
           {
            "bin_start": 10,
            "bin_end": 2573.7,
            "count": 1
           },
           {
            "bin_start": 2573.7,
            "bin_end": 5137.4,
            "count": 0
           },
           {
            "bin_start": 5137.4,
            "bin_end": 7701.099999999999,
            "count": 0
           },
           {
            "bin_start": 7701.099999999999,
            "bin_end": 10264.8,
            "count": 0
           },
           {
            "bin_start": 10264.8,
            "bin_end": 12828.5,
            "count": 0
           },
           {
            "bin_start": 12828.5,
            "bin_end": 15392.199999999999,
            "count": 1
           },
           {
            "bin_start": 15392.199999999999,
            "bin_end": 17955.899999999998,
            "count": 0
           },
           {
            "bin_start": 17955.899999999998,
            "bin_end": 20519.6,
            "count": 0
           },
           {
            "bin_start": 20519.6,
            "bin_end": 23083.3,
            "count": 0
           },
           {
            "bin_start": 23083.3,
            "bin_end": 25647,
            "count": 1
           }
          ]
         }
        },
        {
         "name": "feature_4",
         "dtype": "int64",
         "stats": {
          "unique_count": 3,
          "nan_count": 0,
          "min": "10",
          "max": "25647",
          "histogram": [
           {
            "bin_start": 10,
            "bin_end": 2573.7,
            "count": 1
           },
           {
            "bin_start": 2573.7,
            "bin_end": 5137.4,
            "count": 0
           },
           {
            "bin_start": 5137.4,
            "bin_end": 7701.099999999999,
            "count": 0
           },
           {
            "bin_start": 7701.099999999999,
            "bin_end": 10264.8,
            "count": 0
           },
           {
            "bin_start": 10264.8,
            "bin_end": 12828.5,
            "count": 0
           },
           {
            "bin_start": 12828.5,
            "bin_end": 15392.199999999999,
            "count": 1
           },
           {
            "bin_start": 15392.199999999999,
            "bin_end": 17955.899999999998,
            "count": 0
           },
           {
            "bin_start": 17955.899999999998,
            "bin_end": 20519.6,
            "count": 0
           },
           {
            "bin_start": 20519.6,
            "bin_end": 23083.3,
            "count": 0
           },
           {
            "bin_start": 23083.3,
            "bin_end": 25647,
            "count": 1
           }
          ]
         }
        },
        {
         "name": "feature_5",
         "dtype": "int64",
         "stats": {
          "unique_count": 3,
          "nan_count": 0,
          "min": "10",
          "max": "25647",
          "histogram": [
           {
            "bin_start": 10,
            "bin_end": 2573.7,
            "count": 1
           },
           {
            "bin_start": 2573.7,
            "bin_end": 5137.4,
            "count": 0
           },
           {
            "bin_start": 5137.4,
            "bin_end": 7701.099999999999,
            "count": 0
           },
           {
            "bin_start": 7701.099999999999,
            "bin_end": 10264.8,
            "count": 0
           },
           {
            "bin_start": 10264.8,
            "bin_end": 12828.5,
            "count": 0
           },
           {
            "bin_start": 12828.5,
            "bin_end": 15392.199999999999,
            "count": 1
           },
           {
            "bin_start": 15392.199999999999,
            "bin_end": 17955.899999999998,
            "count": 0
           },
           {
            "bin_start": 17955.899999999998,
            "bin_end": 20519.6,
            "count": 0
           },
           {
            "bin_start": 20519.6,
            "bin_end": 23083.3,
            "count": 0
           },
           {
            "bin_start": 23083.3,
            "bin_end": 25647,
            "count": 1
           }
          ]
         }
        },
        {
         "name": "feature_6",
         "dtype": "int64",
         "stats": {
          "unique_count": 3,
          "nan_count": 0,
          "min": "10",
          "max": "25647",
          "histogram": [
           {
            "bin_start": 10,
            "bin_end": 2573.7,
            "count": 1
           },
           {
            "bin_start": 2573.7,
            "bin_end": 5137.4,
            "count": 0
           },
           {
            "bin_start": 5137.4,
            "bin_end": 7701.099999999999,
            "count": 0
           },
           {
            "bin_start": 7701.099999999999,
            "bin_end": 10264.8,
            "count": 0
           },
           {
            "bin_start": 10264.8,
            "bin_end": 12828.5,
            "count": 0
           },
           {
            "bin_start": 12828.5,
            "bin_end": 15392.199999999999,
            "count": 1
           },
           {
            "bin_start": 15392.199999999999,
            "bin_end": 17955.899999999998,
            "count": 0
           },
           {
            "bin_start": 17955.899999999998,
            "bin_end": 20519.6,
            "count": 0
           },
           {
            "bin_start": 20519.6,
            "bin_end": 23083.3,
            "count": 0
           },
           {
            "bin_start": 23083.3,
            "bin_end": 25647,
            "count": 1
           }
          ]
         }
        },
        {
         "name": "feature_7",
         "dtype": "int64",
         "stats": {
          "unique_count": 3,
          "nan_count": 0,
          "min": "10",
          "max": "25647",
          "histogram": [
           {
            "bin_start": 10,
            "bin_end": 2573.7,
            "count": 1
           },
           {
            "bin_start": 2573.7,
            "bin_end": 5137.4,
            "count": 0
           },
           {
            "bin_start": 5137.4,
            "bin_end": 7701.099999999999,
            "count": 0
           },
           {
            "bin_start": 7701.099999999999,
            "bin_end": 10264.8,
            "count": 0
           },
           {
            "bin_start": 10264.8,
            "bin_end": 12828.5,
            "count": 0
           },
           {
            "bin_start": 12828.5,
            "bin_end": 15392.199999999999,
            "count": 1
           },
           {
            "bin_start": 15392.199999999999,
            "bin_end": 17955.899999999998,
            "count": 0
           },
           {
            "bin_start": 17955.899999999998,
            "bin_end": 20519.6,
            "count": 0
           },
           {
            "bin_start": 20519.6,
            "bin_end": 23083.3,
            "count": 0
           },
           {
            "bin_start": 23083.3,
            "bin_end": 25647,
            "count": 1
           }
          ]
         }
        },
        {
         "name": "feature_8",
         "dtype": "int64",
         "stats": {
          "unique_count": 3,
          "nan_count": 0,
          "min": "10",
          "max": "25647",
          "histogram": [
           {
            "bin_start": 10,
            "bin_end": 2573.7,
            "count": 1
           },
           {
            "bin_start": 2573.7,
            "bin_end": 5137.4,
            "count": 0
           },
           {
            "bin_start": 5137.4,
            "bin_end": 7701.099999999999,
            "count": 0
           },
           {
            "bin_start": 7701.099999999999,
            "bin_end": 10264.8,
            "count": 0
           },
           {
            "bin_start": 10264.8,
            "bin_end": 12828.5,
            "count": 0
           },
           {
            "bin_start": 12828.5,
            "bin_end": 15392.199999999999,
            "count": 1
           },
           {
            "bin_start": 15392.199999999999,
            "bin_end": 17955.899999999998,
            "count": 0
           },
           {
            "bin_start": 17955.899999999998,
            "bin_end": 20519.6,
            "count": 0
           },
           {
            "bin_start": 20519.6,
            "bin_end": 23083.3,
            "count": 0
           },
           {
            "bin_start": 23083.3,
            "bin_end": 25647,
            "count": 1
           }
          ]
         }
        },
        {
         "name": "feature_9",
         "dtype": "int64",
         "stats": {
          "unique_count": 3,
          "nan_count": 0,
          "min": "10",
          "max": "25647",
          "histogram": [
           {
            "bin_start": 10,
            "bin_end": 2573.7,
            "count": 1
           },
           {
            "bin_start": 2573.7,
            "bin_end": 5137.4,
            "count": 0
           },
           {
            "bin_start": 5137.4,
            "bin_end": 7701.099999999999,
            "count": 0
           },
           {
            "bin_start": 7701.099999999999,
            "bin_end": 10264.8,
            "count": 0
           },
           {
            "bin_start": 10264.8,
            "bin_end": 12828.5,
            "count": 0
           },
           {
            "bin_start": 12828.5,
            "bin_end": 15392.199999999999,
            "count": 1
           },
           {
            "bin_start": 15392.199999999999,
            "bin_end": 17955.899999999998,
            "count": 0
           },
           {
            "bin_start": 17955.899999999998,
            "bin_end": 20519.6,
            "count": 0
           },
           {
            "bin_start": 20519.6,
            "bin_end": 23083.3,
            "count": 0
           },
           {
            "bin_start": 23083.3,
            "bin_end": 25647,
            "count": 1
           }
          ]
         }
        },
        {
         "name": "duration_listed",
         "dtype": "int64",
         "stats": {
          "unique_count": 3,
          "nan_count": 0,
          "min": "10",
          "max": "25647",
          "histogram": [
           {
            "bin_start": 10,
            "bin_end": 2573.7,
            "count": 1
           },
           {
            "bin_start": 2573.7,
            "bin_end": 5137.4,
            "count": 0
           },
           {
            "bin_start": 5137.4,
            "bin_end": 7701.099999999999,
            "count": 0
           },
           {
            "bin_start": 7701.099999999999,
            "bin_end": 10264.8,
            "count": 0
           },
           {
            "bin_start": 10264.8,
            "bin_end": 12828.5,
            "count": 0
           },
           {
            "bin_start": 12828.5,
            "bin_end": 15392.199999999999,
            "count": 1
           },
           {
            "bin_start": 15392.199999999999,
            "bin_end": 17955.899999999998,
            "count": 0
           },
           {
            "bin_start": 17955.899999999998,
            "bin_end": 20519.6,
            "count": 0
           },
           {
            "bin_start": 20519.6,
            "bin_end": 23083.3,
            "count": 0
           },
           {
            "bin_start": 23083.3,
            "bin_end": 25647,
            "count": 1
           }
          ]
         }
        },
        {
         "name": "_deepnote_index_column",
         "dtype": "object"
        }
       ],
       "rows": [
        {
         "manufacturer_name": 12874,
         "model_name": 12874,
         "transmission": 12874,
         "color": 12874,
         "odometer_value": 12874,
         "year_produced": 12874,
         "engine_fuel": 12874,
         "engine_has_gas": 12874,
         "engine_capacity": 12874,
         "body_type": 12874,
         "has_warranty": 12874,
         "state": 12874,
         "drivetrain": 12874,
         "price_usd": 12874,
         "is_exchangeable": 12874,
         "location_region": 12874,
         "number_of_photos": 12874,
         "up_counter": 12874,
         "feature_0": 12874,
         "feature_1": 12874,
         "feature_2": 12874,
         "feature_3": 12874,
         "feature_4": 12874,
         "feature_5": 12874,
         "feature_6": 12874,
         "feature_7": 12874,
         "feature_8": 12874,
         "feature_9": 12874,
         "duration_listed": 12874,
         "_deepnote_index_column": "diesel"
        },
        {
         "manufacturer_name": 10,
         "model_name": 10,
         "transmission": 10,
         "color": 10,
         "odometer_value": 10,
         "year_produced": 10,
         "engine_fuel": 10,
         "engine_has_gas": 10,
         "engine_capacity": 0,
         "body_type": 10,
         "has_warranty": 10,
         "state": 10,
         "drivetrain": 10,
         "price_usd": 10,
         "is_exchangeable": 10,
         "location_region": 10,
         "number_of_photos": 10,
         "up_counter": 10,
         "feature_0": 10,
         "feature_1": 10,
         "feature_2": 10,
         "feature_3": 10,
         "feature_4": 10,
         "feature_5": 10,
         "feature_6": 10,
         "feature_7": 10,
         "feature_8": 10,
         "feature_9": 10,
         "duration_listed": 10,
         "_deepnote_index_column": "electric"
        },
        {
         "manufacturer_name": 25647,
         "model_name": 25647,
         "transmission": 25647,
         "color": 25647,
         "odometer_value": 25647,
         "year_produced": 25647,
         "engine_fuel": 25647,
         "engine_has_gas": 25647,
         "engine_capacity": 25647,
         "body_type": 25647,
         "has_warranty": 25647,
         "state": 25647,
         "drivetrain": 25647,
         "price_usd": 25647,
         "is_exchangeable": 25647,
         "location_region": 25647,
         "number_of_photos": 25647,
         "up_counter": 25647,
         "feature_0": 25647,
         "feature_1": 25647,
         "feature_2": 25647,
         "feature_3": 25647,
         "feature_4": 25647,
         "feature_5": 25647,
         "feature_6": 25647,
         "feature_7": 25647,
         "feature_8": 25647,
         "feature_9": 25647,
         "duration_listed": 25647,
         "_deepnote_index_column": "gasoline"
        }
       ]
      },
      "text/plain": "             manufacturer_name  model_name  transmission  color  \\\nengine_type                                                       \ndiesel                   12874       12874         12874  12874   \nelectric                    10          10            10     10   \ngasoline                 25647       25647         25647  25647   \n\n             odometer_value  year_produced  engine_fuel  engine_has_gas  \\\nengine_type                                                               \ndiesel                12874          12874        12874           12874   \nelectric                 10             10           10              10   \ngasoline              25647          25647        25647           25647   \n\n             engine_capacity  body_type  ...  feature_1  feature_2  feature_3  \\\nengine_type                              ...                                    \ndiesel                 12874      12874  ...      12874      12874      12874   \nelectric                   0         10  ...         10         10         10   \ngasoline               25647      25647  ...      25647      25647      25647   \n\n             feature_4  feature_5  feature_6  feature_7  feature_8  feature_9  \\\nengine_type                                                                     \ndiesel           12874      12874      12874      12874      12874      12874   \nelectric            10         10         10         10         10         10   \ngasoline         25647      25647      25647      25647      25647      25647   \n\n             duration_listed  \nengine_type                   \ndiesel                 12874  \nelectric                  10  \ngasoline               25647  \n\n[3 rows x 29 columns]",
      "text/html": "<div>\n<style scoped>\n    .dataframe tbody tr th:only-of-type {\n        vertical-align: middle;\n    }\n\n    .dataframe tbody tr th {\n        vertical-align: top;\n    }\n\n    .dataframe thead th {\n        text-align: right;\n    }\n</style>\n<table border=\"1\" class=\"dataframe\">\n  <thead>\n    <tr style=\"text-align: right;\">\n      <th></th>\n      <th>manufacturer_name</th>\n      <th>model_name</th>\n      <th>transmission</th>\n      <th>color</th>\n      <th>odometer_value</th>\n      <th>year_produced</th>\n      <th>engine_fuel</th>\n      <th>engine_has_gas</th>\n      <th>engine_capacity</th>\n      <th>body_type</th>\n      <th>...</th>\n      <th>feature_1</th>\n      <th>feature_2</th>\n      <th>feature_3</th>\n      <th>feature_4</th>\n      <th>feature_5</th>\n      <th>feature_6</th>\n      <th>feature_7</th>\n      <th>feature_8</th>\n      <th>feature_9</th>\n      <th>duration_listed</th>\n    </tr>\n    <tr>\n      <th>engine_type</th>\n      <th></th>\n      <th></th>\n      <th></th>\n      <th></th>\n      <th></th>\n      <th></th>\n      <th></th>\n      <th></th>\n      <th></th>\n      <th></th>\n      <th></th>\n      <th></th>\n      <th></th>\n      <th></th>\n      <th></th>\n      <th></th>\n      <th></th>\n      <th></th>\n      <th></th>\n      <th></th>\n      <th></th>\n    </tr>\n  </thead>\n  <tbody>\n    <tr>\n      <th>diesel</th>\n      <td>12874</td>\n      <td>12874</td>\n      <td>12874</td>\n      <td>12874</td>\n      <td>12874</td>\n      <td>12874</td>\n      <td>12874</td>\n      <td>12874</td>\n      <td>12874</td>\n      <td>12874</td>\n      <td>...</td>\n      <td>12874</td>\n      <td>12874</td>\n      <td>12874</td>\n      <td>12874</td>\n      <td>12874</td>\n      <td>12874</td>\n      <td>12874</td>\n      <td>12874</td>\n      <td>12874</td>\n      <td>12874</td>\n    </tr>\n    <tr>\n      <th>electric</th>\n      <td>10</td>\n      <td>10</td>\n      <td>10</td>\n      <td>10</td>\n      <td>10</td>\n      <td>10</td>\n      <td>10</td>\n      <td>10</td>\n      <td>0</td>\n      <td>10</td>\n      <td>...</td>\n      <td>10</td>\n      <td>10</td>\n      <td>10</td>\n      <td>10</td>\n      <td>10</td>\n      <td>10</td>\n      <td>10</td>\n      <td>10</td>\n      <td>10</td>\n      <td>10</td>\n    </tr>\n    <tr>\n      <th>gasoline</th>\n      <td>25647</td>\n      <td>25647</td>\n      <td>25647</td>\n      <td>25647</td>\n      <td>25647</td>\n      <td>25647</td>\n      <td>25647</td>\n      <td>25647</td>\n      <td>25647</td>\n      <td>25647</td>\n      <td>...</td>\n      <td>25647</td>\n      <td>25647</td>\n      <td>25647</td>\n      <td>25647</td>\n      <td>25647</td>\n      <td>25647</td>\n      <td>25647</td>\n      <td>25647</td>\n      <td>25647</td>\n      <td>25647</td>\n    </tr>\n  </tbody>\n</table>\n<p>3 rows × 29 columns</p>\n</div>"
     },
     "metadata": {}
    }
   ]
  },
  {
   "cell_type": "markdown",
   "source": "- As you can see we only have 10 electric cars, that's why you couldn't see them on the histogram.",
   "metadata": {
    "cell_id": "5d5552f2-b012-49ea-82ab-e5ea79018077",
    "tags": [],
    "deepnote_to_be_reexecuted": true,
    "source_hash": "b623e53d",
    "deepnote_cell_type": "markdown"
   }
  },
  {
   "cell_type": "markdown",
   "source": "**SEARCHING BY SPECIFICAL CARS**",
   "metadata": {
    "cell_id": "ee99ea77-4722-4718-b4a3-a8964560ae32",
    "tags": [],
    "deepnote_cell_type": "markdown"
   }
  },
  {
   "cell_type": "code",
   "metadata": {
    "cell_id": "98c8e0a5-c409-48cf-975a-2c6ec96603dc",
    "tags": [],
    "deepnote_to_be_reexecuted": false,
    "source_hash": "5c60dc00",
    "execution_start": 1644389635605,
    "execution_millis": 449,
    "deepnote_cell_type": "code"
   },
   "source": "Q7_df = df[(df['manufacturer_name'] == 'Audi') & (df['model_name'] == 'Q7')]\nQ7_df",
   "execution_count": 11,
   "outputs": [
    {
     "output_type": "execute_result",
     "execution_count": 11,
     "data": {
      "application/vnd.deepnote.dataframe.v3+json": {
       "column_count": 30,
       "row_count": 79,
       "columns": [
        {
         "name": "manufacturer_name",
         "dtype": "object",
         "stats": {
          "unique_count": 1,
          "nan_count": 0,
          "categories": [
           {
            "name": "Audi",
            "count": 79
           }
          ]
         }
        },
        {
         "name": "model_name",
         "dtype": "object",
         "stats": {
          "unique_count": 1,
          "nan_count": 0,
          "categories": [
           {
            "name": "Q7",
            "count": 79
           }
          ]
         }
        },
        {
         "name": "transmission",
         "dtype": "object",
         "stats": {
          "unique_count": 1,
          "nan_count": 0,
          "categories": [
           {
            "name": "automatic",
            "count": 79
           }
          ]
         }
        },
        {
         "name": "color",
         "dtype": "object",
         "stats": {
          "unique_count": 7,
          "nan_count": 0,
          "categories": [
           {
            "name": "black",
            "count": 40
           },
           {
            "name": "grey",
            "count": 13
           },
           {
            "name": "5 others",
            "count": 26
           }
          ]
         }
        },
        {
         "name": "odometer_value",
         "dtype": "int64",
         "stats": {
          "unique_count": 61,
          "nan_count": 0,
          "min": "86291",
          "max": "359000",
          "histogram": [
           {
            "bin_start": 86291,
            "bin_end": 113561.9,
            "count": 6
           },
           {
            "bin_start": 113561.9,
            "bin_end": 140832.8,
            "count": 6
           },
           {
            "bin_start": 140832.8,
            "bin_end": 168103.7,
            "count": 7
           },
           {
            "bin_start": 168103.7,
            "bin_end": 195374.6,
            "count": 17
           },
           {
            "bin_start": 195374.6,
            "bin_end": 222645.5,
            "count": 17
           },
           {
            "bin_start": 222645.5,
            "bin_end": 249916.40000000002,
            "count": 11
           },
           {
            "bin_start": 249916.40000000002,
            "bin_end": 277187.30000000005,
            "count": 9
           },
           {
            "bin_start": 277187.30000000005,
            "bin_end": 304458.2,
            "count": 5
           },
           {
            "bin_start": 304458.2,
            "bin_end": 331729.1,
            "count": 0
           },
           {
            "bin_start": 331729.1,
            "bin_end": 359000,
            "count": 1
           }
          ]
         }
        },
        {
         "name": "year_produced",
         "dtype": "int64",
         "stats": {
          "unique_count": 10,
          "nan_count": 0,
          "min": "2006",
          "max": "2016",
          "histogram": [
           {
            "bin_start": 2006,
            "bin_end": 2007,
            "count": 8
           },
           {
            "bin_start": 2007,
            "bin_end": 2008,
            "count": 20
           },
           {
            "bin_start": 2008,
            "bin_end": 2009,
            "count": 20
           },
           {
            "bin_start": 2009,
            "bin_end": 2010,
            "count": 4
           },
           {
            "bin_start": 2010,
            "bin_end": 2011,
            "count": 11
           },
           {
            "bin_start": 2011,
            "bin_end": 2012,
            "count": 3
           },
           {
            "bin_start": 2012,
            "bin_end": 2013,
            "count": 0
           },
           {
            "bin_start": 2013,
            "bin_end": 2014,
            "count": 2
           },
           {
            "bin_start": 2014,
            "bin_end": 2015,
            "count": 5
           },
           {
            "bin_start": 2015,
            "bin_end": 2016,
            "count": 6
           }
          ]
         }
        },
        {
         "name": "engine_fuel",
         "dtype": "object",
         "stats": {
          "unique_count": 3,
          "nan_count": 0,
          "categories": [
           {
            "name": "diesel",
            "count": 50
           },
           {
            "name": "gasoline",
            "count": 28
           },
           {
            "name": "gas",
            "count": 1
           }
          ]
         }
        },
        {
         "name": "engine_has_gas",
         "dtype": "bool",
         "stats": {
          "unique_count": 2,
          "nan_count": 0,
          "categories": [
           {
            "name": "False",
            "count": 78
           },
           {
            "name": "True",
            "count": 1
           }
          ]
         }
        },
        {
         "name": "engine_type",
         "dtype": "object",
         "stats": {
          "unique_count": 2,
          "nan_count": 0,
          "categories": [
           {
            "name": "diesel",
            "count": 50
           },
           {
            "name": "gasoline",
            "count": 29
           }
          ]
         }
        },
        {
         "name": "engine_capacity",
         "dtype": "float64",
         "stats": {
          "unique_count": 4,
          "nan_count": 0,
          "min": "3.0",
          "max": "6.0",
          "histogram": [
           {
            "bin_start": 3,
            "bin_end": 3.3,
            "count": 43
           },
           {
            "bin_start": 3.3,
            "bin_end": 3.6,
            "count": 0
           },
           {
            "bin_start": 3.6,
            "bin_end": 3.9,
            "count": 10
           },
           {
            "bin_start": 3.9,
            "bin_end": 4.2,
            "count": 0
           },
           {
            "bin_start": 4.2,
            "bin_end": 4.5,
            "count": 25
           },
           {
            "bin_start": 4.5,
            "bin_end": 4.8,
            "count": 0
           },
           {
            "bin_start": 4.8,
            "bin_end": 5.1,
            "count": 0
           },
           {
            "bin_start": 5.1,
            "bin_end": 5.4,
            "count": 0
           },
           {
            "bin_start": 5.4,
            "bin_end": 5.699999999999999,
            "count": 0
           },
           {
            "bin_start": 5.699999999999999,
            "bin_end": 6,
            "count": 1
           }
          ]
         }
        },
        {
         "name": "body_type",
         "dtype": "object",
         "stats": {
          "unique_count": 1,
          "nan_count": 0,
          "categories": [
           {
            "name": "suv",
            "count": 79
           }
          ]
         }
        },
        {
         "name": "has_warranty",
         "dtype": "bool",
         "stats": {
          "unique_count": 1,
          "nan_count": 0,
          "categories": [
           {
            "name": "False",
            "count": 79
           }
          ]
         }
        },
        {
         "name": "state",
         "dtype": "object",
         "stats": {
          "unique_count": 1,
          "nan_count": 0,
          "categories": [
           {
            "name": "owned",
            "count": 79
           }
          ]
         }
        },
        {
         "name": "drivetrain",
         "dtype": "object",
         "stats": {
          "unique_count": 2,
          "nan_count": 0,
          "categories": [
           {
            "name": "all",
            "count": 78
           },
           {
            "name": "front",
            "count": 1
           }
          ]
         }
        },
        {
         "name": "price_usd",
         "dtype": "float64",
         "stats": {
          "unique_count": 61,
          "nan_count": 0,
          "min": "8990.0",
          "max": "46750.0",
          "histogram": [
           {
            "bin_start": 8990,
            "bin_end": 12766,
            "count": 17
           },
           {
            "bin_start": 12766,
            "bin_end": 16542,
            "count": 29
           },
           {
            "bin_start": 16542,
            "bin_end": 20318,
            "count": 7
           },
           {
            "bin_start": 20318,
            "bin_end": 24094,
            "count": 7
           },
           {
            "bin_start": 24094,
            "bin_end": 27870,
            "count": 4
           },
           {
            "bin_start": 27870,
            "bin_end": 31646,
            "count": 5
           },
           {
            "bin_start": 31646,
            "bin_end": 35422,
            "count": 2
           },
           {
            "bin_start": 35422,
            "bin_end": 39198,
            "count": 2
           },
           {
            "bin_start": 39198,
            "bin_end": 42974,
            "count": 2
           },
           {
            "bin_start": 42974,
            "bin_end": 46750,
            "count": 4
           }
          ]
         }
        },
        {
         "name": "is_exchangeable",
         "dtype": "bool",
         "stats": {
          "unique_count": 2,
          "nan_count": 0,
          "categories": [
           {
            "name": "False",
            "count": 48
           },
           {
            "name": "True",
            "count": 31
           }
          ]
         }
        },
        {
         "name": "location_region",
         "dtype": "object",
         "stats": {
          "unique_count": 6,
          "nan_count": 0,
          "categories": [
           {
            "name": "Минская обл.",
            "count": 51
           },
           {
            "name": "Гомельская обл.",
            "count": 8
           },
           {
            "name": "4 others",
            "count": 20
           }
          ]
         }
        },
        {
         "name": "number_of_photos",
         "dtype": "int64",
         "stats": {
          "unique_count": 26,
          "nan_count": 0,
          "min": "1",
          "max": "50",
          "histogram": [
           {
            "bin_start": 1,
            "bin_end": 5.9,
            "count": 7
           },
           {
            "bin_start": 5.9,
            "bin_end": 10.8,
            "count": 28
           },
           {
            "bin_start": 10.8,
            "bin_end": 15.700000000000001,
            "count": 21
           },
           {
            "bin_start": 15.700000000000001,
            "bin_end": 20.6,
            "count": 13
           },
           {
            "bin_start": 20.6,
            "bin_end": 25.5,
            "count": 4
           },
           {
            "bin_start": 25.5,
            "bin_end": 30.400000000000002,
            "count": 2
           },
           {
            "bin_start": 30.400000000000002,
            "bin_end": 35.300000000000004,
            "count": 2
           },
           {
            "bin_start": 35.300000000000004,
            "bin_end": 40.2,
            "count": 1
           },
           {
            "bin_start": 40.2,
            "bin_end": 45.1,
            "count": 0
           },
           {
            "bin_start": 45.1,
            "bin_end": 50,
            "count": 1
           }
          ]
         }
        },
        {
         "name": "up_counter",
         "dtype": "int64",
         "stats": {
          "unique_count": 33,
          "nan_count": 0,
          "min": "1",
          "max": "553",
          "histogram": [
           {
            "bin_start": 1,
            "bin_end": 56.2,
            "count": 72
           },
           {
            "bin_start": 56.2,
            "bin_end": 111.4,
            "count": 5
           },
           {
            "bin_start": 111.4,
            "bin_end": 166.60000000000002,
            "count": 0
           },
           {
            "bin_start": 166.60000000000002,
            "bin_end": 221.8,
            "count": 1
           },
           {
            "bin_start": 221.8,
            "bin_end": 277,
            "count": 0
           },
           {
            "bin_start": 277,
            "bin_end": 332.20000000000005,
            "count": 0
           },
           {
            "bin_start": 332.20000000000005,
            "bin_end": 387.40000000000003,
            "count": 0
           },
           {
            "bin_start": 387.40000000000003,
            "bin_end": 442.6,
            "count": 0
           },
           {
            "bin_start": 442.6,
            "bin_end": 497.8,
            "count": 0
           },
           {
            "bin_start": 497.8,
            "bin_end": 553,
            "count": 1
           }
          ]
         }
        },
        {
         "name": "feature_0",
         "dtype": "bool",
         "stats": {
          "unique_count": 2,
          "nan_count": 0,
          "categories": [
           {
            "name": "False",
            "count": 73
           },
           {
            "name": "True",
            "count": 6
           }
          ]
         }
        },
        {
         "name": "feature_1",
         "dtype": "bool",
         "stats": {
          "unique_count": 2,
          "nan_count": 0,
          "categories": [
           {
            "name": "True",
            "count": 62
           },
           {
            "name": "False",
            "count": 17
           }
          ]
         }
        },
        {
         "name": "feature_2",
         "dtype": "bool",
         "stats": {
          "unique_count": 2,
          "nan_count": 0,
          "categories": [
           {
            "name": "True",
            "count": 67
           },
           {
            "name": "False",
            "count": 12
           }
          ]
         }
        },
        {
         "name": "feature_3",
         "dtype": "bool",
         "stats": {
          "unique_count": 2,
          "nan_count": 0,
          "categories": [
           {
            "name": "True",
            "count": 68
           },
           {
            "name": "False",
            "count": 11
           }
          ]
         }
        },
        {
         "name": "feature_4",
         "dtype": "bool",
         "stats": {
          "unique_count": 2,
          "nan_count": 0,
          "categories": [
           {
            "name": "True",
            "count": 66
           },
           {
            "name": "False",
            "count": 13
           }
          ]
         }
        },
        {
         "name": "feature_5",
         "dtype": "bool",
         "stats": {
          "unique_count": 2,
          "nan_count": 0,
          "categories": [
           {
            "name": "True",
            "count": 71
           },
           {
            "name": "False",
            "count": 8
           }
          ]
         }
        },
        {
         "name": "feature_6",
         "dtype": "bool",
         "stats": {
          "unique_count": 2,
          "nan_count": 0,
          "categories": [
           {
            "name": "True",
            "count": 57
           },
           {
            "name": "False",
            "count": 22
           }
          ]
         }
        },
        {
         "name": "feature_7",
         "dtype": "bool",
         "stats": {
          "unique_count": 2,
          "nan_count": 0,
          "categories": [
           {
            "name": "True",
            "count": 60
           },
           {
            "name": "False",
            "count": 19
           }
          ]
         }
        },
        {
         "name": "feature_8",
         "dtype": "bool",
         "stats": {
          "unique_count": 2,
          "nan_count": 0,
          "categories": [
           {
            "name": "True",
            "count": 68
           },
           {
            "name": "False",
            "count": 11
           }
          ]
         }
        },
        {
         "name": "feature_9",
         "dtype": "bool",
         "stats": {
          "unique_count": 2,
          "nan_count": 0,
          "categories": [
           {
            "name": "True",
            "count": 71
           },
           {
            "name": "False",
            "count": 8
           }
          ]
         }
        },
        {
         "name": "duration_listed",
         "dtype": "int64",
         "stats": {
          "unique_count": 56,
          "nan_count": 0,
          "min": "0",
          "max": "736",
          "histogram": [
           {
            "bin_start": 0,
            "bin_end": 73.6,
            "count": 44
           },
           {
            "bin_start": 73.6,
            "bin_end": 147.2,
            "count": 23
           },
           {
            "bin_start": 147.2,
            "bin_end": 220.79999999999998,
            "count": 5
           },
           {
            "bin_start": 220.79999999999998,
            "bin_end": 294.4,
            "count": 3
           },
           {
            "bin_start": 294.4,
            "bin_end": 368,
            "count": 1
           },
           {
            "bin_start": 368,
            "bin_end": 441.59999999999997,
            "count": 1
           },
           {
            "bin_start": 441.59999999999997,
            "bin_end": 515.1999999999999,
            "count": 1
           },
           {
            "bin_start": 515.1999999999999,
            "bin_end": 588.8,
            "count": 0
           },
           {
            "bin_start": 588.8,
            "bin_end": 662.4,
            "count": 0
           },
           {
            "bin_start": 662.4,
            "bin_end": 736,
            "count": 1
           }
          ]
         }
        },
        {
         "name": "_deepnote_index_column",
         "dtype": "int64"
        }
       ],
       "rows": [
        {
         "manufacturer_name": "Audi",
         "model_name": "Q7",
         "transmission": "automatic",
         "color": "grey",
         "odometer_value": 275000,
         "year_produced": 2007,
         "engine_fuel": "diesel",
         "engine_has_gas": false,
         "engine_type": "diesel",
         "engine_capacity": 3,
         "body_type": "suv",
         "has_warranty": false,
         "state": "owned",
         "drivetrain": "all",
         "price_usd": 12450,
         "is_exchangeable": true,
         "location_region": "Минская обл.",
         "number_of_photos": 23,
         "up_counter": 16,
         "feature_0": true,
         "feature_1": false,
         "feature_2": false,
         "feature_3": false,
         "feature_4": false,
         "feature_5": false,
         "feature_6": false,
         "feature_7": false,
         "feature_8": false,
         "feature_9": false,
         "duration_listed": 21,
         "_deepnote_index_column": 19515
        },
        {
         "manufacturer_name": "Audi",
         "model_name": "Q7",
         "transmission": "automatic",
         "color": "white",
         "odometer_value": 105000,
         "year_produced": 2014,
         "engine_fuel": "diesel",
         "engine_has_gas": false,
         "engine_type": "diesel",
         "engine_capacity": 3,
         "body_type": "suv",
         "has_warranty": false,
         "state": "owned",
         "drivetrain": "all",
         "price_usd": 32200,
         "is_exchangeable": true,
         "location_region": "Минская обл.",
         "number_of_photos": 20,
         "up_counter": 186,
         "feature_0": false,
         "feature_1": true,
         "feature_2": true,
         "feature_3": true,
         "feature_4": true,
         "feature_5": true,
         "feature_6": true,
         "feature_7": true,
         "feature_8": true,
         "feature_9": true,
         "duration_listed": 216,
         "_deepnote_index_column": 19547
        },
        {
         "manufacturer_name": "Audi",
         "model_name": "Q7",
         "transmission": "automatic",
         "color": "other",
         "odometer_value": 170000,
         "year_produced": 2006,
         "engine_fuel": "diesel",
         "engine_has_gas": false,
         "engine_type": "diesel",
         "engine_capacity": 3,
         "body_type": "suv",
         "has_warranty": false,
         "state": "owned",
         "drivetrain": "all",
         "price_usd": 13500,
         "is_exchangeable": false,
         "location_region": "Минская обл.",
         "number_of_photos": 13,
         "up_counter": 7,
         "feature_0": false,
         "feature_1": true,
         "feature_2": true,
         "feature_3": true,
         "feature_4": true,
         "feature_5": true,
         "feature_6": false,
         "feature_7": true,
         "feature_8": false,
         "feature_9": true,
         "duration_listed": 24,
         "_deepnote_index_column": 19559
        },
        {
         "manufacturer_name": "Audi",
         "model_name": "Q7",
         "transmission": "automatic",
         "color": "black",
         "odometer_value": 185000,
         "year_produced": 2016,
         "engine_fuel": "diesel",
         "engine_has_gas": false,
         "engine_type": "diesel",
         "engine_capacity": 3,
         "body_type": "suv",
         "has_warranty": false,
         "state": "owned",
         "drivetrain": "all",
         "price_usd": 44900,
         "is_exchangeable": true,
         "location_region": "Минская обл.",
         "number_of_photos": 50,
         "up_counter": 4,
         "feature_0": false,
         "feature_1": false,
         "feature_2": false,
         "feature_3": true,
         "feature_4": true,
         "feature_5": true,
         "feature_6": true,
         "feature_7": true,
         "feature_8": true,
         "feature_9": true,
         "duration_listed": 7,
         "_deepnote_index_column": 19574
        },
        {
         "manufacturer_name": "Audi",
         "model_name": "Q7",
         "transmission": "automatic",
         "color": "other",
         "odometer_value": 210000,
         "year_produced": 2010,
         "engine_fuel": "diesel",
         "engine_has_gas": false,
         "engine_type": "diesel",
         "engine_capacity": 4.2,
         "body_type": "suv",
         "has_warranty": false,
         "state": "owned",
         "drivetrain": "all",
         "price_usd": 23000,
         "is_exchangeable": false,
         "location_region": "Витебская обл.",
         "number_of_photos": 22,
         "up_counter": 34,
         "feature_0": false,
         "feature_1": true,
         "feature_2": true,
         "feature_3": true,
         "feature_4": false,
         "feature_5": true,
         "feature_6": true,
         "feature_7": true,
         "feature_8": true,
         "feature_9": true,
         "duration_listed": 45,
         "_deepnote_index_column": 19583
        },
        {
         "manufacturer_name": "Audi",
         "model_name": "Q7",
         "transmission": "automatic",
         "color": "grey",
         "odometer_value": 187000,
         "year_produced": 2016,
         "engine_fuel": "gasoline",
         "engine_has_gas": false,
         "engine_type": "gasoline",
         "engine_capacity": 3,
         "body_type": "suv",
         "has_warranty": false,
         "state": "owned",
         "drivetrain": "all",
         "price_usd": 46750,
         "is_exchangeable": false,
         "location_region": "Минская обл.",
         "number_of_photos": 38,
         "up_counter": 2,
         "feature_0": false,
         "feature_1": false,
         "feature_2": false,
         "feature_3": false,
         "feature_4": true,
         "feature_5": false,
         "feature_6": false,
         "feature_7": false,
         "feature_8": false,
         "feature_9": false,
         "duration_listed": 2,
         "_deepnote_index_column": 19660
        },
        {
         "manufacturer_name": "Audi",
         "model_name": "Q7",
         "transmission": "automatic",
         "color": "black",
         "odometer_value": 170000,
         "year_produced": 2007,
         "engine_fuel": "gasoline",
         "engine_has_gas": false,
         "engine_type": "gasoline",
         "engine_capacity": 3.6,
         "body_type": "suv",
         "has_warranty": false,
         "state": "owned",
         "drivetrain": "all",
         "price_usd": 13000,
         "is_exchangeable": false,
         "location_region": "Витебская обл.",
         "number_of_photos": 13,
         "up_counter": 28,
         "feature_0": false,
         "feature_1": true,
         "feature_2": true,
         "feature_3": false,
         "feature_4": true,
         "feature_5": true,
         "feature_6": false,
         "feature_7": false,
         "feature_8": true,
         "feature_9": true,
         "duration_listed": 129,
         "_deepnote_index_column": 19680
        },
        {
         "manufacturer_name": "Audi",
         "model_name": "Q7",
         "transmission": "automatic",
         "color": "black",
         "odometer_value": 112000,
         "year_produced": 2014,
         "engine_fuel": "diesel",
         "engine_has_gas": false,
         "engine_type": "diesel",
         "engine_capacity": 3,
         "body_type": "suv",
         "has_warranty": false,
         "state": "owned",
         "drivetrain": "all",
         "price_usd": 35600,
         "is_exchangeable": false,
         "location_region": "Минская обл.",
         "number_of_photos": 20,
         "up_counter": 36,
         "feature_0": true,
         "feature_1": false,
         "feature_2": false,
         "feature_3": false,
         "feature_4": false,
         "feature_5": false,
         "feature_6": false,
         "feature_7": false,
         "feature_8": false,
         "feature_9": false,
         "duration_listed": 76,
         "_deepnote_index_column": 19685
        },
        {
         "manufacturer_name": "Audi",
         "model_name": "Q7",
         "transmission": "automatic",
         "color": "black",
         "odometer_value": 272000,
         "year_produced": 2008,
         "engine_fuel": "diesel",
         "engine_has_gas": false,
         "engine_type": "diesel",
         "engine_capacity": 3,
         "body_type": "suv",
         "has_warranty": false,
         "state": "owned",
         "drivetrain": "all",
         "price_usd": 14699,
         "is_exchangeable": true,
         "location_region": "Минская обл.",
         "number_of_photos": 18,
         "up_counter": 1,
         "feature_0": false,
         "feature_1": true,
         "feature_2": true,
         "feature_3": true,
         "feature_4": false,
         "feature_5": true,
         "feature_6": true,
         "feature_7": false,
         "feature_8": true,
         "feature_9": true,
         "duration_listed": 0,
         "_deepnote_index_column": 19716
        },
        {
         "manufacturer_name": "Audi",
         "model_name": "Q7",
         "transmission": "automatic",
         "color": "black",
         "odometer_value": 152000,
         "year_produced": 2013,
         "engine_fuel": "diesel",
         "engine_has_gas": false,
         "engine_type": "diesel",
         "engine_capacity": 3,
         "body_type": "suv",
         "has_warranty": false,
         "state": "owned",
         "drivetrain": "all",
         "price_usd": 30750,
         "is_exchangeable": false,
         "location_region": "Минская обл.",
         "number_of_photos": 13,
         "up_counter": 14,
         "feature_0": false,
         "feature_1": true,
         "feature_2": true,
         "feature_3": true,
         "feature_4": true,
         "feature_5": true,
         "feature_6": true,
         "feature_7": true,
         "feature_8": true,
         "feature_9": true,
         "duration_listed": 37,
         "_deepnote_index_column": 19719
        }
       ]
      },
      "text/plain": "      manufacturer_name model_name transmission   color  odometer_value  \\\n19515              Audi         Q7    automatic    grey          275000   \n19547              Audi         Q7    automatic   white          105000   \n19559              Audi         Q7    automatic   other          170000   \n19574              Audi         Q7    automatic   black          185000   \n19583              Audi         Q7    automatic   other          210000   \n...                 ...        ...          ...     ...             ...   \n21756              Audi         Q7    automatic  silver          200000   \n21812              Audi         Q7    automatic   black          276000   \n21873              Audi         Q7    automatic   black          273000   \n21900              Audi         Q7    automatic   white          283000   \n21942              Audi         Q7    automatic    grey          262000   \n\n       year_produced engine_fuel  engine_has_gas engine_type  engine_capacity  \\\n19515           2007      diesel           False      diesel              3.0   \n19547           2014      diesel           False      diesel              3.0   \n19559           2006      diesel           False      diesel              3.0   \n19574           2016      diesel           False      diesel              3.0   \n19583           2010      diesel           False      diesel              4.2   \n...              ...         ...             ...         ...              ...   \n21756           2008    gasoline           False    gasoline              3.6   \n21812           2008      diesel           False      diesel              4.2   \n21873           2006    gasoline           False    gasoline              4.2   \n21900           2007      diesel           False      diesel              4.2   \n21942           2007    gasoline           False    gasoline              3.6   \n\n       ... feature_1  feature_2 feature_3 feature_4  feature_5  feature_6  \\\n19515  ...     False      False     False     False      False      False   \n19547  ...      True       True      True      True       True       True   \n19559  ...      True       True      True      True       True      False   \n19574  ...     False      False      True      True       True       True   \n19583  ...      True       True      True     False       True       True   \n...    ...       ...        ...       ...       ...        ...        ...   \n21756  ...      True       True      True      True       True       True   \n21812  ...      True       True      True      True       True       True   \n21873  ...      True       True     False      True       True       True   \n21900  ...      True       True      True      True       True       True   \n21942  ...      True       True      True      True       True      False   \n\n      feature_7  feature_8  feature_9  duration_listed  \n19515     False      False      False               21  \n19547      True       True       True              216  \n19559      True      False       True               24  \n19574      True       True       True                7  \n19583      True       True       True               45  \n...         ...        ...        ...              ...  \n21756      True       True       True               91  \n21812      True       True       True              115  \n21873      True      False       True              147  \n21900      True       True       True              159  \n21942     False       True       True              199  \n\n[79 rows x 30 columns]",
      "text/html": "<div>\n<style scoped>\n    .dataframe tbody tr th:only-of-type {\n        vertical-align: middle;\n    }\n\n    .dataframe tbody tr th {\n        vertical-align: top;\n    }\n\n    .dataframe thead th {\n        text-align: right;\n    }\n</style>\n<table border=\"1\" class=\"dataframe\">\n  <thead>\n    <tr style=\"text-align: right;\">\n      <th></th>\n      <th>manufacturer_name</th>\n      <th>model_name</th>\n      <th>transmission</th>\n      <th>color</th>\n      <th>odometer_value</th>\n      <th>year_produced</th>\n      <th>engine_fuel</th>\n      <th>engine_has_gas</th>\n      <th>engine_type</th>\n      <th>engine_capacity</th>\n      <th>...</th>\n      <th>feature_1</th>\n      <th>feature_2</th>\n      <th>feature_3</th>\n      <th>feature_4</th>\n      <th>feature_5</th>\n      <th>feature_6</th>\n      <th>feature_7</th>\n      <th>feature_8</th>\n      <th>feature_9</th>\n      <th>duration_listed</th>\n    </tr>\n  </thead>\n  <tbody>\n    <tr>\n      <th>19515</th>\n      <td>Audi</td>\n      <td>Q7</td>\n      <td>automatic</td>\n      <td>grey</td>\n      <td>275000</td>\n      <td>2007</td>\n      <td>diesel</td>\n      <td>False</td>\n      <td>diesel</td>\n      <td>3.0</td>\n      <td>...</td>\n      <td>False</td>\n      <td>False</td>\n      <td>False</td>\n      <td>False</td>\n      <td>False</td>\n      <td>False</td>\n      <td>False</td>\n      <td>False</td>\n      <td>False</td>\n      <td>21</td>\n    </tr>\n    <tr>\n      <th>19547</th>\n      <td>Audi</td>\n      <td>Q7</td>\n      <td>automatic</td>\n      <td>white</td>\n      <td>105000</td>\n      <td>2014</td>\n      <td>diesel</td>\n      <td>False</td>\n      <td>diesel</td>\n      <td>3.0</td>\n      <td>...</td>\n      <td>True</td>\n      <td>True</td>\n      <td>True</td>\n      <td>True</td>\n      <td>True</td>\n      <td>True</td>\n      <td>True</td>\n      <td>True</td>\n      <td>True</td>\n      <td>216</td>\n    </tr>\n    <tr>\n      <th>19559</th>\n      <td>Audi</td>\n      <td>Q7</td>\n      <td>automatic</td>\n      <td>other</td>\n      <td>170000</td>\n      <td>2006</td>\n      <td>diesel</td>\n      <td>False</td>\n      <td>diesel</td>\n      <td>3.0</td>\n      <td>...</td>\n      <td>True</td>\n      <td>True</td>\n      <td>True</td>\n      <td>True</td>\n      <td>True</td>\n      <td>False</td>\n      <td>True</td>\n      <td>False</td>\n      <td>True</td>\n      <td>24</td>\n    </tr>\n    <tr>\n      <th>19574</th>\n      <td>Audi</td>\n      <td>Q7</td>\n      <td>automatic</td>\n      <td>black</td>\n      <td>185000</td>\n      <td>2016</td>\n      <td>diesel</td>\n      <td>False</td>\n      <td>diesel</td>\n      <td>3.0</td>\n      <td>...</td>\n      <td>False</td>\n      <td>False</td>\n      <td>True</td>\n      <td>True</td>\n      <td>True</td>\n      <td>True</td>\n      <td>True</td>\n      <td>True</td>\n      <td>True</td>\n      <td>7</td>\n    </tr>\n    <tr>\n      <th>19583</th>\n      <td>Audi</td>\n      <td>Q7</td>\n      <td>automatic</td>\n      <td>other</td>\n      <td>210000</td>\n      <td>2010</td>\n      <td>diesel</td>\n      <td>False</td>\n      <td>diesel</td>\n      <td>4.2</td>\n      <td>...</td>\n      <td>True</td>\n      <td>True</td>\n      <td>True</td>\n      <td>False</td>\n      <td>True</td>\n      <td>True</td>\n      <td>True</td>\n      <td>True</td>\n      <td>True</td>\n      <td>45</td>\n    </tr>\n    <tr>\n      <th>...</th>\n      <td>...</td>\n      <td>...</td>\n      <td>...</td>\n      <td>...</td>\n      <td>...</td>\n      <td>...</td>\n      <td>...</td>\n      <td>...</td>\n      <td>...</td>\n      <td>...</td>\n      <td>...</td>\n      <td>...</td>\n      <td>...</td>\n      <td>...</td>\n      <td>...</td>\n      <td>...</td>\n      <td>...</td>\n      <td>...</td>\n      <td>...</td>\n      <td>...</td>\n      <td>...</td>\n    </tr>\n    <tr>\n      <th>21756</th>\n      <td>Audi</td>\n      <td>Q7</td>\n      <td>automatic</td>\n      <td>silver</td>\n      <td>200000</td>\n      <td>2008</td>\n      <td>gasoline</td>\n      <td>False</td>\n      <td>gasoline</td>\n      <td>3.6</td>\n      <td>...</td>\n      <td>True</td>\n      <td>True</td>\n      <td>True</td>\n      <td>True</td>\n      <td>True</td>\n      <td>True</td>\n      <td>True</td>\n      <td>True</td>\n      <td>True</td>\n      <td>91</td>\n    </tr>\n    <tr>\n      <th>21812</th>\n      <td>Audi</td>\n      <td>Q7</td>\n      <td>automatic</td>\n      <td>black</td>\n      <td>276000</td>\n      <td>2008</td>\n      <td>diesel</td>\n      <td>False</td>\n      <td>diesel</td>\n      <td>4.2</td>\n      <td>...</td>\n      <td>True</td>\n      <td>True</td>\n      <td>True</td>\n      <td>True</td>\n      <td>True</td>\n      <td>True</td>\n      <td>True</td>\n      <td>True</td>\n      <td>True</td>\n      <td>115</td>\n    </tr>\n    <tr>\n      <th>21873</th>\n      <td>Audi</td>\n      <td>Q7</td>\n      <td>automatic</td>\n      <td>black</td>\n      <td>273000</td>\n      <td>2006</td>\n      <td>gasoline</td>\n      <td>False</td>\n      <td>gasoline</td>\n      <td>4.2</td>\n      <td>...</td>\n      <td>True</td>\n      <td>True</td>\n      <td>False</td>\n      <td>True</td>\n      <td>True</td>\n      <td>True</td>\n      <td>True</td>\n      <td>False</td>\n      <td>True</td>\n      <td>147</td>\n    </tr>\n    <tr>\n      <th>21900</th>\n      <td>Audi</td>\n      <td>Q7</td>\n      <td>automatic</td>\n      <td>white</td>\n      <td>283000</td>\n      <td>2007</td>\n      <td>diesel</td>\n      <td>False</td>\n      <td>diesel</td>\n      <td>4.2</td>\n      <td>...</td>\n      <td>True</td>\n      <td>True</td>\n      <td>True</td>\n      <td>True</td>\n      <td>True</td>\n      <td>True</td>\n      <td>True</td>\n      <td>True</td>\n      <td>True</td>\n      <td>159</td>\n    </tr>\n    <tr>\n      <th>21942</th>\n      <td>Audi</td>\n      <td>Q7</td>\n      <td>automatic</td>\n      <td>grey</td>\n      <td>262000</td>\n      <td>2007</td>\n      <td>gasoline</td>\n      <td>False</td>\n      <td>gasoline</td>\n      <td>3.6</td>\n      <td>...</td>\n      <td>True</td>\n      <td>True</td>\n      <td>True</td>\n      <td>True</td>\n      <td>True</td>\n      <td>False</td>\n      <td>False</td>\n      <td>True</td>\n      <td>True</td>\n      <td>199</td>\n    </tr>\n  </tbody>\n</table>\n<p>79 rows × 30 columns</p>\n</div>"
     },
     "metadata": {}
    }
   ]
  },
  {
   "cell_type": "code",
   "metadata": {
    "cell_id": "30643b84-d3e5-4417-8ed4-88d6f4f9547a",
    "tags": [],
    "deepnote_to_be_reexecuted": false,
    "source_hash": "ea0369b6",
    "execution_start": 1644389635811,
    "execution_millis": 704,
    "deepnote_output_heights": [
     21.1875,
     265
    ],
    "deepnote_cell_type": "code"
   },
   "source": "# In this case we wanna do again a seggregation using Hue, based on the categorical value: year_produced\nsns.histplot(Q7_df, x= 'price_usd', hue='year_produced')",
   "execution_count": 12,
   "outputs": [
    {
     "output_type": "execute_result",
     "execution_count": 12,
     "data": {
      "text/plain": "<AxesSubplot:xlabel='price_usd', ylabel='Count'>"
     },
     "metadata": {}
    },
    {
     "data": {
      "text/plain": "<Figure size 432x288 with 1 Axes>",
      "image/png": "[encoded data removed]"
     },
     "metadata": {
      "needs_background": "light",
      "image/png": {
       "width": 382,
       "height": 263
      }
     },
     "output_type": "display_data"
    }
   ]
  },
  {
   "cell_type": "code",
   "metadata": {
    "cell_id": "1bc7118c-7fa4-44dc-8327-1ed21081df27",
    "tags": [],
    "deepnote_to_be_reexecuted": false,
    "source_hash": "38129b70",
    "execution_start": 1644389636525,
    "execution_millis": 5,
    "deepnote_output_heights": [
     367
    ],
    "deepnote_cell_type": "code"
   },
   "source": "df.columns, df['manufacturer_name'].head(10)",
   "execution_count": 13,
   "outputs": [
    {
     "output_type": "execute_result",
     "execution_count": 13,
     "data": {
      "text/plain": "(Index(['manufacturer_name', 'model_name', 'transmission', 'color',\n        'odometer_value', 'year_produced', 'engine_fuel', 'engine_has_gas',\n        'engine_type', 'engine_capacity', 'body_type', 'has_warranty', 'state',\n        'drivetrain', 'price_usd', 'is_exchangeable', 'location_region',\n        'number_of_photos', 'up_counter', 'feature_0', 'feature_1', 'feature_2',\n        'feature_3', 'feature_4', 'feature_5', 'feature_6', 'feature_7',\n        'feature_8', 'feature_9', 'duration_listed'],\n       dtype='object'),\n 0    Subaru\n 1    Subaru\n 2    Subaru\n 3    Subaru\n 4    Subaru\n 5    Subaru\n 6    Subaru\n 7    Subaru\n 8    Subaru\n 9    Subaru\n Name: manufacturer_name, dtype: object)"
     },
     "metadata": {}
    }
   ]
  },
  {
   "cell_type": "code",
   "metadata": {
    "cell_id": "efb9899e-1eaf-44d1-bbff-72a4ff3f935f",
    "tags": [],
    "deepnote_to_be_reexecuted": false,
    "source_hash": "25f43f69",
    "execution_start": 1644389636534,
    "execution_millis": 8,
    "deepnote_output_heights": [
     21.1875
    ],
    "deepnote_cell_type": "code"
   },
   "source": "'Ford' in df['manufacturer_name'].values, 'Fusion' in df['model_name'].values",
   "execution_count": 14,
   "outputs": [
    {
     "output_type": "execute_result",
     "execution_count": 14,
     "data": {
      "text/plain": "(True, True)"
     },
     "metadata": {}
    }
   ]
  },
  {
   "cell_type": "code",
   "metadata": {
    "cell_id": "fb38a0c8-1e14-4260-9dab-721e3ba23b7a",
    "tags": [],
    "deepnote_to_be_reexecuted": false,
    "source_hash": "709e6a35",
    "execution_start": 1644389636554,
    "execution_millis": 209,
    "deepnote_cell_type": "code"
   },
   "source": "ff_df = df[(df['manufacturer_name'] == 'Ford') & (df['model_name'] == 'Fusion')]\nff_df",
   "execution_count": 15,
   "outputs": [
    {
     "output_type": "execute_result",
     "execution_count": 15,
     "data": {
      "application/vnd.deepnote.dataframe.v3+json": {
       "column_count": 30,
       "row_count": 142,
       "columns": [
        {
         "name": "manufacturer_name",
         "dtype": "object",
         "stats": {
          "unique_count": 1,
          "nan_count": 0,
          "categories": [
           {
            "name": "Ford",
            "count": 142
           }
          ]
         }
        },
        {
         "name": "model_name",
         "dtype": "object",
         "stats": {
          "unique_count": 1,
          "nan_count": 0,
          "categories": [
           {
            "name": "Fusion",
            "count": 142
           }
          ]
         }
        },
        {
         "name": "transmission",
         "dtype": "object",
         "stats": {
          "unique_count": 2,
          "nan_count": 0,
          "categories": [
           {
            "name": "automatic",
            "count": 99
           },
           {
            "name": "mechanical",
            "count": 43
           }
          ]
         }
        },
        {
         "name": "color",
         "dtype": "object",
         "stats": {
          "unique_count": 10,
          "nan_count": 0,
          "categories": [
           {
            "name": "silver",
            "count": 28
           },
           {
            "name": "blue",
            "count": 24
           },
           {
            "name": "8 others",
            "count": 90
           }
          ]
         }
        },
        {
         "name": "odometer_value",
         "dtype": "int64",
         "stats": {
          "unique_count": 115,
          "nan_count": 0,
          "min": "7030",
          "max": "370000",
          "histogram": [
           {
            "bin_start": 7030,
            "bin_end": 43327,
            "count": 12
           },
           {
            "bin_start": 43327,
            "bin_end": 79624,
            "count": 28
           },
           {
            "bin_start": 79624,
            "bin_end": 115921,
            "count": 30
           },
           {
            "bin_start": 115921,
            "bin_end": 152218,
            "count": 29
           },
           {
            "bin_start": 152218,
            "bin_end": 188515,
            "count": 14
           },
           {
            "bin_start": 188515,
            "bin_end": 224812,
            "count": 9
           },
           {
            "bin_start": 224812,
            "bin_end": 261109,
            "count": 12
           },
           {
            "bin_start": 261109,
            "bin_end": 297406,
            "count": 1
           },
           {
            "bin_start": 297406,
            "bin_end": 333703,
            "count": 3
           },
           {
            "bin_start": 333703,
            "bin_end": 370000,
            "count": 4
           }
          ]
         }
        },
        {
         "name": "year_produced",
         "dtype": "int64",
         "stats": {
          "unique_count": 15,
          "nan_count": 0,
          "min": "2002",
          "max": "2018",
          "histogram": [
           {
            "bin_start": 2002,
            "bin_end": 2003.6,
            "count": 2
           },
           {
            "bin_start": 2003.6,
            "bin_end": 2005.2,
            "count": 10
           },
           {
            "bin_start": 2005.2,
            "bin_end": 2006.8,
            "count": 5
           },
           {
            "bin_start": 2006.8,
            "bin_end": 2008.4,
            "count": 25
           },
           {
            "bin_start": 2008.4,
            "bin_end": 2010,
            "count": 7
           },
           {
            "bin_start": 2010,
            "bin_end": 2011.6,
            "count": 4
           },
           {
            "bin_start": 2011.6,
            "bin_end": 2013.2,
            "count": 14
           },
           {
            "bin_start": 2013.2,
            "bin_end": 2014.8,
            "count": 35
           },
           {
            "bin_start": 2014.8,
            "bin_end": 2016.4,
            "count": 34
           },
           {
            "bin_start": 2016.4,
            "bin_end": 2018,
            "count": 6
           }
          ]
         }
        },
        {
         "name": "engine_fuel",
         "dtype": "object",
         "stats": {
          "unique_count": 3,
          "nan_count": 0,
          "categories": [
           {
            "name": "gasoline",
            "count": 124
           },
           {
            "name": "diesel",
            "count": 15
           },
           {
            "name": "hybrid-petrol",
            "count": 3
           }
          ]
         }
        },
        {
         "name": "engine_has_gas",
         "dtype": "bool",
         "stats": {
          "unique_count": 1,
          "nan_count": 0,
          "categories": [
           {
            "name": "False",
            "count": 142
           }
          ]
         }
        },
        {
         "name": "engine_type",
         "dtype": "object",
         "stats": {
          "unique_count": 2,
          "nan_count": 0,
          "categories": [
           {
            "name": "gasoline",
            "count": 127
           },
           {
            "name": "diesel",
            "count": 15
           }
          ]
         }
        },
        {
         "name": "engine_capacity",
         "dtype": "float64",
         "stats": {
          "unique_count": 7,
          "nan_count": 0,
          "min": "1.2",
          "max": "2.5",
          "histogram": [
           {
            "bin_start": 1.2,
            "bin_end": 1.33,
            "count": 1
           },
           {
            "bin_start": 1.33,
            "bin_end": 1.46,
            "count": 39
           },
           {
            "bin_start": 1.46,
            "bin_end": 1.5899999999999999,
            "count": 81
           },
           {
            "bin_start": 1.5899999999999999,
            "bin_end": 1.72,
            "count": 14
           },
           {
            "bin_start": 1.72,
            "bin_end": 1.85,
            "count": 0
           },
           {
            "bin_start": 1.85,
            "bin_end": 1.98,
            "count": 0
           },
           {
            "bin_start": 1.98,
            "bin_end": 2.11,
            "count": 5
           },
           {
            "bin_start": 2.11,
            "bin_end": 2.24,
            "count": 0
           },
           {
            "bin_start": 2.24,
            "bin_end": 2.37,
            "count": 1
           },
           {
            "bin_start": 2.37,
            "bin_end": 2.5,
            "count": 1
           }
          ]
         }
        },
        {
         "name": "body_type",
         "dtype": "object",
         "stats": {
          "unique_count": 4,
          "nan_count": 0,
          "categories": [
           {
            "name": "sedan",
            "count": 90
           },
           {
            "name": "hatchback",
            "count": 46
           },
           {
            "name": "2 others",
            "count": 6
           }
          ]
         }
        },
        {
         "name": "has_warranty",
         "dtype": "bool",
         "stats": {
          "unique_count": 2,
          "nan_count": 0,
          "categories": [
           {
            "name": "False",
            "count": 141
           },
           {
            "name": "True",
            "count": 1
           }
          ]
         }
        },
        {
         "name": "state",
         "dtype": "object",
         "stats": {
          "unique_count": 2,
          "nan_count": 0,
          "categories": [
           {
            "name": "owned",
            "count": 140
           },
           {
            "name": "emergency",
            "count": 2
           }
          ]
         }
        },
        {
         "name": "drivetrain",
         "dtype": "object",
         "stats": {
          "unique_count": 1,
          "nan_count": 0,
          "categories": [
           {
            "name": "front",
            "count": 142
           }
          ]
         }
        },
        {
         "name": "price_usd",
         "dtype": "float64",
         "stats": {
          "unique_count": 92,
          "nan_count": 0,
          "min": "1950.0",
          "max": "18300.0",
          "histogram": [
           {
            "bin_start": 1950,
            "bin_end": 3585,
            "count": 8
           },
           {
            "bin_start": 3585,
            "bin_end": 5220,
            "count": 35
           },
           {
            "bin_start": 5220,
            "bin_end": 6855,
            "count": 9
           },
           {
            "bin_start": 6855,
            "bin_end": 8490,
            "count": 0
           },
           {
            "bin_start": 8490,
            "bin_end": 10125,
            "count": 6
           },
           {
            "bin_start": 10125,
            "bin_end": 11760,
            "count": 22
           },
           {
            "bin_start": 11760,
            "bin_end": 13395,
            "count": 37
           },
           {
            "bin_start": 13395,
            "bin_end": 15030,
            "count": 16
           },
           {
            "bin_start": 15030,
            "bin_end": 16665,
            "count": 2
           },
           {
            "bin_start": 16665,
            "bin_end": 18300,
            "count": 7
           }
          ]
         }
        },
        {
         "name": "is_exchangeable",
         "dtype": "bool",
         "stats": {
          "unique_count": 2,
          "nan_count": 0,
          "categories": [
           {
            "name": "False",
            "count": 110
           },
           {
            "name": "True",
            "count": 32
           }
          ]
         }
        },
        {
         "name": "location_region",
         "dtype": "object",
         "stats": {
          "unique_count": 6,
          "nan_count": 0,
          "categories": [
           {
            "name": "Минская обл.",
            "count": 114
           },
           {
            "name": "Брестская обл.",
            "count": 8
           },
           {
            "name": "4 others",
            "count": 20
           }
          ]
         }
        },
        {
         "name": "number_of_photos",
         "dtype": "int64",
         "stats": {
          "unique_count": 29,
          "nan_count": 0,
          "min": "2",
          "max": "41",
          "histogram": [
           {
            "bin_start": 2,
            "bin_end": 5.9,
            "count": 23
           },
           {
            "bin_start": 5.9,
            "bin_end": 9.8,
            "count": 47
           },
           {
            "bin_start": 9.8,
            "bin_end": 13.7,
            "count": 28
           },
           {
            "bin_start": 13.7,
            "bin_end": 17.6,
            "count": 20
           },
           {
            "bin_start": 17.6,
            "bin_end": 21.5,
            "count": 9
           },
           {
            "bin_start": 21.5,
            "bin_end": 25.4,
            "count": 8
           },
           {
            "bin_start": 25.4,
            "bin_end": 29.3,
            "count": 5
           },
           {
            "bin_start": 29.3,
            "bin_end": 33.2,
            "count": 1
           },
           {
            "bin_start": 33.2,
            "bin_end": 37.1,
            "count": 0
           },
           {
            "bin_start": 37.1,
            "bin_end": 41,
            "count": 1
           }
          ]
         }
        },
        {
         "name": "up_counter",
         "dtype": "int64",
         "stats": {
          "unique_count": 43,
          "nan_count": 0,
          "min": "1",
          "max": "155",
          "histogram": [
           {
            "bin_start": 1,
            "bin_end": 16.4,
            "count": 100
           },
           {
            "bin_start": 16.4,
            "bin_end": 31.8,
            "count": 23
           },
           {
            "bin_start": 31.8,
            "bin_end": 47.2,
            "count": 10
           },
           {
            "bin_start": 47.2,
            "bin_end": 62.6,
            "count": 5
           },
           {
            "bin_start": 62.6,
            "bin_end": 78,
            "count": 2
           },
           {
            "bin_start": 78,
            "bin_end": 93.4,
            "count": 1
           },
           {
            "bin_start": 93.4,
            "bin_end": 108.8,
            "count": 0
           },
           {
            "bin_start": 108.8,
            "bin_end": 124.2,
            "count": 0
           },
           {
            "bin_start": 124.2,
            "bin_end": 139.6,
            "count": 0
           },
           {
            "bin_start": 139.6,
            "bin_end": 155,
            "count": 1
           }
          ]
         }
        },
        {
         "name": "feature_0",
         "dtype": "bool",
         "stats": {
          "unique_count": 2,
          "nan_count": 0,
          "categories": [
           {
            "name": "False",
            "count": 130
           },
           {
            "name": "True",
            "count": 12
           }
          ]
         }
        },
        {
         "name": "feature_1",
         "dtype": "bool",
         "stats": {
          "unique_count": 2,
          "nan_count": 0,
          "categories": [
           {
            "name": "True",
            "count": 120
           },
           {
            "name": "False",
            "count": 22
           }
          ]
         }
        },
        {
         "name": "feature_2",
         "dtype": "bool",
         "stats": {
          "unique_count": 2,
          "nan_count": 0,
          "categories": [
           {
            "name": "False",
            "count": 118
           },
           {
            "name": "True",
            "count": 24
           }
          ]
         }
        },
        {
         "name": "feature_3",
         "dtype": "bool",
         "stats": {
          "unique_count": 2,
          "nan_count": 0,
          "categories": [
           {
            "name": "False",
            "count": 84
           },
           {
            "name": "True",
            "count": 58
           }
          ]
         }
        },
        {
         "name": "feature_4",
         "dtype": "bool",
         "stats": {
          "unique_count": 2,
          "nan_count": 0,
          "categories": [
           {
            "name": "False",
            "count": 89
           },
           {
            "name": "True",
            "count": 53
           }
          ]
         }
        },
        {
         "name": "feature_5",
         "dtype": "bool",
         "stats": {
          "unique_count": 2,
          "nan_count": 0,
          "categories": [
           {
            "name": "False",
            "count": 80
           },
           {
            "name": "True",
            "count": 62
           }
          ]
         }
        },
        {
         "name": "feature_6",
         "dtype": "bool",
         "stats": {
          "unique_count": 2,
          "nan_count": 0,
          "categories": [
           {
            "name": "False",
            "count": 86
           },
           {
            "name": "True",
            "count": 56
           }
          ]
         }
        },
        {
         "name": "feature_7",
         "dtype": "bool",
         "stats": {
          "unique_count": 2,
          "nan_count": 0,
          "categories": [
           {
            "name": "True",
            "count": 86
           },
           {
            "name": "False",
            "count": 56
           }
          ]
         }
        },
        {
         "name": "feature_8",
         "dtype": "bool",
         "stats": {
          "unique_count": 2,
          "nan_count": 0,
          "categories": [
           {
            "name": "True",
            "count": 83
           },
           {
            "name": "False",
            "count": 59
           }
          ]
         }
        },
        {
         "name": "feature_9",
         "dtype": "bool",
         "stats": {
          "unique_count": 2,
          "nan_count": 0,
          "categories": [
           {
            "name": "True",
            "count": 106
           },
           {
            "name": "False",
            "count": 36
           }
          ]
         }
        },
        {
         "name": "duration_listed",
         "dtype": "int64",
         "stats": {
          "unique_count": 96,
          "nan_count": 0,
          "min": "0",
          "max": "357",
          "histogram": [
           {
            "bin_start": 0,
            "bin_end": 35.7,
            "count": 44
           },
           {
            "bin_start": 35.7,
            "bin_end": 71.4,
            "count": 42
           },
           {
            "bin_start": 71.4,
            "bin_end": 107.10000000000001,
            "count": 27
           },
           {
            "bin_start": 107.10000000000001,
            "bin_end": 142.8,
            "count": 10
           },
           {
            "bin_start": 142.8,
            "bin_end": 178.5,
            "count": 11
           },
           {
            "bin_start": 178.5,
            "bin_end": 214.20000000000002,
            "count": 1
           },
           {
            "bin_start": 214.20000000000002,
            "bin_end": 249.90000000000003,
            "count": 4
           },
           {
            "bin_start": 249.90000000000003,
            "bin_end": 285.6,
            "count": 0
           },
           {
            "bin_start": 285.6,
            "bin_end": 321.3,
            "count": 2
           },
           {
            "bin_start": 321.3,
            "bin_end": 357,
            "count": 1
           }
          ]
         }
        },
        {
         "name": "_deepnote_index_column",
         "dtype": "int64"
        }
       ],
       "rows": [
        {
         "manufacturer_name": "Ford",
         "model_name": "Fusion",
         "transmission": "automatic",
         "color": "silver",
         "odometer_value": 350000,
         "year_produced": 2009,
         "engine_fuel": "gasoline",
         "engine_has_gas": false,
         "engine_type": "gasoline",
         "engine_capacity": 1.4,
         "body_type": "hatchback",
         "has_warranty": false,
         "state": "owned",
         "drivetrain": "front",
         "price_usd": 4500,
         "is_exchangeable": false,
         "location_region": "Минская обл.",
         "number_of_photos": 6,
         "up_counter": 11,
         "feature_0": false,
         "feature_1": true,
         "feature_2": false,
         "feature_3": false,
         "feature_4": false,
         "feature_5": false,
         "feature_6": false,
         "feature_7": false,
         "feature_8": false,
         "feature_9": false,
         "duration_listed": 139,
         "_deepnote_index_column": 9484
        },
        {
         "manufacturer_name": "Ford",
         "model_name": "Fusion",
         "transmission": "mechanical",
         "color": "blue",
         "odometer_value": 167000,
         "year_produced": 2007,
         "engine_fuel": "gasoline",
         "engine_has_gas": false,
         "engine_type": "gasoline",
         "engine_capacity": 1.6,
         "body_type": "hatchback",
         "has_warranty": false,
         "state": "owned",
         "drivetrain": "front",
         "price_usd": 4600,
         "is_exchangeable": false,
         "location_region": "Минская обл.",
         "number_of_photos": 10,
         "up_counter": 5,
         "feature_0": false,
         "feature_1": true,
         "feature_2": false,
         "feature_3": false,
         "feature_4": false,
         "feature_5": false,
         "feature_6": false,
         "feature_7": false,
         "feature_8": false,
         "feature_9": false,
         "duration_listed": 6,
         "_deepnote_index_column": 9518
        },
        {
         "manufacturer_name": "Ford",
         "model_name": "Fusion",
         "transmission": "automatic",
         "color": "blue",
         "odometer_value": 90000,
         "year_produced": 2016,
         "engine_fuel": "gasoline",
         "engine_has_gas": false,
         "engine_type": "gasoline",
         "engine_capacity": 1.5,
         "body_type": "sedan",
         "has_warranty": false,
         "state": "owned",
         "drivetrain": "front",
         "price_usd": 13500,
         "is_exchangeable": false,
         "location_region": "Минская обл.",
         "number_of_photos": 7,
         "up_counter": 42,
         "feature_0": false,
         "feature_1": true,
         "feature_2": false,
         "feature_3": true,
         "feature_4": true,
         "feature_5": true,
         "feature_6": true,
         "feature_7": true,
         "feature_8": true,
         "feature_9": true,
         "duration_listed": 78,
         "_deepnote_index_column": 9551
        },
        {
         "manufacturer_name": "Ford",
         "model_name": "Fusion",
         "transmission": "mechanical",
         "color": "silver",
         "odometer_value": 224520,
         "year_produced": 2005,
         "engine_fuel": "diesel",
         "engine_has_gas": false,
         "engine_type": "diesel",
         "engine_capacity": 1.4,
         "body_type": "hatchback",
         "has_warranty": false,
         "state": "owned",
         "drivetrain": "front",
         "price_usd": 3500,
         "is_exchangeable": true,
         "location_region": "Минская обл.",
         "number_of_photos": 15,
         "up_counter": 31,
         "feature_0": false,
         "feature_1": true,
         "feature_2": false,
         "feature_3": false,
         "feature_4": false,
         "feature_5": false,
         "feature_6": false,
         "feature_7": false,
         "feature_8": false,
         "feature_9": true,
         "duration_listed": 57,
         "_deepnote_index_column": 9579
        },
        {
         "manufacturer_name": "Ford",
         "model_name": "Fusion",
         "transmission": "mechanical",
         "color": "blue",
         "odometer_value": 369580,
         "year_produced": 2011,
         "engine_fuel": "gasoline",
         "engine_has_gas": false,
         "engine_type": "gasoline",
         "engine_capacity": 1.4,
         "body_type": "hatchback",
         "has_warranty": false,
         "state": "owned",
         "drivetrain": "front",
         "price_usd": 4850,
         "is_exchangeable": true,
         "location_region": "Минская обл.",
         "number_of_photos": 22,
         "up_counter": 12,
         "feature_0": false,
         "feature_1": true,
         "feature_2": false,
         "feature_3": false,
         "feature_4": false,
         "feature_5": false,
         "feature_6": false,
         "feature_7": false,
         "feature_8": false,
         "feature_9": false,
         "duration_listed": 17,
         "_deepnote_index_column": 9590
        },
        {
         "manufacturer_name": "Ford",
         "model_name": "Fusion",
         "transmission": "mechanical",
         "color": "black",
         "odometer_value": 215000,
         "year_produced": 2009,
         "engine_fuel": "gasoline",
         "engine_has_gas": false,
         "engine_type": "gasoline",
         "engine_capacity": 1.4,
         "body_type": "hatchback",
         "has_warranty": false,
         "state": "owned",
         "drivetrain": "front",
         "price_usd": 5350,
         "is_exchangeable": false,
         "location_region": "Минская обл.",
         "number_of_photos": 10,
         "up_counter": 16,
         "feature_0": false,
         "feature_1": true,
         "feature_2": false,
         "feature_3": false,
         "feature_4": false,
         "feature_5": false,
         "feature_6": false,
         "feature_7": false,
         "feature_8": false,
         "feature_9": true,
         "duration_listed": 38,
         "_deepnote_index_column": 9594
        },
        {
         "manufacturer_name": "Ford",
         "model_name": "Fusion",
         "transmission": "automatic",
         "color": "other",
         "odometer_value": 52000,
         "year_produced": 2015,
         "engine_fuel": "gasoline",
         "engine_has_gas": false,
         "engine_type": "gasoline",
         "engine_capacity": 2,
         "body_type": "sedan",
         "has_warranty": false,
         "state": "owned",
         "drivetrain": "front",
         "price_usd": 17500,
         "is_exchangeable": false,
         "location_region": "Витебская обл.",
         "number_of_photos": 14,
         "up_counter": 23,
         "feature_0": false,
         "feature_1": true,
         "feature_2": true,
         "feature_3": true,
         "feature_4": true,
         "feature_5": true,
         "feature_6": true,
         "feature_7": true,
         "feature_8": true,
         "feature_9": true,
         "duration_listed": 40,
         "_deepnote_index_column": 9605
        },
        {
         "manufacturer_name": "Ford",
         "model_name": "Fusion",
         "transmission": "automatic",
         "color": "black",
         "odometer_value": 149000,
         "year_produced": 2015,
         "engine_fuel": "gasoline",
         "engine_has_gas": false,
         "engine_type": "gasoline",
         "engine_capacity": 1.5,
         "body_type": "sedan",
         "has_warranty": false,
         "state": "owned",
         "drivetrain": "front",
         "price_usd": 11900,
         "is_exchangeable": false,
         "location_region": "Минская обл.",
         "number_of_photos": 9,
         "up_counter": 2,
         "feature_0": false,
         "feature_1": true,
         "feature_2": false,
         "feature_3": false,
         "feature_4": false,
         "feature_5": false,
         "feature_6": true,
         "feature_7": true,
         "feature_8": true,
         "feature_9": true,
         "duration_listed": 2,
         "_deepnote_index_column": 9629
        },
        {
         "manufacturer_name": "Ford",
         "model_name": "Fusion",
         "transmission": "automatic",
         "color": "white",
         "odometer_value": 62000,
         "year_produced": 2017,
         "engine_fuel": "gasoline",
         "engine_has_gas": false,
         "engine_type": "gasoline",
         "engine_capacity": 2,
         "body_type": "sedan",
         "has_warranty": false,
         "state": "owned",
         "drivetrain": "front",
         "price_usd": 17750,
         "is_exchangeable": true,
         "location_region": "Минская обл.",
         "number_of_photos": 27,
         "up_counter": 13,
         "feature_0": true,
         "feature_1": false,
         "feature_2": false,
         "feature_3": false,
         "feature_4": false,
         "feature_5": false,
         "feature_6": false,
         "feature_7": false,
         "feature_8": false,
         "feature_9": false,
         "duration_listed": 19,
         "_deepnote_index_column": 9641
        },
        {
         "manufacturer_name": "Ford",
         "model_name": "Fusion",
         "transmission": "automatic",
         "color": "silver",
         "odometer_value": 60000,
         "year_produced": 2014,
         "engine_fuel": "gasoline",
         "engine_has_gas": false,
         "engine_type": "gasoline",
         "engine_capacity": 1.5,
         "body_type": "sedan",
         "has_warranty": false,
         "state": "owned",
         "drivetrain": "front",
         "price_usd": 13550,
         "is_exchangeable": true,
         "location_region": "Минская обл.",
         "number_of_photos": 25,
         "up_counter": 19,
         "feature_0": true,
         "feature_1": false,
         "feature_2": false,
         "feature_3": false,
         "feature_4": false,
         "feature_5": false,
         "feature_6": false,
         "feature_7": false,
         "feature_8": false,
         "feature_9": false,
         "duration_listed": 28,
         "_deepnote_index_column": 9646
        }
       ]
      },
      "text/plain": "      manufacturer_name model_name transmission   color  odometer_value  \\\n9484               Ford     Fusion    automatic  silver          350000   \n9518               Ford     Fusion   mechanical    blue          167000   \n9551               Ford     Fusion    automatic    blue           90000   \n9579               Ford     Fusion   mechanical  silver          224520   \n9590               Ford     Fusion   mechanical    blue          369580   \n...                 ...        ...          ...     ...             ...   \n11965              Ford     Fusion   mechanical  silver          222000   \n11985              Ford     Fusion    automatic  silver           26000   \n11986              Ford     Fusion    automatic   white           52000   \n11993              Ford     Fusion    automatic  silver           91000   \n12027              Ford     Fusion   mechanical   black          216828   \n\n       year_produced engine_fuel  engine_has_gas engine_type  engine_capacity  \\\n9484            2009    gasoline           False    gasoline              1.4   \n9518            2007    gasoline           False    gasoline              1.6   \n9551            2016    gasoline           False    gasoline              1.5   \n9579            2005      diesel           False      diesel              1.4   \n9590            2011    gasoline           False    gasoline              1.4   \n...              ...         ...             ...         ...              ...   \n11965           2008    gasoline           False    gasoline              1.4   \n11985           2015    gasoline           False    gasoline              1.5   \n11986           2013    gasoline           False    gasoline              1.5   \n11993           2015    gasoline           False    gasoline              1.5   \n12027           2008    gasoline           False    gasoline              1.6   \n\n       ... feature_1  feature_2 feature_3 feature_4  feature_5  feature_6  \\\n9484   ...      True      False     False     False      False      False   \n9518   ...      True      False     False     False      False      False   \n9551   ...      True      False      True      True       True       True   \n9579   ...      True      False     False     False      False      False   \n9590   ...      True      False     False     False      False      False   \n...    ...       ...        ...       ...       ...        ...        ...   \n11965  ...      True      False     False     False      False      False   \n11985  ...      True      False     False     False      False      False   \n11986  ...      True      False      True     False      False      False   \n11993  ...      True       True      True      True       True       True   \n12027  ...      True      False     False     False       True      False   \n\n      feature_7  feature_8  feature_9  duration_listed  \n9484      False      False      False              139  \n9518      False      False      False                6  \n9551       True       True       True               78  \n9579      False      False       True               57  \n9590      False      False      False               17  \n...         ...        ...        ...              ...  \n11965     False      False       True              157  \n11985      True       True       True              172  \n11986      True       True       True              173  \n11993      True       True       True              183  \n12027      True      False      False              357  \n\n[142 rows x 30 columns]",
      "text/html": "<div>\n<style scoped>\n    .dataframe tbody tr th:only-of-type {\n        vertical-align: middle;\n    }\n\n    .dataframe tbody tr th {\n        vertical-align: top;\n    }\n\n    .dataframe thead th {\n        text-align: right;\n    }\n</style>\n<table border=\"1\" class=\"dataframe\">\n  <thead>\n    <tr style=\"text-align: right;\">\n      <th></th>\n      <th>manufacturer_name</th>\n      <th>model_name</th>\n      <th>transmission</th>\n      <th>color</th>\n      <th>odometer_value</th>\n      <th>year_produced</th>\n      <th>engine_fuel</th>\n      <th>engine_has_gas</th>\n      <th>engine_type</th>\n      <th>engine_capacity</th>\n      <th>...</th>\n      <th>feature_1</th>\n      <th>feature_2</th>\n      <th>feature_3</th>\n      <th>feature_4</th>\n      <th>feature_5</th>\n      <th>feature_6</th>\n      <th>feature_7</th>\n      <th>feature_8</th>\n      <th>feature_9</th>\n      <th>duration_listed</th>\n    </tr>\n  </thead>\n  <tbody>\n    <tr>\n      <th>9484</th>\n      <td>Ford</td>\n      <td>Fusion</td>\n      <td>automatic</td>\n      <td>silver</td>\n      <td>350000</td>\n      <td>2009</td>\n      <td>gasoline</td>\n      <td>False</td>\n      <td>gasoline</td>\n      <td>1.4</td>\n      <td>...</td>\n      <td>True</td>\n      <td>False</td>\n      <td>False</td>\n      <td>False</td>\n      <td>False</td>\n      <td>False</td>\n      <td>False</td>\n      <td>False</td>\n      <td>False</td>\n      <td>139</td>\n    </tr>\n    <tr>\n      <th>9518</th>\n      <td>Ford</td>\n      <td>Fusion</td>\n      <td>mechanical</td>\n      <td>blue</td>\n      <td>167000</td>\n      <td>2007</td>\n      <td>gasoline</td>\n      <td>False</td>\n      <td>gasoline</td>\n      <td>1.6</td>\n      <td>...</td>\n      <td>True</td>\n      <td>False</td>\n      <td>False</td>\n      <td>False</td>\n      <td>False</td>\n      <td>False</td>\n      <td>False</td>\n      <td>False</td>\n      <td>False</td>\n      <td>6</td>\n    </tr>\n    <tr>\n      <th>9551</th>\n      <td>Ford</td>\n      <td>Fusion</td>\n      <td>automatic</td>\n      <td>blue</td>\n      <td>90000</td>\n      <td>2016</td>\n      <td>gasoline</td>\n      <td>False</td>\n      <td>gasoline</td>\n      <td>1.5</td>\n      <td>...</td>\n      <td>True</td>\n      <td>False</td>\n      <td>True</td>\n      <td>True</td>\n      <td>True</td>\n      <td>True</td>\n      <td>True</td>\n      <td>True</td>\n      <td>True</td>\n      <td>78</td>\n    </tr>\n    <tr>\n      <th>9579</th>\n      <td>Ford</td>\n      <td>Fusion</td>\n      <td>mechanical</td>\n      <td>silver</td>\n      <td>224520</td>\n      <td>2005</td>\n      <td>diesel</td>\n      <td>False</td>\n      <td>diesel</td>\n      <td>1.4</td>\n      <td>...</td>\n      <td>True</td>\n      <td>False</td>\n      <td>False</td>\n      <td>False</td>\n      <td>False</td>\n      <td>False</td>\n      <td>False</td>\n      <td>False</td>\n      <td>True</td>\n      <td>57</td>\n    </tr>\n    <tr>\n      <th>9590</th>\n      <td>Ford</td>\n      <td>Fusion</td>\n      <td>mechanical</td>\n      <td>blue</td>\n      <td>369580</td>\n      <td>2011</td>\n      <td>gasoline</td>\n      <td>False</td>\n      <td>gasoline</td>\n      <td>1.4</td>\n      <td>...</td>\n      <td>True</td>\n      <td>False</td>\n      <td>False</td>\n      <td>False</td>\n      <td>False</td>\n      <td>False</td>\n      <td>False</td>\n      <td>False</td>\n      <td>False</td>\n      <td>17</td>\n    </tr>\n    <tr>\n      <th>...</th>\n      <td>...</td>\n      <td>...</td>\n      <td>...</td>\n      <td>...</td>\n      <td>...</td>\n      <td>...</td>\n      <td>...</td>\n      <td>...</td>\n      <td>...</td>\n      <td>...</td>\n      <td>...</td>\n      <td>...</td>\n      <td>...</td>\n      <td>...</td>\n      <td>...</td>\n      <td>...</td>\n      <td>...</td>\n      <td>...</td>\n      <td>...</td>\n      <td>...</td>\n      <td>...</td>\n    </tr>\n    <tr>\n      <th>11965</th>\n      <td>Ford</td>\n      <td>Fusion</td>\n      <td>mechanical</td>\n      <td>silver</td>\n      <td>222000</td>\n      <td>2008</td>\n      <td>gasoline</td>\n      <td>False</td>\n      <td>gasoline</td>\n      <td>1.4</td>\n      <td>...</td>\n      <td>True</td>\n      <td>False</td>\n      <td>False</td>\n      <td>False</td>\n      <td>False</td>\n      <td>False</td>\n      <td>False</td>\n      <td>False</td>\n      <td>True</td>\n      <td>157</td>\n    </tr>\n    <tr>\n      <th>11985</th>\n      <td>Ford</td>\n      <td>Fusion</td>\n      <td>automatic</td>\n      <td>silver</td>\n      <td>26000</td>\n      <td>2015</td>\n      <td>gasoline</td>\n      <td>False</td>\n      <td>gasoline</td>\n      <td>1.5</td>\n      <td>...</td>\n      <td>True</td>\n      <td>False</td>\n      <td>False</td>\n      <td>False</td>\n      <td>False</td>\n      <td>False</td>\n      <td>True</td>\n      <td>True</td>\n      <td>True</td>\n      <td>172</td>\n    </tr>\n    <tr>\n      <th>11986</th>\n      <td>Ford</td>\n      <td>Fusion</td>\n      <td>automatic</td>\n      <td>white</td>\n      <td>52000</td>\n      <td>2013</td>\n      <td>gasoline</td>\n      <td>False</td>\n      <td>gasoline</td>\n      <td>1.5</td>\n      <td>...</td>\n      <td>True</td>\n      <td>False</td>\n      <td>True</td>\n      <td>False</td>\n      <td>False</td>\n      <td>False</td>\n      <td>True</td>\n      <td>True</td>\n      <td>True</td>\n      <td>173</td>\n    </tr>\n    <tr>\n      <th>11993</th>\n      <td>Ford</td>\n      <td>Fusion</td>\n      <td>automatic</td>\n      <td>silver</td>\n      <td>91000</td>\n      <td>2015</td>\n      <td>gasoline</td>\n      <td>False</td>\n      <td>gasoline</td>\n      <td>1.5</td>\n      <td>...</td>\n      <td>True</td>\n      <td>True</td>\n      <td>True</td>\n      <td>True</td>\n      <td>True</td>\n      <td>True</td>\n      <td>True</td>\n      <td>True</td>\n      <td>True</td>\n      <td>183</td>\n    </tr>\n    <tr>\n      <th>12027</th>\n      <td>Ford</td>\n      <td>Fusion</td>\n      <td>mechanical</td>\n      <td>black</td>\n      <td>216828</td>\n      <td>2008</td>\n      <td>gasoline</td>\n      <td>False</td>\n      <td>gasoline</td>\n      <td>1.6</td>\n      <td>...</td>\n      <td>True</td>\n      <td>False</td>\n      <td>False</td>\n      <td>False</td>\n      <td>True</td>\n      <td>False</td>\n      <td>True</td>\n      <td>False</td>\n      <td>False</td>\n      <td>357</td>\n    </tr>\n  </tbody>\n</table>\n<p>142 rows × 30 columns</p>\n</div>"
     },
     "metadata": {}
    }
   ]
  },
  {
   "cell_type": "code",
   "source": "ff_df.columns",
   "metadata": {
    "cell_id": "29351482-7eaa-462b-821c-e6eeca37da17",
    "tags": [],
    "deepnote_to_be_reexecuted": false,
    "source_hash": "6f046e67",
    "execution_start": 1644389755964,
    "execution_millis": 7,
    "deepnote_output_heights": [
     156
    ],
    "deepnote_cell_type": "code"
   },
   "outputs": [
    {
     "output_type": "execute_result",
     "execution_count": 17,
     "data": {
      "text/plain": "Index(['manufacturer_name', 'model_name', 'transmission', 'color',\n       'odometer_value', 'year_produced', 'engine_fuel', 'engine_has_gas',\n       'engine_type', 'engine_capacity', 'body_type', 'has_warranty', 'state',\n       'drivetrain', 'price_usd', 'is_exchangeable', 'location_region',\n       'number_of_photos', 'up_counter', 'feature_0', 'feature_1', 'feature_2',\n       'feature_3', 'feature_4', 'feature_5', 'feature_6', 'feature_7',\n       'feature_8', 'feature_9', 'duration_listed'],\n      dtype='object')"
     },
     "metadata": {}
    }
   ],
   "execution_count": 17
  },
  {
   "cell_type": "code",
   "source": "sns.histplot(ff_df, x='price_usd',hue='year_produced')",
   "metadata": {
    "cell_id": "10d8ee91-b10c-43ed-9994-d997de571c60",
    "tags": [],
    "deepnote_to_be_reexecuted": false,
    "source_hash": "dc50b954",
    "execution_start": 1644389837638,
    "execution_millis": 2092,
    "deepnote_output_heights": [
     21.1875,
     297
    ],
    "deepnote_cell_type": "code"
   },
   "outputs": [
    {
     "output_type": "execute_result",
     "execution_count": 18,
     "data": {
      "text/plain": "<AxesSubplot:xlabel='price_usd', ylabel='Count'>"
     },
     "metadata": {}
    },
    {
     "data": {
      "text/plain": "<Figure size 432x288 with 1 Axes>",
      "image/png": "[encoded data removed]"
     },
     "metadata": {
      "needs_background": "light",
      "image/png": {
       "width": 392,
       "height": 295
      }
     },
     "output_type": "display_data"
    }
   ],
   "execution_count": 18
  },
  {
   "cell_type": "code",
   "source": "sns.histplot(ff_df, x='year_produced',hue='engine_type')",
   "metadata": {
    "cell_id": "0a784c7b-3f9a-42c2-b141-c1737ba8aa08",
    "tags": [],
    "deepnote_to_be_reexecuted": false,
    "source_hash": "91e71cd5",
    "execution_start": 1644390108609,
    "execution_millis": 557,
    "deepnote_output_heights": [
     21,
     265
    ],
    "deepnote_cell_type": "code"
   },
   "outputs": [
    {
     "output_type": "execute_result",
     "execution_count": 21,
     "data": {
      "text/plain": "<AxesSubplot:xlabel='year_produced', ylabel='Count'>"
     },
     "metadata": {}
    },
    {
     "data": {
      "text/plain": "<Figure size 432x288 with 1 Axes>",
      "image/png": "[encoded data removed]"
     },
     "metadata": {
      "needs_background": "light",
      "image/png": {
       "width": 382,
       "height": 263
      }
     },
     "output_type": "display_data"
    }
   ],
   "execution_count": 21
  },
  {
   "cell_type": "code",
   "source": "",
   "metadata": {
    "cell_id": "6691bb0c-dcbf-48ae-b115-b1f255b59e87",
    "tags": [],
    "deepnote_cell_type": "code"
   },
   "outputs": [],
   "execution_count": null
  },
  {
   "cell_type": "markdown",
   "source": "<a style='text-decoration:none;line-height:16px;display:flex;color:#5B5B62;padding:10px;justify-content:end;' href='https://deepnote.com?utm_source=created-in-deepnote-cell&projectId=9ad649ab-d4c1-4930-8346-1d4d9658532a' target=\"_blank\">\n<img alt='Created in deepnote.com' style='display:inline;max-height:16px;margin:0px;margin-right:7.5px;' src='data:image/svg+xml;base64,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' > </img>\nCreated in <span style='font-weight:600;margin-left:4px;'>Deepnote</span></a>",
   "metadata": {
    "tags": [],
    "created_in_deepnote_cell": true,
    "deepnote_cell_type": "markdown"
   }
  }
 ],
 "nbformat": 4,
 "nbformat_minor": 2,
 "metadata": {
  "orig_nbformat": 2,
  "deepnote": {
   "is_reactive": false
  },
  "deepnote_notebook_id": "1dffbb71-cf9d-425b-a437-981e9b2e6a9c",
  "deepnote_execution_queue": []
 }
}