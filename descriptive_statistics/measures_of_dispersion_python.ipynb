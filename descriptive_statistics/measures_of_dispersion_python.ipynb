{
 "cells": [
  {
   "cell_type": "code",
   "metadata": {
    "cell_id": "60f00283-6dc7-4912-bee3-4c075a6f0296",
    "tags": [],
    "deepnote_to_be_reexecuted": false,
    "source_hash": "3bc44cd8",
    "execution_start": 1645251832497,
    "execution_millis": 1428,
    "deepnote_cell_type": "code"
   },
   "source": "import pandas as pd\nimport matplotlib.pyplot as plt\nimport seaborn as sns",
   "execution_count": 1,
   "outputs": []
  },
  {
   "cell_type": "code",
   "metadata": {
    "cell_id": "64a5249e-b04b-4e5f-bac6-9c7f06f4e6ac",
    "tags": [],
    "deepnote_to_be_reexecuted": false,
    "source_hash": "f2d578bb",
    "execution_start": 1645251833928,
    "execution_millis": 174,
    "deepnote_cell_type": "code"
   },
   "source": "df = pd.read_csv('cars.csv')",
   "execution_count": 2,
   "outputs": []
  },
  {
   "cell_type": "markdown",
   "source": "- Standar Deviation",
   "metadata": {
    "cell_id": "159b09c0-f5d9-40b2-b3b5-214ce04f467e",
    "tags": [],
    "deepnote_cell_type": "markdown"
   }
  },
  {
   "cell_type": "code",
   "metadata": {
    "cell_id": "c9dfa3e8-25d2-4cdc-abb0-60a8c7655f11",
    "tags": [],
    "deepnote_to_be_reexecuted": false,
    "source_hash": "ceb22c35",
    "execution_start": 1645251834111,
    "execution_millis": 16,
    "deepnote_output_heights": [
     21.1875
    ],
    "deepnote_cell_type": "code"
   },
   "source": "df['price_usd'].std()",
   "execution_count": 3,
   "outputs": [
    {
     "output_type": "execute_result",
     "execution_count": 3,
     "data": {
      "text/plain": "6428.1520182029035"
     },
     "metadata": {}
    }
   ]
  },
  {
   "cell_type": "markdown",
   "source": "- Range",
   "metadata": {
    "cell_id": "51930900-dee6-4923-bb80-ef7e70c4e8ce",
    "tags": [],
    "deepnote_cell_type": "markdown"
   }
  },
  {
   "cell_type": "code",
   "metadata": {
    "cell_id": "ac78b940-ae88-4e4d-a32b-fab4eef59b07",
    "tags": [],
    "deepnote_to_be_reexecuted": false,
    "source_hash": "355a3d",
    "execution_start": 1645251834128,
    "execution_millis": 10,
    "deepnote_output_heights": [
     21.1875
    ],
    "deepnote_cell_type": "code"
   },
   "source": "range_ = df['price_usd'].max() - df['price_usd'].min()\nrange_",
   "execution_count": 4,
   "outputs": [
    {
     "output_type": "execute_result",
     "execution_count": 4,
     "data": {
      "text/plain": "49999.0"
     },
     "metadata": {}
    }
   ]
  },
  {
   "cell_type": "markdown",
   "source": "- Quartiles",
   "metadata": {
    "cell_id": "68c622cb-7e96-40e2-9ccc-5c03d559d68e",
    "tags": [],
    "deepnote_cell_type": "markdown"
   }
  },
  {
   "cell_type": "code",
   "metadata": {
    "cell_id": "163265ae-647b-4873-866d-5bb29cd9c93a",
    "tags": [],
    "deepnote_to_be_reexecuted": false,
    "source_hash": "3bb7ba22",
    "execution_start": 1645251834141,
    "execution_millis": 45,
    "deepnote_cell_type": "code"
   },
   "source": "median = df['price_usd'].median()\nQ1 = df['price_usd'].quantile(q=0.25)\nQ3 = df['price_usd'].quantile(q=0.75)\nmin_val = df['price_usd'].quantile(q=0)\nmax_val = df['price_usd'].quantile(q=1)\nprint(min_val, Q1, median, Q3, max_val )",
   "execution_count": 5,
   "outputs": [
    {
     "name": "stdout",
     "text": "1.0 2100.0 4800.0 8990.0 50000.0\n",
     "output_type": "stream"
    }
   ]
  },
  {
   "cell_type": "code",
   "source": "df_mean = df['price_usd'].mean()\ndf_mean",
   "metadata": {
    "cell_id": "66bdf142-199e-441b-b3c3-eee5fb38cc26",
    "tags": [],
    "deepnote_to_be_reexecuted": false,
    "source_hash": "906f27fa",
    "execution_start": 1645251890980,
    "execution_millis": 1,
    "deepnote_cell_type": "code"
   },
   "outputs": [
    {
     "output_type": "execute_result",
     "execution_count": 12,
     "data": {
      "text/plain": "6639.971021255613"
     },
     "metadata": {}
    }
   ],
   "execution_count": 12
  },
  {
   "cell_type": "code",
   "metadata": {
    "cell_id": "766f8206-f93e-43d2-ba1b-a4dc2e73a823",
    "tags": [],
    "deepnote_to_be_reexecuted": false,
    "source_hash": "d7c7003b",
    "execution_start": 1645251834182,
    "execution_millis": 5,
    "deepnote_output_heights": [
     21.1875
    ],
    "deepnote_cell_type": "code"
   },
   "source": "IQR = Q3 - Q1\nIQR",
   "execution_count": 6,
   "outputs": [
    {
     "output_type": "execute_result",
     "execution_count": 6,
     "data": {
      "text/plain": "6890.0"
     },
     "metadata": {}
    }
   ]
  },
  {
   "cell_type": "markdown",
   "source": "### Idenifying outliers (Simetrically Distributed Data)\n\nDatos entre $$Q_1 -1.5 \\times \\text{IQR}$$ y $$Q_3 + 1.5 \\times \\text{IQR}$$",
   "metadata": {
    "cell_id": "7f7b5efe-f50f-44fb-8645-fa74c8ac2c0e",
    "tags": [],
    "deepnote_cell_type": "markdown"
   }
  },
  {
   "cell_type": "code",
   "metadata": {
    "cell_id": "c688d907-b184-48c3-b0db-e14c70f9a6e5",
    "tags": [],
    "deepnote_to_be_reexecuted": false,
    "source_hash": "19c427ec",
    "execution_start": 1645251834183,
    "execution_millis": 6,
    "deepnote_cell_type": "code"
   },
   "source": "minlimit = Q1 - 1.5*IQR\nmaxlimit = Q3 + 1.5*IQR\n\nprint(f'minlimit outlier: {minlimit}')\nprint(f'maxlimit outlier: {maxlimit}')",
   "execution_count": 7,
   "outputs": [
    {
     "name": "stdout",
     "text": "minlimit outlier: -8235.0\nmaxlimit outlier: 19325.0\n",
     "output_type": "stream"
    }
   ]
  },
  {
   "cell_type": "markdown",
   "source": "- it doesn't make any sense that one of the outliers limit is a negative value, therfore we don't have a symetrical distribution",
   "metadata": {
    "cell_id": "409f0b3e-a93d-4025-a739-19cc12ce830a",
    "tags": [],
    "deepnote_cell_type": "markdown"
   }
  },
  {
   "cell_type": "markdown",
   "source": "## Box Plot and Distribution",
   "metadata": {
    "cell_id": "ea41b794-f464-4855-a270-5b91e9c8ec99",
    "tags": [],
    "deepnote_cell_type": "markdown"
   }
  },
  {
   "cell_type": "code",
   "metadata": {
    "cell_id": "4da1ac5a-8bed-4444-abe2-7727a7a9dd9f",
    "tags": [],
    "deepnote_to_be_reexecuted": false,
    "source_hash": "17d9c872",
    "execution_start": 1645251834244,
    "execution_millis": 788,
    "deepnote_output_heights": [
     21.1875,
     265
    ],
    "deepnote_cell_type": "code"
   },
   "source": "sns.histplot(df['price_usd'])",
   "execution_count": 8,
   "outputs": [
    {
     "output_type": "execute_result",
     "execution_count": 8,
     "data": {
      "text/plain": "<AxesSubplot:xlabel='price_usd', ylabel='Count'>"
     },
     "metadata": {}
    },
    {
     "data": {
      "text/plain": "<Figure size 432x288 with 1 Axes>",
      "image/png": "[encoded data removed]"
     },
     "metadata": {
      "needs_background": "light",
      "image/png": {
       "width": 395,
       "height": 263
      }
     },
     "output_type": "display_data"
    }
   ]
  },
  {
   "cell_type": "code",
   "metadata": {
    "cell_id": "3a3b4b71-ee03-4f88-b946-b7db58671863",
    "tags": [],
    "deepnote_to_be_reexecuted": false,
    "source_hash": "658357b0",
    "execution_start": 1645251834668,
    "execution_millis": 370,
    "deepnote_output_heights": [
     null,
     21.1875,
     265
    ],
    "deepnote_cell_type": "code"
   },
   "source": "sns.boxplot(df['price_usd'])",
   "execution_count": 9,
   "outputs": [
    {
     "name": "stderr",
     "text": "/shared-libs/python3.7/py/lib/python3.7/site-packages/seaborn/_decorators.py:43: FutureWarning: Pass the following variable as a keyword arg: x. From version 0.12, the only valid positional argument will be `data`, and passing other arguments without an explicit keyword will result in an error or misinterpretation.\n  FutureWarning\n",
     "output_type": "stream"
    },
    {
     "output_type": "execute_result",
     "execution_count": 9,
     "data": {
      "text/plain": "<AxesSubplot:xlabel='price_usd'>"
     },
     "metadata": {}
    },
    {
     "data": {
      "text/plain": "<Figure size 432x288 with 1 Axes>",
      "image/png": "[encoded data removed]"
     },
     "metadata": {
      "needs_background": "light",
      "image/png": {
       "width": 353,
       "height": 263
      }
     },
     "output_type": "display_data"
    }
   ]
  },
  {
   "cell_type": "markdown",
   "source": "### Box Plot to represent categorical values",
   "metadata": {
    "cell_id": "fa780597-55c1-4252-923b-f8f04d196c3f",
    "tags": [],
    "deepnote_cell_type": "markdown"
   }
  },
  {
   "cell_type": "code",
   "metadata": {
    "cell_id": "dbbd29bb-1412-4604-9c56-c8f81147a2f9",
    "tags": [],
    "deepnote_to_be_reexecuted": false,
    "source_hash": "692967b0",
    "execution_start": 1645251834826,
    "execution_millis": 276,
    "deepnote_output_heights": [
     21.1875,
     428
    ],
    "deepnote_cell_type": "code"
   },
   "source": "plt.subplots(figsize=(10,7))\nsns.boxplot(x='engine_fuel', y='price_usd', data = df)",
   "execution_count": 10,
   "outputs": [
    {
     "output_type": "execute_result",
     "execution_count": 10,
     "data": {
      "text/plain": "<AxesSubplot:xlabel='engine_fuel', ylabel='price_usd'>"
     },
     "metadata": {}
    },
    {
     "data": {
      "text/plain": "<Figure size 720x504 with 1 Axes>",
      "image/png": "[encoded data removed]"
     },
     "metadata": {
      "needs_background": "light",
      "image/png": {
       "width": 625,
       "height": 426
      }
     },
     "output_type": "display_data"
    }
   ]
  },
  {
   "cell_type": "code",
   "metadata": {
    "cell_id": "4b852736-8c62-48ec-82c1-73a6f214ffb7",
    "tags": [],
    "deepnote_to_be_reexecuted": false,
    "source_hash": "b623e53d",
    "execution_start": 1645251835148,
    "execution_millis": 0,
    "deepnote_cell_type": "code"
   },
   "source": "",
   "execution_count": 10,
   "outputs": []
  },
  {
   "cell_type": "markdown",
   "source": "<a style='text-decoration:none;line-height:16px;display:flex;color:#5B5B62;padding:10px;justify-content:end;' href='https://deepnote.com?utm_source=created-in-deepnote-cell&projectId=9ad649ab-d4c1-4930-8346-1d4d9658532a' target=\"_blank\">\n<img alt='Created in deepnote.com' style='display:inline;max-height:16px;margin:0px;margin-right:7.5px;' src='data:image/svg+xml;base64,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' > </img>\nCreated in <span style='font-weight:600;margin-left:4px;'>Deepnote</span></a>",
   "metadata": {
    "tags": [],
    "created_in_deepnote_cell": true,
    "deepnote_cell_type": "markdown"
   }
  }
 ],
 "nbformat": 4,
 "nbformat_minor": 2,
 "metadata": {
  "orig_nbformat": 2,
  "deepnote": {
   "is_reactive": false
  },
  "deepnote_notebook_id": "69541178-71dc-4315-8afc-e7565f72ccc4",
  "deepnote_execution_queue": []
 }
}