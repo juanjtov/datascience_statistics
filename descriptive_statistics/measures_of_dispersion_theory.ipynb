{
 "cells": [
  {
   "cell_type": "markdown",
   "source": "# Measures of DIspersion",
   "metadata": {
    "tags": [],
    "cell_id": "df1a31dd-ce56-4f40-bc25-7919017a10c3",
    "deepnote_cell_type": "markdown"
   }
  },
  {
   "cell_type": "markdown",
   "source": "## Range and Interquartile Range",
   "metadata": {
    "cell_id": "d718236b-0925-4444-af4e-7f6b94884665",
    "tags": [],
    "deepnote_cell_type": "markdown"
   }
  },
  {
   "cell_type": "markdown",
   "source": "- Range: Distance between the minimum and the maximum value.\n- Quartiles: 4 homogeneus subdivision which means that all the quartiles have the same amount of data. Therefore q2 is exactly the **median**.\n- Interquartile range (IQR): distance between q3 and q1.\n\n![picture](https://drive.google.com/uc?id=1tzp_3kRt2V9m1j6GJN1pm621jUjDPphZ)\n\n**NOTE: The bigger the interquartile range the bigger the dispersion of the data**",
   "metadata": {
    "cell_id": "df8a6975-aed1-458a-8ee7-cd06b593199c",
    "tags": [],
    "deepnote_cell_type": "markdown"
   }
  },
  {
   "cell_type": "markdown",
   "source": "## Standard Deviation\n\nBasically it represents how far is each point from the mean",
   "metadata": {
    "cell_id": "c8dbcd02-4997-4b50-82d7-854ac1abb387",
    "tags": [],
    "deepnote_cell_type": "markdown"
   }
  },
  {
   "cell_type": "markdown",
   "source": "### Mathematical Representation\n\n![picture](https://drive.google.com/uc?id=1rtXB_wEQ_tQgjQnaDMv6MB9X1rmpoQgO)\n\n- When the standard deviations is calculated for a sample instead of the population, the math equation is divided by N-1",
   "metadata": {
    "cell_id": "0c125fc9-8d5c-42de-8804-4f13618a3bfa",
    "tags": [],
    "deepnote_cell_type": "markdown"
   }
  },
  {
   "cell_type": "markdown",
   "source": "## Normal Distribution\n\n- We have a normal distribution when the mayority of the data are close to the mean value.\nIf our data follows a normal distribution, we can represent the dispersion metrics as follows:\n\n![picture](https://drive.google.com/uc?id=18hrTPLHmBdZIOQcs_VI2TOdp2GiFwDNq)",
   "metadata": {
    "cell_id": "61067578-12c8-40d9-a2a6-269a945a772a",
    "tags": [],
    "deepnote_cell_type": "markdown"
   }
  },
  {
   "cell_type": "markdown",
   "source": "## ASYMETRICAL DISTRIBUTION\n\n- We have to do a small modification of the way that we calculate the **outliers**.\n\n![picture](https://drive.google.com/uc?id=18UxABr4zmVdR43_Og_nn6NeHAp_kfJRr)",
   "metadata": {
    "cell_id": "d6111701-c0b5-46d0-9ced-ed28747c81e5",
    "tags": [],
    "deepnote_cell_type": "markdown"
   }
  },
  {
   "cell_type": "markdown",
   "source": "**Spanish Pro TIP**: Un error común es comparar la desviación estándar de dos variables que tienen escalas diferentes, en este ejemplo usaremos el edad y altura\n\nedad cumplida\nmedia = 24, desviación estándar = 2.5\n\naltura en centimentros\nmedia = 175, desviación estándar = 8\n\nComo vemos la desviación estándar de altura es mayor dado a su escala.\n\nLo correcto sería usar el coeficiente de variabilidad que es simplemente dividir la desviación estandar entre la media.\n\nedad\n2.5 / 24 = 0.1042.\n\naltura\n8 / 175 = 0.0457\n\nAhora ambas variables la podemos compara y concluimos que edad tiene una mayor variabilidad",
   "metadata": {
    "cell_id": "8fb86ba7-ba3c-455e-8419-ac804b64539b",
    "tags": [],
    "deepnote_cell_type": "markdown"
   }
  },
  {
   "cell_type": "markdown",
   "metadata": {
    "cell_id": "b45092ce-cf61-44a6-b76b-2517ab947065",
    "tags": [],
    "deepnote_cell_type": "markdown"
   },
   "source": "### Go deep with the box plots\n\n[Source](https://www.simplypsychology.org/boxplots.html#:~:text=In%20descriptive%20statistics%2C%20a%20box,(or%20percentiles)%20and%20averages.)",
   "execution_count": null
  },
  {
   "cell_type": "markdown",
   "source": "",
   "metadata": {
    "cell_id": "c7e8c835-9b7f-45e5-b51b-959949660864",
    "tags": [],
    "deepnote_cell_type": "markdown"
   }
  },
  {
   "cell_type": "markdown",
   "source": "<a style='text-decoration:none;line-height:16px;display:flex;color:#5B5B62;padding:10px;justify-content:end;' href='https://deepnote.com?utm_source=created-in-deepnote-cell&projectId=9ad649ab-d4c1-4930-8346-1d4d9658532a' target=\"_blank\">\n<img alt='Created in deepnote.com' style='display:inline;max-height:16px;margin:0px;margin-right:7.5px;' src='data:image/svg+xml;base64,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' > </img>\nCreated in <span style='font-weight:600;margin-left:4px;'>Deepnote</span></a>",
   "metadata": {
    "tags": [],
    "created_in_deepnote_cell": true,
    "deepnote_cell_type": "markdown"
   }
  }
 ],
 "nbformat": 4,
 "nbformat_minor": 2,
 "metadata": {
  "orig_nbformat": 2,
  "deepnote": {
   "is_reactive": false
  },
  "deepnote_notebook_id": "01e24850-0643-47f1-82a4-c1009ad4171c",
  "deepnote_execution_queue": []
 }
}